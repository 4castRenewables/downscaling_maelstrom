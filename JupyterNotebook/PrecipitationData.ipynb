{
 "cells": [
  {
   "cell_type": "code",
   "execution_count": 21,
   "id": "4e2740c5",
   "metadata": {},
   "outputs": [],
   "source": [
    "import xarray as xr\n",
    "import torch\n",
    "import matplotlib.pyplot as plt\n",
    "import numpy as np\n",
    "import pathlib"
   ]
  },
  {
   "cell_type": "code",
   "execution_count": 2,
   "id": "037b290f",
   "metadata": {},
   "outputs": [],
   "source": [
    "file_path = \"../main_scripts/preproc_ifs_radklim_2020-01.nc\""
   ]
  },
  {
   "cell_type": "code",
   "execution_count": 3,
   "id": "9096855e",
   "metadata": {},
   "outputs": [],
   "source": [
    "dt = xr.open_dataset(file_path)"
   ]
  },
  {
   "cell_type": "code",
   "execution_count": 17,
   "id": "3452e1fe",
   "metadata": {},
   "outputs": [],
   "source": [
    "# dt"
   ]
  },
  {
   "cell_type": "code",
   "execution_count": 5,
   "id": "082cdf7c",
   "metadata": {},
   "outputs": [],
   "source": [
    "vars_in = [\"cape_in\",\"tclw_in\",\"sp_in\",\"tcwv_in\",\"lsp_in\",\"cp_in\",\"tisr_in\",\"yw_hourly_in\"]"
   ]
  },
  {
   "cell_type": "code",
   "execution_count": 15,
   "id": "807258e0",
   "metadata": {},
   "outputs": [],
   "source": [
    "# dt[vars_in]"
   ]
  },
  {
   "cell_type": "code",
   "execution_count": 16,
   "id": "2a872208",
   "metadata": {},
   "outputs": [],
   "source": [
    "# #select the region that can be devided.\n",
    "# dt[vars_in].isel(lon=slice(2,114), lat=slice(1,93))"
   ]
  },
  {
   "cell_type": "code",
   "execution_count": 18,
   "id": "6c0be864",
   "metadata": {},
   "outputs": [],
   "source": [
    "# dt[vars_in].isel(lon=slice(2,114)).sel(lat=slice(47.5,60)).values"
   ]
  },
  {
   "cell_type": "code",
   "execution_count": 9,
   "id": "fb97cecb",
   "metadata": {},
   "outputs": [
    {
     "data": {
      "text/plain": [
       "94"
      ]
     },
     "execution_count": 9,
     "metadata": {},
     "output_type": "execute_result"
    }
   ],
   "source": [
    "dt[vars_in].dims[\"lat\"]"
   ]
  },
  {
   "cell_type": "code",
   "execution_count": 19,
   "id": "04976b6d",
   "metadata": {},
   "outputs": [],
   "source": [
    "# times = dt[\"time\"]\n",
    "# times.values"
   ]
  },
  {
   "cell_type": "code",
   "execution_count": 11,
   "id": "bf0235f8",
   "metadata": {},
   "outputs": [
    {
     "data": {
      "text/plain": [
       "94"
      ]
     },
     "execution_count": 11,
     "metadata": {},
     "output_type": "execute_result"
    }
   ],
   "source": [
    "dt[vars_in].dims[\"lat\"]"
   ]
  },
  {
   "cell_type": "code",
   "execution_count": 12,
   "id": "beeb1713",
   "metadata": {},
   "outputs": [
    {
     "data": {
      "text/plain": [
       "('time', 'lat_tar', 'lon_tar')"
      ]
     },
     "execution_count": 12,
     "metadata": {},
     "output_type": "execute_result"
    }
   ],
   "source": [
    "dt[\"yw_hourly_tar\"].isel(lon_tar=slice(16,113*10+6)).sel(lat_tar=slice(47.41,60)).dims"
   ]
  },
  {
   "cell_type": "code",
   "execution_count": 13,
   "id": "f74b4874",
   "metadata": {},
   "outputs": [],
   "source": [
    "# dt[\"lon\"].values[2:114]"
   ]
  },
  {
   "cell_type": "code",
   "execution_count": 14,
   "id": "df61ba7a",
   "metadata": {},
   "outputs": [],
   "source": [
    "#dt[\"lon_tar\"].values[(2-1)*10+6:113*10+6]"
   ]
  },
  {
   "cell_type": "code",
   "execution_count": null,
   "id": "6359b214",
   "metadata": {},
   "outputs": [
    {
     "name": "stdout",
     "output_type": "stream",
     "text": [
      "Total files [PosixPath('../main_scripts/preproc_ifs_radklim_2020-01.nc'), PosixPath('../main_scripts/preproc_ifs_radklim_2020-02.nc')]\n",
      "Loading file: ../main_scripts/preproc_ifs_radklim_2020-01.nc\n",
      "The input variables are initialized\n",
      "Original input shape: torch.Size([8, 744, 84, 112])\n",
      "Original output shape: torch.Size([744, 840, 1120])\n",
      "vars_in_patches after reshape: torch.Size([148800, 8, 16, 16])\n",
      "vars_output_patch torch.Size([744, 10, 20, 160, 160])\n",
      "vars_output_patch after reshape torch.Size([148800, 160, 160])\n"
     ]
    },
    {
     "data": {
      "image/png": "[encoded data removed]",
      "text/plain": [
       "<Figure size 432x288 with 1 Axes>"
      ]
     },
     "metadata": {
      "needs_background": "light"
     },
     "output_type": "display_data"
    },
    {
     "data": {
      "image/png": "[encoded data removed]",
      "text/plain": [
       "<Figure size 432x288 with 1 Axes>"
      ]
     },
     "metadata": {
      "needs_background": "light"
     },
     "output_type": "display_data"
    },
    {
     "name": "stdout",
     "output_type": "stream",
     "text": [
      "There are No. 72690 patches out of 148800 without Nan Values \n",
      "len of vars output 72690\n",
      "len of vars input 72690\n",
      "len of vars times 744\n",
      "Loading file: ../main_scripts/preproc_ifs_radklim_2020-02.nc\n",
      "The input variables are initialized\n",
      "Original input shape: torch.Size([8, 744, 84, 112])\n",
      "Original output shape: torch.Size([744, 840, 1120])\n",
      "vars_in_patches after reshape: torch.Size([148800, 8, 16, 16])\n",
      "vars_output_patch torch.Size([744, 10, 20, 160, 160])\n",
      "vars_output_patch after reshape torch.Size([148800, 160, 160])\n"
     ]
    },
    {
     "data": {
      "image/png": "[encoded data removed]",
      "text/plain": [
       "<Figure size 432x288 with 1 Axes>"
      ]
     },
     "metadata": {
      "needs_background": "light"
     },
     "output_type": "display_data"
    },
    {
     "data": {
      "image/png": "[encoded data removed]",
      "text/plain": [
       "<Figure size 432x288 with 1 Axes>"
      ]
     },
     "metadata": {
      "needs_background": "light"
     },
     "output_type": "display_data"
    },
    {
     "name": "stdout",
     "output_type": "stream",
     "text": [
      "There are No. 72690 patches out of 148800 without Nan Values \n"
     ]
    }
   ],
   "source": [
    "class PrecipDatasetInter(torch.utils.data.IterableDataset):\n",
    "    \"\"\"\n",
    "    This is the class used for generate dataset generator for precipitation downscaling\n",
    "    \"\"\"\n",
    "    def __init__(self, file_path: str = None, batch_size :int = 4, patch_size: int = 16 ,\n",
    "                vars_in: list = [\"cape_in\",\"tclw_in\",\"sp_in\",\"tcwv_in\",\"lsp_in\",\"cp_in\",\"tisr_in\",\"yw_hourly_in\"],\n",
    "                var_out: list = [\"yw_hourly_tar\"], sf: int = 10):\n",
    "        \"\"\"\n",
    "        patch_size: the patch size for low-resolution image, \n",
    "                    the corresponding high-resolution patch size should be muliply by scale factor (sf)\n",
    "        \"\"\"\n",
    "        \n",
    "        super(PrecipDatasetInter).__init__()\n",
    "        \n",
    "        self.patch_size = patch_size\n",
    "        self.sf = sf #scaling factor\n",
    "        self.vars_in = vars_in\n",
    "        self.var_out = var_out\n",
    "        self.stride = self.patch_size\n",
    "        \n",
    "\n",
    "        # Search for files\n",
    "        p = pathlib.Path( file_path)\n",
    "        assert(p.is_dir())\n",
    "        self.files = sorted(p.glob('*.nc'))\n",
    "        if len(self.files) < 1:\n",
    "            raise RuntimeError('No files found.')\n",
    "        print(\"Total files\",self.files)\n",
    "            \n",
    "        is_first = True \n",
    "        vars_in_patches_list = []\n",
    "        vars_out_patches_list = []\n",
    "        \n",
    "        for file in self.files:\n",
    "            vars_in_patches, vars_out_pathes = self.process_netcdf(file)\n",
    "            vars_in_patches_list.append(vars_in_patches)\n",
    "        \n",
    "        vars_in_patches_list = torch.utils.data.ConcatDataset(vars_in_patches_list)\n",
    "        print(\"Len of vars in\", vars_in_patches_list.shape)\n",
    "        \n",
    "    \n",
    "        \n",
    "          \n",
    "\n",
    "    \n",
    "    def process_netcdf(self, file: int = None):\n",
    "        \"\"\"\n",
    "        process one netcdf file: filter the Nan Values, split to patches \n",
    "        \"\"\"\n",
    "        print(\"Loading file:\", file)\n",
    "        dt = xr.open_dataset(file)\n",
    "        \n",
    "        #get input variables, and select the regions\n",
    "        inputs = dt[self.vars_in].isel(lon=slice(2,114)).sel(lat=slice(47.5,60))\n",
    "        output = dt[self.var_out].isel(lon_tar=slice(16,113*10+6)).sel(lat_tar=slice(47.41,60))\n",
    "        \n",
    "        n_lat = inputs[\"lat\"].values.shape[0]\n",
    "        n_lon = inputs[\"lon\"].values.shape[0]\n",
    "\n",
    "        assert inputs.dims[\"time\"] == output.dims[\"time\"]\n",
    "        assert inputs.dims[\"lat\"]* self.sf == output.dims[\"lat_tar\"]\n",
    "        \n",
    "        n_patches_x = int(np.floor(n_lon)/self.patch_size)\n",
    "        n_patches_y = int(np.floor(n_lat)/self.patch_size)\n",
    "        \n",
    "        #initialize the vars in after patch\n",
    "        self.vars_in_per_t = torch.zeros((inputs.dims[\"time\"], self.patch_size, self.patch_size, \n",
    "                                         n_patches_x, n_patches_y))\n",
    "        \n",
    "        print(\"The input variables are initialized\")\n",
    "        \n",
    "        da_in = torch.from_numpy(inputs.to_array(dim = \"variables\").squeeze().values)\n",
    "        da_out = torch.from_numpy(output.to_array(dim = \"variables\").squeeze().values)\n",
    "        times = inputs[\"time\"].values #get the timestamps\n",
    "        print(\"Original input shape:\", da_in.shape)\n",
    "        print(\"Original output shape:\", da_out.shape)\n",
    "        \n",
    "        #split into small patches, the return dim are [vars, samples,n_patch_x, n_patch_y, patch_size]\n",
    "        vars_in_patches = da_in.unfold(2, self.patch_size, n_patches_x).unfold(3, self.patch_size,n_patches_y)\n",
    "        vars_in_patches_shape = list(vars_in_patches.shape) \n",
    "        vars_in_patches = torch.reshape(vars_in_patches, [vars_in_patches_shape[0],\n",
    "                                        vars_in_patches_shape[1]*vars_in_patches_shape[2]*vars_in_patches_shape[3], \n",
    "                                        vars_in_patches_shape[4],vars_in_patches_shape[5]])\n",
    "        vars_in_patches = torch.transpose(vars_in_patches,0,1)\n",
    "        print(\"vars_in_patches after reshape:\",vars_in_patches.shape)\n",
    "        \n",
    "        \n",
    "    \n",
    "        vars_out_patches = da_out.unfold(1, self.patch_size*self.sf, \n",
    "                                            n_patches_x*self.sf).unfold(2, \n",
    "                                                                        self.patch_size*self.sf,\n",
    "                                                                        n_patches_y*self.sf)\n",
    "        print(\"vars_output_patch\",vars_out_patches.shape)\n",
    "        vars_out_patches_shape = list(vars_out_patches.shape)\n",
    "        vars_out_patches = torch.reshape(vars_out_patches,\n",
    "                                         [vars_out_patches_shape[0]*vars_out_patches_shape[1]*vars_out_patches_shape[2],\n",
    "                                         vars_out_patches_shape[3],vars_out_patches_shape[4]])\n",
    "        \n",
    "        print(\"vars_output_patch after reshape\",vars_out_patches.shape)\n",
    "            \n",
    "#         plt.imshow(da_in[-1,0,:,:])\n",
    "#         plt.show()\n",
    "        \n",
    "#         plt.imshow(da_out[0])\n",
    "#         plt.show()\n",
    "      \n",
    "        no_nan_idx = []\n",
    "        \n",
    "        #get the indx if there any nan in the sample\n",
    "        [no_nan_idx.append(i) for i in range(vars_out_patches.shape[0]) if not torch.isnan(vars_out_patches[i]).any()]\n",
    "        \n",
    "        print(\"There are No. {} patches out of {} without Nan Values \".format(len(no_nan_idx), len(vars_out_patches)))\n",
    "        \n",
    "        #change the index from List to LongTensor type \n",
    "        no_nan_idx = torch.LongTensor(no_nan_idx)\n",
    " \n",
    "        #Only get the patch that without NaN values   \n",
    "        vars_out_pathes_no_nan = torch.index_select(vars_out_patches, 0, no_nan_idx)         \n",
    "        vars_in_patches_no_nan = torch.index_select(vars_in_patches, 0, no_nan_idx)\n",
    "        assert len(vars_out_pathes_no_nan) == len(vars_in_patches_no_nan)\n",
    "        \n",
    "        print(\"len of vars output\", len(vars_out_pathes_no_nan))\n",
    "        print(\"len of vars input\", len(vars_in_patches_no_nan))\n",
    "        print(\"len of vars times\", len(times))\n",
    "        \n",
    "        return vars_in_patches_no_nan, vars_out_pathes_no_nan\n",
    "     \n",
    "        \n",
    "        \n",
    "    def __iter__(self):\n",
    "        iter_start, iter_end = 0, 771 #todo\n",
    "        \n",
    "        for bidx in range(iter_start, iter_end):\n",
    "            \n",
    "            x = torch.zeros(self.batch_size, self.num_tokens, self.num_tokens_y, \n",
    "                           self.tok_size, self.tok_size, self.nvars)\n",
    "    \n",
    "        \n",
    "           \n",
    "def run():\n",
    "    data_loader = PrecipDatasetInter(file_path = \"../main_scripts\")\n",
    "    \n",
    "\n",
    "run()\n"
   ]
  },
  {
   "cell_type": "code",
   "execution_count": null,
   "id": "9e8efb45",
   "metadata": {},
   "outputs": [],
   "source": [
    "file_path = \"../main_scripts/preproc_ifs_radklim_2020-01.nc\"\n",
    "dt = xr.open_dataset(file_path)\n"
   ]
  },
  {
   "cell_type": "code",
   "execution_count": null,
   "id": "4daae2b9",
   "metadata": {},
   "outputs": [],
   "source": [
    "\n",
    "fig, ax = plt.subplots(4, 4)\n",
    "for i in range(4):\n",
    "    for j in range(4):\n",
    "        sub_img = patches[:, i, j]\n",
    "        ax[i][j].imshow(to_pil_image(sub_img))\n",
    "        ax[i][j].axis('off')"
   ]
  },
  {
   "cell_type": "code",
   "execution_count": null,
   "id": "b124dd61",
   "metadata": {},
   "outputs": [],
   "source": [
    "multiformer_np_rng_seed = None\n",
    "# multiformer_np_rng_seed = 8392389\n",
    "multiformer_np_rng = np.random.default_rng( multiformer_np_rng_seed)\n",
    "multiformer_np_rng.permutation(20)\n"
   ]
  },
  {
   "cell_type": "code",
   "execution_count": null,
   "id": "dea68265",
   "metadata": {},
   "outputs": [],
   "source": []
  },
  {
   "cell_type": "code",
   "execution_count": null,
   "id": "65af1f77",
   "metadata": {},
   "outputs": [],
   "source": []
  }
 ],
 "metadata": {
  "kernelspec": {
   "display_name": "Python 3 (ipykernel)",
   "language": "python",
   "name": "python3"
  },
  "language_info": {
   "codemirror_mode": {
    "name": "ipython",
    "version": 3
   },
   "file_extension": ".py",
   "mimetype": "text/x-python",
   "name": "python",
   "nbconvert_exporter": "python",
   "pygments_lexer": "ipython3",
   "version": "3.8.12"
  }
 },
 "nbformat": 4,
 "nbformat_minor": 5
}
