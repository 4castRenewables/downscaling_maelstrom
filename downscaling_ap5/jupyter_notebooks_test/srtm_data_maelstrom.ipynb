{
 "cells": [
  {
   "cell_type": "markdown",
   "id": "83628a71",
   "metadata": {},
   "source": [
    "# SRTM data from Rasdaman\n",
    "\n",
    "## Important note\n",
    "The diagnosed bug in the data is **not** a bug. It is rather a product of a bug in the plotting routine (`create_mapplot`) which seems to be unsuitable for the coordinate ordering of the data at hand. This was noticed when the 'corrected' data was processed with CDO after which the data proved to be distorted. <br>\n",
    "The only thing to accomplish with the netCDF-file from Rasdaman is to attribute some attributes for the underlying coordinates. Specifically, the follwoing was done to get the desired file (`/p/project/deepacf/maelstrom/data/ap5/downscaling_ifs2radklim/srtm_data/topography_srtm_ifs2radklim.nc`). \n",
    "* cp topography_srtm.nc topography_srtm_cf.nc\n",
    "* ncatted -a axis,Lat,a,c,Y topography_srtm_cf.nc\n",
    "* ncatted -a standard_name,Lat,a,c,latitude topography_srtm_cf.nc\n",
    "* ncatted -a units,Lat,a,c,degrees_north topography_srtm_cf.nc\n",
    "* ncatted -a units,Lon,a,c,degrees_east topography_srtm_cf.nc\n",
    "* ncatted -a standard_name,Lon,a,c,longitude topography_srtm_cf.nc\n",
    "* ncatted -a axis,Lon,a,c,X topography_srtm_cf.nc\n",
    "* cdo -L setmisstoc,-0.5 -chname,Gray,surface_elevation topography_srtm_cf.nc topography_srtm_cf_oceanic.nc\n",
    "* cdo -L remapcon,ifs2radklim_grid topography_srtm_cf_oceanic.nc test2.nc\n",
    "* cdo -f nc2 copy topography_srtm_ifs2radklim.nc topography_srtm_ifs2radklim_nc2.nc\n",
    "* ncrename -d lon,lon_tar -v lon,lon_tar -d lat,lat_tar -v lat,lat_tar topography_srtm_ifs2radklim_nc2.nc\n",
    "* ncatted -a units,surface_elevation,o,c,m topography_srtm_ifs2radklim_nc2.nc\n",
    "* cdo -O -f nc4 copy test.nc topography_srtm_ifs2radklim.nc\n",
    "\n",
    "Note that the conversion to netCDF2 is required to avoid broken coordinate values after renaming the dimensions (see [here](https://sourceforge.net/p/nco/discussion/9830/thread/44038f3bda/)).\n",
    "\n",
    "## Notebook start (bug!)\n",
    "We start by loading some modules..."
   ]
  },
  {
   "cell_type": "code",
   "execution_count": null,
   "id": "b3d3078b-7fbb-4311-96a7-a306e844340c",
   "metadata": {},
   "outputs": [],
   "source": [
    "%matplotlib inline\n",
    "    \n",
    "# import modules\n",
    "import os, sys\n",
    "import datetime as dt\n",
    "import numpy as np\n",
    "import xarray as xr\n",
    "import pandas as pd\n",
    "# for plotting\n",
    "import matplotlib as mpl\n",
    "import matplotlib.cm                # needed on some machines... why ever?!\n",
    "import matplotlib.pyplot as plt\n",
    "import cartopy\n",
    "import cartopy.crs as ccrs"
   ]
  },
  {
   "cell_type": "markdown",
   "id": "fac25555",
   "metadata": {},
   "source": [
    "... and creating some auxiliary functions to plot the data."
   ]
  },
  {
   "cell_type": "code",
   "execution_count": null,
   "id": "1317f0eb",
   "metadata": {},
   "outputs": [],
   "source": [
    "def get_cmap_norm(col_obj, levels):\n",
    "    \"\"\"\n",
    "    Obtain norm from colormap with desired levels\n",
    "    :param levels: level boundaries\n",
    "    :return cmap: colormap-object\n",
    "    :return norm: normalization object corresponding to colormap and levels\n",
    "    \"\"\"\n",
    "    bounds = np.asarray(levels)\n",
    "\n",
    "    nbounds = len(bounds)\n",
    "\n",
    "    # create colormap and corresponding norm\n",
    "    cmap = mpl.colors.ListedColormap(col_obj, name=\"temp\" + \"_map\")\n",
    "    norm = mpl.colors.BoundaryNorm(bounds, cmap.N)\n",
    "\n",
    "    return cmap, norm\n",
    "\n",
    "\n",
    "def decorate_mapplot(ax_plot, plot_xlabel=True, plot_ylabel=True, **kwargs):\n",
    "    \"\"\"\n",
    "    Make a map-plot nicely looking by adding coastlines, country borders and also setting up the plot axes.\n",
    "    \"\"\"\n",
    "    fs = kwargs.get(\"fs\", 16) \n",
    "    coast_lw = kwargs.get(\"coast_lw\", 0.75)\n",
    "    country_lw = kwargs.get(\"country_lw\", 0.75)\n",
    "    domain_extent = kwargs.get(\"dom_extent\", [3.5, 16.5, 44.5, 54.]) \n",
    "    tick_spacing = kwargs.get(\"tick_spacing\", 5.)\n",
    "    \n",
    "\n",
    "    ax_plot.coastlines(linewidth=coast_lw)\n",
    "    ax_plot.coastlines(linewidth=coast_lw)\n",
    "    ax_plot.add_feature(cartopy.feature.BORDERS, linewidth=country_lw)\n",
    "\n",
    "    # adjust extent and ticks as well as axis-label\n",
    "    ax_plot.set_xticks(np.arange(0., 360. + 0.1, tick_spacing))  # ,crs=projection_crs)\n",
    "    ax_plot.set_yticks(np.arange(-90., 90. + 0.1, tick_spacing))  # ,crs=projection_crs)\n",
    "\n",
    "    ax_plot.set_extent(domain_extent)#, crs=prj_crs)\n",
    "    ax_plot.minorticks_on()\n",
    "    ax_plot.tick_params(axis=\"both\", which=\"both\", direction=\"out\", labelsize=fs-2)\n",
    "\n",
    "    # some labels\n",
    "    if plot_xlabel:\n",
    "        ax_plot.set_xlabel(\"Longitude [°E]\", fontsize=fs)\n",
    "    if plot_ylabel:\n",
    "        ax_plot.set_ylabel(\"Latitude [°N]\", fontsize=fs)\n",
    "\n",
    "    return ax_plot\n",
    "\n",
    "\n",
    "def create_mapplot(data: xr.DataArray, plt_fname: str, **kwargs):\n",
    "    \"\"\"\n",
    "    Plot geo-referenced data onto a map.\n",
    "    :param data: the geo-referenced data-array (xr.DataArray) to be plotted\n",
    "    :param plt_fname: name of plot-file to be created \n",
    "    :param kwargs: optional keyword arguments. Known keyword arguments are:\n",
    "                   spatial_dims: list of dimension names for spatial dimensions (default: [\"lat\", \"lon\"])\n",
    "                   dom_extent: domain extent where the four elements represent the domain corner in\n",
    "                               [west, east, south, north] direction (default: [3.5, 17.5, 44.5, 55.]) \n",
    "                   levels: levels-array for colour encoding the data (default: np.arange(-5., 25.1, 1.))\n",
    "                   title: Title of the plot which is extended by a time stamp (default: \"\")\n",
    "                   coast_lw: line width of coast lines on the map (default: 0.75)\n",
    "                   tick_spacing: spacing of x-/y-axis ticks in degree (default: 2.)\n",
    "                   projection_map: projection of the resulting map (default: ccrs.PlateCarree())\n",
    "                   fs: font size of title, axis-labels etc., fs of legend and tick will be smaller by 2 (default: 16)\n",
    "                   cmap: colormap-object obtained with mpl.cm.get_cmap (default: based on colormap \"PuOr_r\")\n",
    "                   \n",
    "    \"\"\"\n",
    "    # get optional keyword arguments or set default\n",
    "    spatial_dims = kwargs.get(\"spatial_dims\", [\"lat\", \"lon\"])\n",
    "    domain_extent = kwargs.get(\"dom_extent\", [3.5, 17.5, 44.5, 55.]) \n",
    "    levels = kwargs.get(\"levels\", np.arange(-5., 25.1, 1.))\n",
    "    title = kwargs.get(\"title\", \"\")\n",
    "    coast_lw = kwargs.get(\"coast_lw\", 0.75)\n",
    "    tick_spacing = kwargs.get(\"tick_spacing\", 2.)\n",
    "    data_unit = kwargs.get(\"unit\", \"\")\n",
    "    projection_map = kwargs.get(\"projection_map\", ccrs.PlateCarree())\n",
    "    projection_data = kwargs.get(\"projection_data\", ccrs.PlateCarree())\n",
    "    fs = kwargs.get(\"fs\", 16)\n",
    "    # finally obtain colormap-object which requires levels-information\n",
    "    lvl = np.asarray(levels)\n",
    "    nbounds = len(lvl)\n",
    "    cmap = kwargs.get(\"cmap\", mpl.cm.get_cmap(\"PuOr_r\")(np.linspace(0., 1., nbounds))) \n",
    "\n",
    "    # get coordinates and time stamp from data\n",
    "    try:\n",
    "        lon, lat = data[spatial_dims[0]].values, data[spatial_dims[1]].values\n",
    "    except Exception as err:\n",
    "        print(\"Failed to retrieve coordinates from data1\")\n",
    "        raise err\n",
    "    # construct array for edges of grid points\n",
    "    dy, dx = np.round((lat[1] - lat[0]), 7), np.round((lon[1] - lon[0]), 7)\n",
    "    lat_e, lon_e = np.arange(lat[0]-dy/2, lat[-1]+dy, dy), np.arange(lon[0]-dx/2, lon[-1]+dx, dx)\n",
    "\n",
    "    title = \"{0}\".format(title)\n",
    "    \n",
    "    print(\"To verify retrieved coordinates:\")\n",
    "    print(f\"Latitude of grid edges: {lat_e}\")\n",
    "    print(f\"Longitude of grid edges: {lon_e}\")\n",
    "    print(data)\n",
    "\n",
    "    # get colormap and corresponding norm\n",
    "    cmap, norm = get_cmap_norm(cmap, levels)\n",
    "    # create plot objects\n",
    "    fig, ax = plt.subplots(1, 1, figsize=(9, 6), subplot_kw={\"projection\": projection_map})\n",
    "\n",
    "    # perform plotting\n",
    "    map_plot = ax.pcolormesh(lon_e, lat_e, np.squeeze(data.values), cmap=cmap, norm=norm,\n",
    "                             transform=projection_data)\n",
    "\n",
    "    # make plot nice\n",
    "    ax = decorate_mapplot(ax, fs=fs, coast_lw=coast_lw, dom_extent=domain_extent, tick_spacing=tick_spacing)\n",
    "\n",
    "    ax.set_title(title, size=fs) \n",
    "\n",
    "    # add colorbar\n",
    "    cax = fig.add_axes([0.9, 0.2, 0.02, 0.6])\n",
    "    cbar = fig.colorbar(map_plot, cax=cax, orientation=\"vertical\", ticks=lvl[1::2])\n",
    "    cbar.ax.tick_params(labelsize=fs-2)\n",
    "    \n",
    "    # add unit-string\n",
    "    fig.text(0.92, 0.82, data_unit, fontsize=fs, horizontalalignment='center')\n",
    "    \n",
    "    # show and save plot to file\n",
    "    print(f\"Plot data to file '{plt_fname}.png'\")\n",
    "    \n",
    "    plt.show()\n",
    "    fig.savefig(plt_fname+\".png\", bbox_inches=\"tight\")\n",
    "    plt.close(fig)"
   ]
  },
  {
   "cell_type": "markdown",
   "id": "3ec543a1",
   "metadata": {},
   "source": [
    "Next, we read the retrieved SRTM datafile from disk:"
   ]
  },
  {
   "cell_type": "code",
   "execution_count": null,
   "id": "bccbecdb",
   "metadata": {},
   "outputs": [],
   "source": [
    "data_dir = \"/p/project/deepacf/maelstrom/data/\"\n",
    "fname_in = \"topography_srtm.nc\"\n",
    "\n",
    "# construct filenames\n",
    "fname_in = os.path.join(data_dir, fname_in)\n",
    "fname_out = fname_in.replace(\".nc\", \"_corr.nc\")\n",
    "\n",
    "# open datafile\n",
    "topo_ds = xr.open_dataset(fname_in)"
   ]
  },
  {
   "cell_type": "markdown",
   "id": "89913095",
   "metadata": {},
   "source": [
    "Lets's have a brief look on the dataset"
   ]
  },
  {
   "cell_type": "code",
   "execution_count": null,
   "id": "bf71fa19",
   "metadata": {},
   "outputs": [],
   "source": [
    "topo_ds[\"Gray\"]"
   ]
  },
  {
   "cell_type": "markdown",
   "id": "fdea6754",
   "metadata": {},
   "source": [
    "As the dataset is huge, we slice it to a smaller region for visulaization purposes:"
   ]
  },
  {
   "cell_type": "code",
   "execution_count": null,
   "id": "4b8741fe",
   "metadata": {},
   "outputs": [],
   "source": [
    "ncrop = 3000    # number of data points in lon- and lat-direction \n",
    "ist = 7000      # start index for slicing\n",
    "topo_ds_crop = topo_ds.isel({\"Lon\": slice(ist, ist+ncrop), \"Lat\": slice(ist, ist+ncrop)})"
   ]
  },
  {
   "cell_type": "code",
   "execution_count": null,
   "id": "0fdae26b",
   "metadata": {},
   "outputs": [],
   "source": [
    "print(topo_ds_crop)"
   ]
  },
  {
   "cell_type": "markdown",
   "id": "d58ffdf8",
   "metadata": {},
   "source": [
    "Then, we plot the data as it is after customizing the plot apparance."
   ]
  },
  {
   "cell_type": "code",
   "execution_count": null,
   "id": "4b2e14a7",
   "metadata": {},
   "outputs": [],
   "source": [
    "plt_name = fname_in.replace(\".nc\", \"_orig\")\n",
    "\n",
    "levels = [-100., 2., 10, 20, 30., 50., 70., 100., 150., 200., 250., 300., 400., 500., 1000.]\n",
    "cmap_obj = mpl.cm.get_cmap(\"terrain\")(np.linspace(0.2, 1., len(levels)))\n",
    "dom_extent = [5.5, 8.5, 51.5, 54.5]\n",
    "\n",
    "create_mapplot(topo_ds_crop[\"Gray\"], plt_name, levels=levels, cmap=cmap_obj, title=\"surface elevation\",\n",
    "               unit=\"m\", spatial_dims=[\"Lon\", \"Lat\"] ,dom_extent=dom_extent)"
   ]
  },
  {
   "cell_type": "markdown",
   "id": "fbec9a14",
   "metadata": {},
   "source": [
    "It's easily seen that the topograohy data looks weird (e.g. surface elevation of more than 50 m over the North Sea). However, it looks like that one just needs to rotate the contour plot by 90° in clockwise direction. <br>\n",
    "In the following, we will verify this:"
   ]
  },
  {
   "cell_type": "code",
   "execution_count": null,
   "id": "093f9820",
   "metadata": {},
   "outputs": [],
   "source": [
    "spatial_dims = [\"lon\", \"lat\"]\n",
    "# transpose the data while keeping the coordinate data as it is (apart from slightly renaming them)\n",
    "topo_da_new = xr.DataArray(topo_ds_crop[\"Gray\"].values.transpose(), dims=spatial_dims,\n",
    "                           coords={\"lon\": (\"lon\", topo_ds_crop[\"Lon\"].values), \n",
    "                                   \"lat\": (\"lat\", topo_ds_crop[\"Lat\"].values)}, \n",
    "                           attrs={\"units\": \"m\"}, name=\"surface_elevation\")\n"
   ]
  },
  {
   "cell_type": "markdown",
   "id": "e72eaf2e",
   "metadata": {},
   "source": [
    "Let's plot the transposed data array:"
   ]
  },
  {
   "cell_type": "code",
   "execution_count": null,
   "id": "5a6215b8",
   "metadata": {},
   "outputs": [],
   "source": [
    "create_mapplot(topo_da_new, plt_name.replace(\"_orig\", \"_transpose\"), levels=levels, cmap=cmap_obj, title=\"surface elevation\",\n",
    "               unit=topo_da_new.attrs[\"units\"], spatial_dims=spatial_dims, dom_extent=dom_extent)"
   ]
  },
  {
   "cell_type": "markdown",
   "id": "cb193fff",
   "metadata": {},
   "source": [
    "Et voila - That's looks much better!\n",
    "\n",
    "Finally, let's correct the data for further processing:"
   ]
  },
  {
   "cell_type": "code",
   "execution_count": null,
   "id": "873f50ff-2fdc-4d85-b135-93024fd6fb6e",
   "metadata": {},
   "outputs": [],
   "source": [
    "a= topo_ds[\"Gray\"]\n",
    "print(a.values)"
   ]
  },
  {
   "cell_type": "markdown",
   "id": "0beaf6a9-0cb1-4180-b4f0-1af848e7398c",
   "metadata": {},
   "source": [
    "To be able to transpose the data, we need to slice quadratic fields which must at the same time cover the target region. \n",
    "As can be deduced from the Figure below, the data must at least cover lon=[4..16.5] and lat=[46.5, 55.]. \n",
    "This is ensured with the following slicing on the data.\n",
    "\n",
    "![RADKLIM region](https://encrypted-tbn0.gstatic.com/images?q=tbn:ANd9GcTYuF895rjXlWKVVekTjQ_6gz7fQNRLfDTkdQ&usqp=CAU)"
   ]
  },
  {
   "cell_type": "code",
   "execution_count": null,
   "id": "0e3065a8-f98b-41db-9ef1-02aa7d47c004",
   "metadata": {},
   "outputs": [],
   "source": [
    "ncrop = 24000\n",
    "nstart = 4800\n",
    "\n",
    "topo_data = topo_ds[\"Gray\"].isel({\"Lon\": slice(nstart, nstart+ncrop)}).copy()\n",
    "\n",
    "topo_data = topo_data.fillna(-9999.)\n",
    "land_mask = xr.where(topo_data == -9999., 0, 1)\n",
    "topo_data = topo_data.where(topo_data > -9998., -0.5)"
   ]
  },
  {
   "cell_type": "markdown",
   "id": "12302a7e-541b-4cff-8045-543f7e4c310e",
   "metadata": {},
   "source": [
    "Next, we transpose the array:"
   ]
  },
  {
   "cell_type": "code",
   "execution_count": null,
   "id": "628a10ae-1663-4ad4-b525-08727232485f",
   "metadata": {},
   "outputs": [],
   "source": [
    "topo_data_new = xr.DataArray(topo_data.values.transpose(), dims=[\"lon\", \"lat\"],\n",
    "                             coords={\"lon\": (\"lon\", topo_data[\"Lon\"].values), \n",
    "                                     \"lat\": (\"lat\", topo_data[\"Lat\"].values)}, \n",
    "                             attrs={\"units\": \"m\"}, name=\"surface_elevation\")\n",
    "land_mask_new = xr.DataArray(land_mask.values.transpose(), dims=[\"lon\", \"lat\"],\n",
    "                             coords={\"lon\": (\"lon\", topo_data[\"Lon\"].values), \n",
    "                                     \"lat\": (\"lat\", topo_data[\"Lat\"].values)}, \n",
    "                             attrs={\"units\": \"m\"}, name=\"surface_elevation\")\n",
    "\n",
    "topo_data_new, land_mask_new = topo_data_new.transpose(\"lat\", \"lon\"), land_mask_new.transpose(\"lat\", \"lon\")\n",
    "\n",
    "ds_new = xr.Dataset({\"surface_elevation\": topo_data_new, \"land_sea_mask\": land_mask_new})"
   ]
  },
  {
   "cell_type": "code",
   "execution_count": null,
   "id": "092d74af-2b4b-4715-a788-b5f208912cbd",
   "metadata": {},
   "outputs": [],
   "source": [
    "print(ds_new)"
   ]
  },
  {
   "cell_type": "markdown",
   "id": "6bb87d73-bb3b-43ed-9291-260b2c8d3e7a",
   "metadata": {},
   "source": [
    "We also add some coordinate attributes to fulfill CF conventions (needed to process the data with CDO!)."
   ]
  },
  {
   "cell_type": "code",
   "execution_count": null,
   "id": "7394a63c-f3ca-4a7f-a679-368ec2887fa3",
   "metadata": {},
   "outputs": [],
   "source": [
    "ds_new[\"lon\"].attrs[\"standard_name\"] = \"longitude\"\n",
    "ds_new[\"lon\"].attrs[\"units\"] = \"degrees_east\"\n",
    "\n",
    "ds_new[\"lat\"].attrs[\"standard_name\"] = \"latitude\"\n",
    "ds_new[\"lat\"].attrs[\"units\"] = \"degrees_north\""
   ]
  },
  {
   "cell_type": "markdown",
   "id": "3cfc436a-0663-4922-9f68-785f87512778",
   "metadata": {},
   "source": [
    "Finally, we write the dataset into a netCDF-file."
   ]
  },
  {
   "cell_type": "code",
   "execution_count": null,
   "id": "a009dd68-59a9-486f-bf30-2915cadb3253",
   "metadata": {},
   "outputs": [],
   "source": [
    "if not os.path.isfile(fname_out):\n",
    "    print(f\"Write dataset (back) to netCDF-file '{fname_out}'\")\n",
    "    ds_new.to_netcdf(fname_out)\n",
    "else:\n",
    "    print(f\"File '{fname_out}' already exists. Remove it in case you want to obtain a new one.\")"
   ]
  },
  {
   "cell_type": "code",
   "execution_count": null,
   "id": "0ee1fe1c-8c9f-4edd-a706-e5475634d5c1",
   "metadata": {},
   "outputs": [],
   "source": [
    "nstart = 5500\n",
    "ncrop = 5000\n",
    "\n",
    "levels = [-100., 0., 10., 30, 50., 100., 200., 300., 500., 750., 1000., 1250., 1500., 2000., 2500.]\n",
    "\n",
    "create_mapplot(topo_data_new.isel({\"lon\": slice(nstart, nstart+ncrop), \"lat\": slice(nstart, nstart+ncrop)}), plt_name.replace(\"_orig\", \"_check\"), levels=levels, cmap=cmap_obj, title=\"surface elevation\",\n",
    "               unit=\"m\", spatial_dims=[\"lon\", \"lat\"] ,dom_extent=[8., 13., 55.5, 51.])"
   ]
  },
  {
   "cell_type": "code",
   "execution_count": null,
   "id": "916e8d54-24f0-4cb9-a292-3382f64466f9",
   "metadata": {},
   "outputs": [],
   "source": [
    "remapped_file = os.path.join(data_dir, \"topography_srtm_ifs2radklim.nc\")\n",
    "\n",
    "data_rem = xr.open_dataset(remapped_file)"
   ]
  },
  {
   "cell_type": "code",
   "execution_count": null,
   "id": "a79f89b1-887c-4123-a262-0786f400c8b5",
   "metadata": {},
   "outputs": [],
   "source": [
    "print(data_rem)"
   ]
  },
  {
   "cell_type": "code",
   "execution_count": null,
   "id": "19dcc59f-95b6-46e3-8c44-2ab00cbf9c00",
   "metadata": {},
   "outputs": [],
   "source": [
    "plt_name = os.path.join(data_dir, \"remapped_test\")\n",
    "\n",
    "create_mapplot(data_rem[\"surface_elevation\"], plt_name, levels=levels, cmap=cmap_obj, title=\"surface elevation\",\n",
    "               unit=\"m\", spatial_dims=[\"lon\", \"lat\"] ,dom_extent=[8., 13., 55.5, 51.])"
   ]
  },
  {
   "cell_type": "code",
   "execution_count": null,
   "id": "f7846980-ef18-4785-bead-3dc07434beec",
   "metadata": {},
   "outputs": [],
   "source": []
  }
 ],
 "metadata": {
  "kernelspec": {
   "display_name": "langguth1_downscaling_kernel_juwels",
   "language": "python",
   "name": "langguth1_downscaling_kernel_juwels"
  },
  "language_info": {
   "codemirror_mode": {
    "name": "ipython",
    "version": 3
   },
   "file_extension": ".py",
   "mimetype": "text/x-python",
   "name": "python",
   "nbconvert_exporter": "python",
   "pygments_lexer": "ipython3",
   "version": "3.9.6"
  }
 },
 "nbformat": 4,
 "nbformat_minor": 5
}
