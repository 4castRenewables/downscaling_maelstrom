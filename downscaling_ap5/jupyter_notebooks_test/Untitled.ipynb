{
 "cells": [
  {
   "cell_type": "code",
   "execution_count": 32,
   "id": "c553524a-af5a-4f3b-9aa1-c997a8f6497b",
   "metadata": {},
   "outputs": [
    {
     "name": "stdout",
     "output_type": "stream",
     "text": [
      "Defaulting to user installation because normal site-packages is not writeable\n",
      "Collecting tensorflow_datasets\n",
      "  Downloading tensorflow_datasets-4.6.0-py3-none-any.whl (4.3 MB)\n",
      "\u001b[K     |████████████████████████████████| 4.3 MB 12.6 MB/s eta 0:00:01\n",
      "\u001b[?25hCollecting tensorflow-metadata\n",
      "  Downloading tensorflow_metadata-1.10.0-py3-none-any.whl (50 kB)\n",
      "\u001b[K     |████████████████████████████████| 50 kB 5.0 MB/s s eta 0:00:01\n",
      "\u001b[?25hRequirement already satisfied: requests>=2.19.0 in /p/software/juwelsbooster/stages/2022/software/Python/3.9.6-GCCcore-11.2.0/lib/python3.9/site-packages (from tensorflow_datasets) (2.26.0)\n",
      "Requirement already satisfied: protobuf>=3.12.2 in /p/software/juwelsbooster/stages/2022/software/protobuf-python/3.17.3-GCCcore-11.2.0/lib/python3.9/site-packages (from tensorflow_datasets) (3.17.3)\n",
      "Requirement already satisfied: tqdm in /p/home/jusers/langguth1/juwels/.local/lib/python3.9/site-packages (from tensorflow_datasets) (4.62.3)\n",
      "Collecting etils[epath]\n",
      "  Downloading etils-0.7.1-py3-none-any.whl (124 kB)\n",
      "\u001b[K     |████████████████████████████████| 124 kB 138.7 MB/s eta 0:00:01\n",
      "\u001b[?25hCollecting promise\n",
      "  Downloading promise-2.3.tar.gz (19 kB)\n",
      "Requirement already satisfied: termcolor in /p/software/juwelsbooster/stages/2022/software/TensorFlow/2.6.0-gcccoremkl-11.2.0-2021.4.0-CUDA-11.5/lib/python3.9/site-packages (from tensorflow_datasets) (1.1.0)\n",
      "Requirement already satisfied: dill in /p/software/juwelsbooster/stages/2022/software/TensorFlow/2.6.0-gcccoremkl-11.2.0-2021.4.0-CUDA-11.5/lib/python3.9/site-packages (from tensorflow_datasets) (0.3.3)\n",
      "Requirement already satisfied: six in /p/project/deepacf/deeprain/langguth1/jupyter/kernels/langguth1_downscaling_kernel_juwels/lib/python3.9/site-packages (from tensorflow_datasets) (1.16.0)\n",
      "Requirement already satisfied: toml in /p/software/juwelsbooster/stages/2022/software/Python/3.9.6-GCCcore-11.2.0/lib/python3.9/site-packages (from tensorflow_datasets) (0.10.2)\n",
      "Requirement already satisfied: absl-py in /p/software/juwelsbooster/stages/2022/software/TensorFlow/2.6.0-gcccoremkl-11.2.0-2021.4.0-CUDA-11.5/lib/python3.9/site-packages (from tensorflow_datasets) (0.13.0)\n",
      "Requirement already satisfied: numpy in /p/software/juwelsbooster/stages/2022/software/SciPy-bundle/2021.10-gcccoremkl-11.2.0-2021.4.0/lib/python3.9/site-packages (from tensorflow_datasets) (1.21.3)\n",
      "Requirement already satisfied: charset-normalizer~=2.0.0 in /p/software/juwelsbooster/stages/2022/software/Python/3.9.6-GCCcore-11.2.0/lib/python3.9/site-packages (from requests>=2.19.0->tensorflow_datasets) (2.0.4)\n",
      "Requirement already satisfied: certifi>=2017.4.17 in /p/software/juwelsbooster/stages/2022/software/Python/3.9.6-GCCcore-11.2.0/lib/python3.9/site-packages (from requests>=2.19.0->tensorflow_datasets) (2021.5.30)\n",
      "Requirement already satisfied: urllib3<1.27,>=1.21.1 in /p/software/juwelsbooster/stages/2022/software/Python/3.9.6-GCCcore-11.2.0/lib/python3.9/site-packages (from requests>=2.19.0->tensorflow_datasets) (1.26.6)\n",
      "Requirement already satisfied: idna<4,>=2.5 in /p/software/juwelsbooster/stages/2022/software/Python/3.9.6-GCCcore-11.2.0/lib/python3.9/site-packages (from requests>=2.19.0->tensorflow_datasets) (3.2)\n",
      "Requirement already satisfied: typing_extensions in /p/software/juwelsbooster/stages/2022/software/typing-extensions/3.10.0.0-GCCcore-11.2.0/lib/python3.9/site-packages (from etils[epath]->tensorflow_datasets) (3.10.0.0)\n",
      "Requirement already satisfied: zipp in /p/software/juwelsbooster/stages/2022/software/Python/3.9.6-GCCcore-11.2.0/lib/python3.9/site-packages (from etils[epath]->tensorflow_datasets) (3.5.0)\n",
      "Requirement already satisfied: importlib_resources in /p/software/juwelsbooster/stages/2022/software/Python/3.9.6-GCCcore-11.2.0/lib/python3.9/site-packages (from etils[epath]->tensorflow_datasets) (5.2.2)\n",
      "Collecting googleapis-common-protos<2,>=1.52.0\n",
      "  Downloading googleapis_common_protos-1.56.4-py2.py3-none-any.whl (211 kB)\n",
      "\u001b[K     |████████████████████████████████| 211 kB 125.5 MB/s eta 0:00:01\n",
      "\u001b[?25hBuilding wheels for collected packages: promise\n",
      "  Building wheel for promise (setup.py) ... \u001b[?25ldone\n",
      "\u001b[?25h  Created wheel for promise: filename=promise-2.3-py3-none-any.whl size=21486 sha256=df110a1d471c8eef1c81a79a83887a169daf83d5f90c0c387151d1893a43b0e8\n",
      "  Stored in directory: /p/home/jusers/langguth1/juwels/.cache/pip/wheels/e1/e8/83/ddea66100678d139b14bc87692ece57c6a2a937956d2532608\n",
      "Successfully built promise\n",
      "Installing collected packages: etils, googleapis-common-protos, tensorflow-metadata, promise, tensorflow-datasets\n",
      "\u001b[33m  WARNING: The script tfds is installed in '/p/home/jusers/langguth1/juwels/.local/bin' which is not on PATH.\n",
      "  Consider adding this directory to PATH or, if you prefer to suppress this warning, use --no-warn-script-location.\u001b[0m\n",
      "Successfully installed etils-0.7.1 googleapis-common-protos-1.56.4 promise-2.3 tensorflow-datasets-4.6.0 tensorflow-metadata-1.10.0\n",
      "Note: you may need to restart the kernel to use updated packages.\n"
     ]
    }
   ],
   "source": [
    "pip install tensorflow_datasets"
   ]
  },
  {
   "cell_type": "code",
   "execution_count": 2,
   "id": "705c7d2a-c627-43e8-addf-db7e4ba01dbc",
   "metadata": {},
   "outputs": [],
   "source": [
    "import os, sys\n",
    "sys.path.append(\"../handle_data/\")\n",
    "from collections import OrderedDict\n",
    "import tensorflow as tf\n",
    "import tensorflow.keras as keras\n",
    "from tensorflow.keras import backend as K\n",
    "from tensorflow.keras.callbacks import LearningRateScheduler\n",
    "\n",
    "# all the layers used for U-net\n",
    "from tensorflow.keras.layers import (Activation, BatchNormalization, Concatenate, Conv2D,\n",
    "                                     Conv2DTranspose, Input, MaxPool2D, Dense, Flatten, GlobalAveragePooling2D\n",
    ")\n",
    "from tensorflow.keras.models import Model\n",
    "# other modules\n",
    "import gc\n",
    "import xarray as xr\n",
    "import numpy as np\n",
    "\n",
    "\n",
    "from handle_data_unet import HandleUnetData"
   ]
  },
  {
   "cell_type": "code",
   "execution_count": 40,
   "id": "df64db99-8ae9-4595-8c6e-d9bd0e559a6a",
   "metadata": {},
   "outputs": [],
   "source": [
    "def split_in_tar(da: xr.DataArray, target_var: str = \"t2m\") -> (xr.DataArray, xr.DataArray):\n",
    "    \n",
    "    invars = [var for var in da[\"variables\"].values if var.endswith(\"_in\")]\n",
    "    tarvars = [var for var in da[\"variables\"].values if var.endswith(\"_tar\")]\n",
    "\n",
    "    # ensure that ds_tar has a channel coordinate even in case of single target variable\n",
    "    roll = False\n",
    "    if len(tarvars) == 1:\n",
    "        sl_tarvars = tarvars\n",
    "    else:\n",
    "        sl_tarvars = slice(*tarvars)\n",
    "        if tarvars[0] != target_var:     # ensure that target variable appears as first channel\n",
    "            roll = True\n",
    "\n",
    "    da_in, da_tar = da.sel({\"variables\": invars}), da.sel(variables=sl_tarvars)\n",
    "    if roll: da_tar = da_tar.roll(variables=1, roll_coords=True)\n",
    "\n",
    "    return da_in, da_tar\n",
    "\n",
    "\n",
    "def make_data_generator(da: xr.DataArray, da_val: xr.DataArray = None, embed=None, embed_val=None,\n",
    "                        var2drop: str = \"z_tar\", nepochs: int = 1) -> tf.data.Dataset:\n",
    "\n",
    "    if not True:\n",
    "        da = da.drop(var2drop, dim=\"variables\")\n",
    "\n",
    "    da = da.load()\n",
    "    da_in, da_tar = split_in_tar(da)\n",
    "\n",
    "    def gen(darr_in, darr_tar):\n",
    "        # darr_in, darr_tar = darr_in.load(), darr_tar.load()\n",
    "        ntimes = len(darr_in[\"time\"])\n",
    "        for t in range(ntimes):\n",
    "            yield tuple((darr_in.isel({\"time\": t}).values, darr_tar.isel({\"time\": t}).values))\n",
    "\n",
    "    s0 = next(iter(gen(da_in, da_tar)))\n",
    "    sample_spec = {\"shape_in\": s0[0].shape, \"type_in\": s0[0].dtype , \n",
    "                   \"shape_tar\": s0[1].shape, \"type_tar\": s0[0].dtype}\n",
    "\n",
    "    gen_train = gen(da_in, da_tar)\n",
    "\n",
    "    if False:\n",
    "        if not embed:\n",
    "            raise ValueError(\"Embedding is enabled, but no embedding data was parsed.\")\n",
    "        data_iter = tf.data.Dataset.from_tensor_slices((ds_in, ds_tar, embed))\n",
    "    else:\n",
    "        #data_iter = tf.data.Dataset.from_tensor_slices((ds_in, ds_tar))\n",
    "        data_iter = tf.data.Dataset.from_generator(lambda: gen_train, \n",
    "                                                       output_signature=(tf.TensorSpec(sample_spec[\"shape_in\"],\n",
    "                                                                                       dtype=sample_spec[\"type_in\"]),\n",
    "                                                                         tf.TensorSpec(sample_spec[\"shape_tar\"],\n",
    "                                                                                       dtype=sample_spec[\"type_tar\"])))\n",
    "\n",
    "    # Notes:\n",
    "    # * cache is reuqired to make repeat work properly on datasets based on generators\n",
    "    #   (see https://stackoverflow.com/questions/60226022/tf-data-generator-keras-repeat-does-not-work-why)\n",
    "    # * repeat must be applied after shuffle to get varying mini-batches per epoch\n",
    "    # * batch-size is increaded to allow substepping in train_step\n",
    "    data_iter = data_iter.cache().shuffle(20000).batch(32 * (6 + 1), drop_remainder=True).repeat()\n",
    "    del da\n",
    "    gc.collect()\n",
    "    # data_iter = data_iter.prefetch(tf.data.AUTOTUNE)\n",
    "\n",
    "\n",
    "    if da_val is not None:\n",
    "        da_val =da_val.load()\n",
    "        ds_val_in, ds_val_tar = split_in_tar(da_val)\n",
    "        gen_val = gen(da_val_in, da_val_tar)\n",
    "\n",
    "        if False:\n",
    "            if not embed_val:\n",
    "                raise ValueError(\"Embedding is enabled, but no embedding data for validation dataset is parsed.\")\n",
    "            val_iter = tf.data.Dataset.from_tensor_slices((ds_val_in, ds_val_tar, embed_val))\n",
    "        else:\n",
    "            # val_iter = tf.data.Dataset.from_tensor_slices((ds_val_in, ds_val_tar))\n",
    "            val_iter = tf.data.Dataset.from_generator(lambda: gen_val, \n",
    "                                                      output_signature=(tf.TensorSpec(sample_spec[\"shape_in\"],\n",
    "                                                                                      dtype=sample_spec[\"type_in\"]),\n",
    "                                                                        tf.TensorSpec(sample_spec[\"shape_tar\"],\n",
    "                                                                                      dtype=sample_spec[\"type_tar\"])))\n",
    "\n",
    "        val_iter = val_iter.cache().batch(32, drop_remainder=True).repeat()\n",
    "\n",
    "        return data_iter, val_iter\n",
    "    else:\n",
    "        return data_iter\n",
    "\n",
    "    \n",
    "# preprocess data (i.e. normalizing)\n",
    "def reshape_ds(ds):\n",
    "    da = ds.to_array(dim=\"variables\")\n",
    "    da = da.transpose(..., \"variables\")\n",
    "    return da\n"
   ]
  },
  {
   "cell_type": "code",
   "execution_count": 18,
   "id": "10f93b70-14cf-45bf-b622-1824fb1434eb",
   "metadata": {},
   "outputs": [],
   "source": [
    "datadir = \"/p/scratch/deepacf/maelstrom/maelstrom_data/ap5_michael/preprocessed_era5_crea6/netcdf_data/all_files/\""
   ]
  },
  {
   "cell_type": "code",
   "execution_count": 8,
   "id": "0ad2753d-bdfb-4418-b4d5-0a41e9117b1a",
   "metadata": {},
   "outputs": [],
   "source": [
    "ds_train = xr.open_dataset(os.path.join(datadir, \"preproc_era5_crea6_train.nc\"))\n",
    "\n",
    "da_train = reshape_ds(ds_train)\n",
    "\n",
    "norm_dims = [\"time\", \"rlat\", \"rlon\"]\n",
    "da_train, mu_train, std_train = HandleUnetData.z_norm_data(da_train, dims=norm_dims, return_stat=True)\n",
    "\n",
    "del ds_train"
   ]
  },
  {
   "cell_type": "code",
   "execution_count": 9,
   "id": "81f28936-7890-4c0e-b132-057c3a3c66e9",
   "metadata": {},
   "outputs": [],
   "source": [
    "gc.collect()\n",
    "\n",
    "da_train = da_train.astype(np.float32)"
   ]
  },
  {
   "cell_type": "code",
   "execution_count": 41,
   "id": "6a84a456-321b-4816-ad90-dcc34725d326",
   "metadata": {},
   "outputs": [
    {
     "name": "stderr",
     "output_type": "stream",
     "text": [
      "2022-09-05 16:14:32.061587: W tensorflow/core/kernels/data/cache_dataset_ops.cc:768] The calling iterator did not fully read the dataset being cached. In order to avoid unexpected truncation of the dataset, the partially cached contents of the dataset  will be discarded. This can happen if you have an input pipeline similar to `dataset.cache().take(k).repeat()`. You should use `dataset.take(k).cache().repeat()` instead.\n"
     ]
    }
   ],
   "source": [
    "import tensorflow_datasets as tfd\n",
    "\n",
    "tfds = make_data_generator(da_train, nepochs=10)"
   ]
  },
  {
   "cell_type": "code",
   "execution_count": 22,
   "id": "43828b44-3b28-4cb4-8a57-eabf92ca2de9",
   "metadata": {},
   "outputs": [],
   "source": [
    "from tqdm import tqdm"
   ]
  },
  {
   "cell_type": "code",
   "execution_count": 39,
   "id": "249fa44d-fac8-4049-af77-f949cefa9186",
   "metadata": {},
   "outputs": [
    {
     "name": "stdout",
     "output_type": "stream",
     "text": [
      "(94052, 96, 120, 12)\n"
     ]
    }
   ],
   "source": [
    "print(np.shape(da_train))"
   ]
  },
  {
   "cell_type": "code",
   "execution_count": 42,
   "id": "46e03948-d38b-4276-a6fe-a0183cc5906b",
   "metadata": {},
   "outputs": [
    {
     "name": "stderr",
     "output_type": "stream",
     "text": [
      "  0%|          | 0/1000 [00:00<?, ?it/s]"
     ]
    },
    {
     "name": "stdout",
     "output_type": "stream",
     "text": [
      "Train step: 0\n",
      "Samples: 0 : 224\n"
     ]
    },
    {
     "name": "stderr",
     "output_type": "stream",
     "text": [
      "2022-09-05 16:16:29.422291: I tensorflow/core/kernels/data/shuffle_dataset_op.cc:175] Filling up shuffle buffer (this may take a while): 14726 of 20000\n",
      "2022-09-05 16:16:33.025989: I tensorflow/core/kernels/data/shuffle_dataset_op.cc:228] Shuffle buffer filled.\n",
      "  0%|          | 2/1000 [00:13<1:36:21,  5.79s/it]"
     ]
    },
    {
     "name": "stdout",
     "output_type": "stream",
     "text": [
      "Train step: 1\n",
      "Samples: 224 : 448\n",
      "Train step: 2\n",
      "Samples: 448 : 672\n"
     ]
    },
    {
     "name": "stderr",
     "output_type": "stream",
     "text": [
      "  0%|          | 4/1000 [00:14<33:47,  2.04s/it]  "
     ]
    },
    {
     "name": "stdout",
     "output_type": "stream",
     "text": [
      "Train step: 3\n",
      "Samples: 672 : 896\n",
      "Train step: 4\n",
      "Samples: 896 : 1120\n"
     ]
    },
    {
     "name": "stderr",
     "output_type": "stream",
     "text": [
      "  1%|          | 6/1000 [00:14<16:05,  1.03it/s]"
     ]
    },
    {
     "name": "stdout",
     "output_type": "stream",
     "text": [
      "Train step: 5\n",
      "Samples: 1120 : 1344\n",
      "Train step: 6\n",
      "Samples: 1344 : 1568\n"
     ]
    },
    {
     "name": "stderr",
     "output_type": "stream",
     "text": [
      "  1%|          | 8/1000 [00:15<09:05,  1.82it/s]"
     ]
    },
    {
     "name": "stdout",
     "output_type": "stream",
     "text": [
      "Train step: 7\n",
      "Samples: 1568 : 1792\n",
      "Train step: 8\n",
      "Samples: 1792 : 2016\n"
     ]
    },
    {
     "name": "stderr",
     "output_type": "stream",
     "text": [
      "  1%|          | 10/1000 [00:15<06:00,  2.75it/s]"
     ]
    },
    {
     "name": "stdout",
     "output_type": "stream",
     "text": [
      "Train step: 9\n",
      "Samples: 2016 : 2240\n",
      "Train step: 10\n",
      "Samples: 2240 : 2464\n"
     ]
    },
    {
     "name": "stderr",
     "output_type": "stream",
     "text": [
      "  1%|          | 12/1000 [00:15<04:33,  3.61it/s]"
     ]
    },
    {
     "name": "stdout",
     "output_type": "stream",
     "text": [
      "Train step: 11\n",
      "Samples: 2464 : 2688\n",
      "Train step: 12\n",
      "Samples: 2688 : 2912\n"
     ]
    },
    {
     "name": "stderr",
     "output_type": "stream",
     "text": [
      "  1%|▏         | 14/1000 [00:16<03:52,  4.25it/s]"
     ]
    },
    {
     "name": "stdout",
     "output_type": "stream",
     "text": [
      "Train step: 13\n",
      "Samples: 2912 : 3136\n",
      "Train step: 14\n",
      "Samples: 3136 : 3360\n"
     ]
    },
    {
     "name": "stderr",
     "output_type": "stream",
     "text": [
      "  2%|▏         | 16/1000 [00:16<03:26,  4.77it/s]"
     ]
    },
    {
     "name": "stdout",
     "output_type": "stream",
     "text": [
      "Train step: 15\n",
      "Samples: 3360 : 3584\n",
      "Train step: 16\n",
      "Samples: 3584 : 3808\n"
     ]
    },
    {
     "name": "stderr",
     "output_type": "stream",
     "text": [
      "  2%|▏         | 18/1000 [00:17<03:10,  5.17it/s]"
     ]
    },
    {
     "name": "stdout",
     "output_type": "stream",
     "text": [
      "Train step: 17\n",
      "Samples: 3808 : 4032\n",
      "Train step: 18\n",
      "Samples: 4032 : 4256\n"
     ]
    },
    {
     "name": "stderr",
     "output_type": "stream",
     "text": [
      "  2%|▏         | 20/1000 [00:17<03:01,  5.39it/s]"
     ]
    },
    {
     "name": "stdout",
     "output_type": "stream",
     "text": [
      "Train step: 19\n",
      "Samples: 4256 : 4480\n",
      "Train step: 20\n",
      "Samples: 4480 : 4704\n"
     ]
    },
    {
     "name": "stderr",
     "output_type": "stream",
     "text": [
      "  2%|▏         | 22/1000 [00:17<02:57,  5.51it/s]"
     ]
    },
    {
     "name": "stdout",
     "output_type": "stream",
     "text": [
      "Train step: 21\n",
      "Samples: 4704 : 4928\n",
      "Train step: 22\n",
      "Samples: 4928 : 5152\n"
     ]
    },
    {
     "name": "stderr",
     "output_type": "stream",
     "text": [
      "  2%|▏         | 24/1000 [00:18<02:55,  5.57it/s]"
     ]
    },
    {
     "name": "stdout",
     "output_type": "stream",
     "text": [
      "Train step: 23\n",
      "Samples: 5152 : 5376\n",
      "Train step: 24\n",
      "Samples: 5376 : 5600\n"
     ]
    },
    {
     "name": "stderr",
     "output_type": "stream",
     "text": [
      "  3%|▎         | 26/1000 [00:18<02:53,  5.61it/s]"
     ]
    },
    {
     "name": "stdout",
     "output_type": "stream",
     "text": [
      "Train step: 25\n",
      "Samples: 5600 : 5824\n",
      "Train step: 26\n",
      "Samples: 5824 : 6048\n"
     ]
    },
    {
     "name": "stderr",
     "output_type": "stream",
     "text": [
      "  3%|▎         | 28/1000 [00:18<02:52,  5.62it/s]"
     ]
    },
    {
     "name": "stdout",
     "output_type": "stream",
     "text": [
      "Train step: 27\n",
      "Samples: 6048 : 6272\n",
      "Train step: 28\n",
      "Samples: 6272 : 6496\n"
     ]
    },
    {
     "name": "stderr",
     "output_type": "stream",
     "text": [
      "  3%|▎         | 30/1000 [00:19<02:52,  5.63it/s]"
     ]
    },
    {
     "name": "stdout",
     "output_type": "stream",
     "text": [
      "Train step: 29\n",
      "Samples: 6496 : 6720\n",
      "Train step: 30\n",
      "Samples: 6720 : 6944\n"
     ]
    },
    {
     "name": "stderr",
     "output_type": "stream",
     "text": [
      "  3%|▎         | 32/1000 [00:19<02:52,  5.63it/s]"
     ]
    },
    {
     "name": "stdout",
     "output_type": "stream",
     "text": [
      "Train step: 31\n",
      "Samples: 6944 : 7168\n",
      "Train step: 32\n",
      "Samples: 7168 : 7392\n"
     ]
    },
    {
     "name": "stderr",
     "output_type": "stream",
     "text": [
      "  3%|▎         | 34/1000 [00:19<02:51,  5.63it/s]"
     ]
    },
    {
     "name": "stdout",
     "output_type": "stream",
     "text": [
      "Train step: 33\n",
      "Samples: 7392 : 7616\n",
      "Train step: 34\n",
      "Samples: 7616 : 7840\n"
     ]
    },
    {
     "name": "stderr",
     "output_type": "stream",
     "text": [
      "  4%|▎         | 36/1000 [00:20<02:51,  5.64it/s]"
     ]
    },
    {
     "name": "stdout",
     "output_type": "stream",
     "text": [
      "Train step: 35\n",
      "Samples: 7840 : 8064\n",
      "Train step: 36\n",
      "Samples: 8064 : 8288\n"
     ]
    },
    {
     "name": "stderr",
     "output_type": "stream",
     "text": [
      "  4%|▍         | 38/1000 [00:20<02:51,  5.61it/s]"
     ]
    },
    {
     "name": "stdout",
     "output_type": "stream",
     "text": [
      "Train step: 37\n",
      "Samples: 8288 : 8512\n",
      "Train step: 38\n",
      "Samples: 8512 : 8736\n"
     ]
    },
    {
     "name": "stderr",
     "output_type": "stream",
     "text": [
      "  4%|▍         | 40/1000 [00:20<02:51,  5.58it/s]"
     ]
    },
    {
     "name": "stdout",
     "output_type": "stream",
     "text": [
      "Train step: 39\n",
      "Samples: 8736 : 8960\n",
      "Train step: 40\n",
      "Samples: 8960 : 9184\n"
     ]
    },
    {
     "name": "stderr",
     "output_type": "stream",
     "text": [
      "  4%|▍         | 42/1000 [00:21<02:51,  5.59it/s]"
     ]
    },
    {
     "name": "stdout",
     "output_type": "stream",
     "text": [
      "Train step: 41\n",
      "Samples: 9184 : 9408\n",
      "Train step: 42\n",
      "Samples: 9408 : 9632\n"
     ]
    },
    {
     "name": "stderr",
     "output_type": "stream",
     "text": [
      "  4%|▍         | 44/1000 [00:21<02:51,  5.56it/s]"
     ]
    },
    {
     "name": "stdout",
     "output_type": "stream",
     "text": [
      "Train step: 43\n",
      "Samples: 9632 : 9856\n",
      "Train step: 44\n",
      "Samples: 9856 : 10080\n"
     ]
    },
    {
     "name": "stderr",
     "output_type": "stream",
     "text": [
      "  5%|▍         | 46/1000 [00:22<02:51,  5.56it/s]"
     ]
    },
    {
     "name": "stdout",
     "output_type": "stream",
     "text": [
      "Train step: 45\n",
      "Samples: 10080 : 10304\n",
      "Train step: 46\n",
      "Samples: 10304 : 10528\n"
     ]
    },
    {
     "name": "stderr",
     "output_type": "stream",
     "text": [
      "  5%|▍         | 48/1000 [00:22<02:52,  5.53it/s]"
     ]
    },
    {
     "name": "stdout",
     "output_type": "stream",
     "text": [
      "Train step: 47\n",
      "Samples: 10528 : 10752\n",
      "Train step: 48\n",
      "Samples: 10752 : 10976\n"
     ]
    },
    {
     "name": "stderr",
     "output_type": "stream",
     "text": [
      "  5%|▌         | 50/1000 [00:22<02:50,  5.57it/s]"
     ]
    },
    {
     "name": "stdout",
     "output_type": "stream",
     "text": [
      "Train step: 49\n",
      "Samples: 10976 : 11200\n",
      "Train step: 50\n",
      "Samples: 11200 : 11424\n"
     ]
    },
    {
     "name": "stderr",
     "output_type": "stream",
     "text": [
      "  5%|▌         | 52/1000 [00:23<02:50,  5.57it/s]"
     ]
    },
    {
     "name": "stdout",
     "output_type": "stream",
     "text": [
      "Train step: 51\n",
      "Samples: 11424 : 11648\n",
      "Train step: 52\n",
      "Samples: 11648 : 11872\n"
     ]
    },
    {
     "name": "stderr",
     "output_type": "stream",
     "text": [
      "  5%|▌         | 54/1000 [00:23<02:49,  5.57it/s]"
     ]
    },
    {
     "name": "stdout",
     "output_type": "stream",
     "text": [
      "Train step: 53\n",
      "Samples: 11872 : 12096\n",
      "Train step: 54\n",
      "Samples: 12096 : 12320\n"
     ]
    },
    {
     "name": "stderr",
     "output_type": "stream",
     "text": [
      "  6%|▌         | 56/1000 [00:23<02:49,  5.57it/s]"
     ]
    },
    {
     "name": "stdout",
     "output_type": "stream",
     "text": [
      "Train step: 55\n",
      "Samples: 12320 : 12544\n",
      "Train step: 56\n",
      "Samples: 12544 : 12768\n"
     ]
    },
    {
     "name": "stderr",
     "output_type": "stream",
     "text": [
      "  6%|▌         | 58/1000 [00:24<02:49,  5.57it/s]"
     ]
    },
    {
     "name": "stdout",
     "output_type": "stream",
     "text": [
      "Train step: 57\n",
      "Samples: 12768 : 12992\n",
      "Train step: 58\n",
      "Samples: 12992 : 13216\n"
     ]
    },
    {
     "name": "stderr",
     "output_type": "stream",
     "text": [
      "  6%|▌         | 60/1000 [00:24<02:48,  5.57it/s]"
     ]
    },
    {
     "name": "stdout",
     "output_type": "stream",
     "text": [
      "Train step: 59\n",
      "Samples: 13216 : 13440\n",
      "Train step: 60\n",
      "Samples: 13440 : 13664\n"
     ]
    },
    {
     "name": "stderr",
     "output_type": "stream",
     "text": [
      "  6%|▌         | 62/1000 [00:24<02:48,  5.58it/s]"
     ]
    },
    {
     "name": "stdout",
     "output_type": "stream",
     "text": [
      "Train step: 61\n",
      "Samples: 13664 : 13888\n",
      "Train step: 62\n",
      "Samples: 13888 : 14112\n"
     ]
    },
    {
     "name": "stderr",
     "output_type": "stream",
     "text": [
      "  6%|▋         | 64/1000 [00:25<02:48,  5.57it/s]"
     ]
    },
    {
     "name": "stdout",
     "output_type": "stream",
     "text": [
      "Train step: 63\n",
      "Samples: 14112 : 14336\n",
      "Train step: 64\n",
      "Samples: 14336 : 14560\n"
     ]
    },
    {
     "name": "stderr",
     "output_type": "stream",
     "text": [
      "  7%|▋         | 66/1000 [00:25<02:47,  5.57it/s]"
     ]
    },
    {
     "name": "stdout",
     "output_type": "stream",
     "text": [
      "Train step: 65\n",
      "Samples: 14560 : 14784\n",
      "Train step: 66\n",
      "Samples: 14784 : 15008\n"
     ]
    },
    {
     "name": "stderr",
     "output_type": "stream",
     "text": [
      "  7%|▋         | 68/1000 [00:26<02:48,  5.54it/s]"
     ]
    },
    {
     "name": "stdout",
     "output_type": "stream",
     "text": [
      "Train step: 67\n",
      "Samples: 15008 : 15232\n",
      "Train step: 68\n",
      "Samples: 15232 : 15456\n"
     ]
    },
    {
     "name": "stderr",
     "output_type": "stream",
     "text": [
      "  7%|▋         | 70/1000 [00:26<02:47,  5.55it/s]"
     ]
    },
    {
     "name": "stdout",
     "output_type": "stream",
     "text": [
      "Train step: 69\n",
      "Samples: 15456 : 15680\n",
      "Train step: 70\n",
      "Samples: 15680 : 15904\n"
     ]
    },
    {
     "name": "stderr",
     "output_type": "stream",
     "text": [
      "  7%|▋         | 72/1000 [00:26<02:47,  5.54it/s]"
     ]
    },
    {
     "name": "stdout",
     "output_type": "stream",
     "text": [
      "Train step: 71\n",
      "Samples: 15904 : 16128\n",
      "Train step: 72\n",
      "Samples: 16128 : 16352\n"
     ]
    },
    {
     "name": "stderr",
     "output_type": "stream",
     "text": [
      "  7%|▋         | 74/1000 [00:27<02:46,  5.55it/s]"
     ]
    },
    {
     "name": "stdout",
     "output_type": "stream",
     "text": [
      "Train step: 73\n",
      "Samples: 16352 : 16576\n",
      "Train step: 74\n",
      "Samples: 16576 : 16800\n"
     ]
    },
    {
     "name": "stderr",
     "output_type": "stream",
     "text": [
      "  8%|▊         | 76/1000 [00:27<02:46,  5.55it/s]"
     ]
    },
    {
     "name": "stdout",
     "output_type": "stream",
     "text": [
      "Train step: 75\n",
      "Samples: 16800 : 17024\n",
      "Train step: 76\n",
      "Samples: 17024 : 17248\n"
     ]
    },
    {
     "name": "stderr",
     "output_type": "stream",
     "text": [
      "  8%|▊         | 78/1000 [00:27<02:47,  5.52it/s]"
     ]
    },
    {
     "name": "stdout",
     "output_type": "stream",
     "text": [
      "Train step: 77\n",
      "Samples: 17248 : 17472\n",
      "Train step: 78\n",
      "Samples: 17472 : 17696\n"
     ]
    },
    {
     "name": "stderr",
     "output_type": "stream",
     "text": [
      "  8%|▊         | 80/1000 [00:28<02:45,  5.57it/s]"
     ]
    },
    {
     "name": "stdout",
     "output_type": "stream",
     "text": [
      "Train step: 79\n",
      "Samples: 17696 : 17920\n",
      "Train step: 80\n",
      "Samples: 17920 : 18144\n"
     ]
    },
    {
     "name": "stderr",
     "output_type": "stream",
     "text": [
      "  8%|▊         | 82/1000 [00:28<02:43,  5.60it/s]"
     ]
    },
    {
     "name": "stdout",
     "output_type": "stream",
     "text": [
      "Train step: 81\n",
      "Samples: 18144 : 18368\n",
      "Train step: 82\n",
      "Samples: 18368 : 18592\n"
     ]
    },
    {
     "name": "stderr",
     "output_type": "stream",
     "text": [
      "  8%|▊         | 84/1000 [00:28<02:43,  5.61it/s]"
     ]
    },
    {
     "name": "stdout",
     "output_type": "stream",
     "text": [
      "Train step: 83\n",
      "Samples: 18592 : 18816\n",
      "Train step: 84\n",
      "Samples: 18816 : 19040\n"
     ]
    },
    {
     "name": "stderr",
     "output_type": "stream",
     "text": [
      "  9%|▊         | 86/1000 [00:29<02:42,  5.62it/s]"
     ]
    },
    {
     "name": "stdout",
     "output_type": "stream",
     "text": [
      "Train step: 85\n",
      "Samples: 19040 : 19264\n",
      "Train step: 86\n",
      "Samples: 19264 : 19488\n"
     ]
    },
    {
     "name": "stderr",
     "output_type": "stream",
     "text": [
      "  9%|▉         | 88/1000 [00:29<02:41,  5.63it/s]"
     ]
    },
    {
     "name": "stdout",
     "output_type": "stream",
     "text": [
      "Train step: 87\n",
      "Samples: 19488 : 19712\n",
      "Train step: 88\n",
      "Samples: 19712 : 19936\n"
     ]
    },
    {
     "name": "stderr",
     "output_type": "stream",
     "text": [
      "  9%|▉         | 90/1000 [00:29<02:41,  5.63it/s]"
     ]
    },
    {
     "name": "stdout",
     "output_type": "stream",
     "text": [
      "Train step: 89\n",
      "Samples: 19936 : 20160\n",
      "Train step: 90\n",
      "Samples: 20160 : 20384\n"
     ]
    },
    {
     "name": "stderr",
     "output_type": "stream",
     "text": [
      "  9%|▉         | 92/1000 [00:30<02:41,  5.63it/s]"
     ]
    },
    {
     "name": "stdout",
     "output_type": "stream",
     "text": [
      "Train step: 91\n",
      "Samples: 20384 : 20608\n",
      "Train step: 92\n",
      "Samples: 20608 : 20832\n"
     ]
    },
    {
     "name": "stderr",
     "output_type": "stream",
     "text": [
      "  9%|▉         | 94/1000 [00:30<02:40,  5.63it/s]"
     ]
    },
    {
     "name": "stdout",
     "output_type": "stream",
     "text": [
      "Train step: 93\n",
      "Samples: 20832 : 21056\n",
      "Train step: 94\n",
      "Samples: 21056 : 21280\n"
     ]
    },
    {
     "name": "stderr",
     "output_type": "stream",
     "text": [
      " 10%|▉         | 96/1000 [00:31<02:40,  5.63it/s]"
     ]
    },
    {
     "name": "stdout",
     "output_type": "stream",
     "text": [
      "Train step: 95\n",
      "Samples: 21280 : 21504\n",
      "Train step: 96\n",
      "Samples: 21504 : 21728\n"
     ]
    },
    {
     "name": "stderr",
     "output_type": "stream",
     "text": [
      " 10%|▉         | 98/1000 [00:31<02:40,  5.63it/s]"
     ]
    },
    {
     "name": "stdout",
     "output_type": "stream",
     "text": [
      "Train step: 97\n",
      "Samples: 21728 : 21952\n",
      "Train step: 98\n",
      "Samples: 21952 : 22176\n"
     ]
    },
    {
     "name": "stderr",
     "output_type": "stream",
     "text": [
      " 10%|█         | 100/1000 [00:31<02:39,  5.63it/s]"
     ]
    },
    {
     "name": "stdout",
     "output_type": "stream",
     "text": [
      "Train step: 99\n",
      "Samples: 22176 : 22400\n",
      "Train step: 100\n",
      "Samples: 22400 : 22624\n"
     ]
    },
    {
     "name": "stderr",
     "output_type": "stream",
     "text": [
      " 10%|█         | 102/1000 [00:32<02:39,  5.63it/s]"
     ]
    },
    {
     "name": "stdout",
     "output_type": "stream",
     "text": [
      "Train step: 101\n",
      "Samples: 22624 : 22848\n",
      "Train step: 102\n",
      "Samples: 22848 : 23072\n"
     ]
    },
    {
     "name": "stderr",
     "output_type": "stream",
     "text": [
      " 10%|█         | 104/1000 [00:32<02:39,  5.63it/s]"
     ]
    },
    {
     "name": "stdout",
     "output_type": "stream",
     "text": [
      "Train step: 103\n",
      "Samples: 23072 : 23296\n",
      "Train step: 104\n",
      "Samples: 23296 : 23520\n"
     ]
    },
    {
     "name": "stderr",
     "output_type": "stream",
     "text": [
      " 11%|█         | 106/1000 [00:32<02:41,  5.55it/s]"
     ]
    },
    {
     "name": "stdout",
     "output_type": "stream",
     "text": [
      "Train step: 105\n",
      "Samples: 23520 : 23744\n",
      "Train step: 106\n",
      "Samples: 23744 : 23968\n"
     ]
    },
    {
     "name": "stderr",
     "output_type": "stream",
     "text": [
      " 11%|█         | 108/1000 [00:33<02:40,  5.56it/s]"
     ]
    },
    {
     "name": "stdout",
     "output_type": "stream",
     "text": [
      "Train step: 107\n",
      "Samples: 23968 : 24192\n",
      "Train step: 108\n",
      "Samples: 24192 : 24416\n"
     ]
    },
    {
     "name": "stderr",
     "output_type": "stream",
     "text": [
      " 11%|█         | 110/1000 [00:33<02:39,  5.58it/s]"
     ]
    },
    {
     "name": "stdout",
     "output_type": "stream",
     "text": [
      "Train step: 109\n",
      "Samples: 24416 : 24640\n",
      "Train step: 110\n",
      "Samples: 24640 : 24864\n"
     ]
    },
    {
     "name": "stderr",
     "output_type": "stream",
     "text": [
      " 11%|█         | 112/1000 [00:33<02:38,  5.60it/s]"
     ]
    },
    {
     "name": "stdout",
     "output_type": "stream",
     "text": [
      "Train step: 111\n",
      "Samples: 24864 : 25088\n",
      "Train step: 112\n",
      "Samples: 25088 : 25312\n"
     ]
    },
    {
     "name": "stderr",
     "output_type": "stream",
     "text": [
      " 11%|█▏        | 114/1000 [00:34<02:38,  5.60it/s]"
     ]
    },
    {
     "name": "stdout",
     "output_type": "stream",
     "text": [
      "Train step: 113\n",
      "Samples: 25312 : 25536\n",
      "Train step: 114\n",
      "Samples: 25536 : 25760\n"
     ]
    },
    {
     "name": "stderr",
     "output_type": "stream",
     "text": [
      " 12%|█▏        | 116/1000 [00:34<02:37,  5.61it/s]"
     ]
    },
    {
     "name": "stdout",
     "output_type": "stream",
     "text": [
      "Train step: 115\n",
      "Samples: 25760 : 25984\n",
      "Train step: 116\n",
      "Samples: 25984 : 26208\n"
     ]
    },
    {
     "name": "stderr",
     "output_type": "stream",
     "text": [
      " 12%|█▏        | 118/1000 [00:34<02:37,  5.61it/s]"
     ]
    },
    {
     "name": "stdout",
     "output_type": "stream",
     "text": [
      "Train step: 117\n",
      "Samples: 26208 : 26432\n",
      "Train step: 118\n",
      "Samples: 26432 : 26656\n"
     ]
    },
    {
     "name": "stderr",
     "output_type": "stream",
     "text": [
      " 12%|█▏        | 120/1000 [00:35<02:37,  5.61it/s]"
     ]
    },
    {
     "name": "stdout",
     "output_type": "stream",
     "text": [
      "Train step: 119\n",
      "Samples: 26656 : 26880\n",
      "Train step: 120\n",
      "Samples: 26880 : 27104\n"
     ]
    },
    {
     "name": "stderr",
     "output_type": "stream",
     "text": [
      " 12%|█▏        | 122/1000 [00:35<02:37,  5.56it/s]"
     ]
    },
    {
     "name": "stdout",
     "output_type": "stream",
     "text": [
      "Train step: 121\n",
      "Samples: 27104 : 27328\n",
      "Train step: 122\n",
      "Samples: 27328 : 27552\n"
     ]
    },
    {
     "name": "stderr",
     "output_type": "stream",
     "text": [
      " 12%|█▏        | 124/1000 [00:36<02:37,  5.58it/s]"
     ]
    },
    {
     "name": "stdout",
     "output_type": "stream",
     "text": [
      "Train step: 123\n",
      "Samples: 27552 : 27776\n",
      "Train step: 124\n",
      "Samples: 27776 : 28000\n"
     ]
    },
    {
     "name": "stderr",
     "output_type": "stream",
     "text": [
      " 13%|█▎        | 126/1000 [00:36<02:36,  5.58it/s]"
     ]
    },
    {
     "name": "stdout",
     "output_type": "stream",
     "text": [
      "Train step: 125\n",
      "Samples: 28000 : 28224\n",
      "Train step: 126\n",
      "Samples: 28224 : 28448\n"
     ]
    },
    {
     "name": "stderr",
     "output_type": "stream",
     "text": [
      " 13%|█▎        | 128/1000 [00:36<02:36,  5.58it/s]"
     ]
    },
    {
     "name": "stdout",
     "output_type": "stream",
     "text": [
      "Train step: 127\n",
      "Samples: 28448 : 28672\n",
      "Train step: 128\n",
      "Samples: 28672 : 28896\n"
     ]
    },
    {
     "name": "stderr",
     "output_type": "stream",
     "text": [
      " 13%|█▎        | 130/1000 [00:37<02:35,  5.59it/s]"
     ]
    },
    {
     "name": "stdout",
     "output_type": "stream",
     "text": [
      "Train step: 129\n",
      "Samples: 28896 : 29120\n",
      "Train step: 130\n",
      "Samples: 29120 : 29344\n"
     ]
    },
    {
     "name": "stderr",
     "output_type": "stream",
     "text": [
      " 13%|█▎        | 132/1000 [00:37<02:35,  5.59it/s]"
     ]
    },
    {
     "name": "stdout",
     "output_type": "stream",
     "text": [
      "Train step: 131\n",
      "Samples: 29344 : 29568\n",
      "Train step: 132\n",
      "Samples: 29568 : 29792\n"
     ]
    },
    {
     "name": "stderr",
     "output_type": "stream",
     "text": [
      " 13%|█▎        | 134/1000 [00:37<02:34,  5.59it/s]"
     ]
    },
    {
     "name": "stdout",
     "output_type": "stream",
     "text": [
      "Train step: 133\n",
      "Samples: 29792 : 30016\n",
      "Train step: 134\n",
      "Samples: 30016 : 30240\n"
     ]
    },
    {
     "name": "stderr",
     "output_type": "stream",
     "text": [
      " 14%|█▎        | 136/1000 [00:38<02:34,  5.59it/s]"
     ]
    },
    {
     "name": "stdout",
     "output_type": "stream",
     "text": [
      "Train step: 135\n",
      "Samples: 30240 : 30464\n",
      "Train step: 136\n",
      "Samples: 30464 : 30688\n"
     ]
    },
    {
     "name": "stderr",
     "output_type": "stream",
     "text": [
      " 14%|█▍        | 138/1000 [00:38<02:34,  5.59it/s]"
     ]
    },
    {
     "name": "stdout",
     "output_type": "stream",
     "text": [
      "Train step: 137\n",
      "Samples: 30688 : 30912\n",
      "Train step: 138\n",
      "Samples: 30912 : 31136\n"
     ]
    },
    {
     "name": "stderr",
     "output_type": "stream",
     "text": [
      " 14%|█▍        | 140/1000 [00:38<02:33,  5.59it/s]"
     ]
    },
    {
     "name": "stdout",
     "output_type": "stream",
     "text": [
      "Train step: 139\n",
      "Samples: 31136 : 31360\n",
      "Train step: 140\n",
      "Samples: 31360 : 31584\n"
     ]
    },
    {
     "name": "stderr",
     "output_type": "stream",
     "text": [
      " 14%|█▍        | 142/1000 [00:39<02:33,  5.59it/s]"
     ]
    },
    {
     "name": "stdout",
     "output_type": "stream",
     "text": [
      "Train step: 141\n",
      "Samples: 31584 : 31808\n",
      "Train step: 142\n",
      "Samples: 31808 : 32032\n"
     ]
    },
    {
     "name": "stderr",
     "output_type": "stream",
     "text": [
      " 14%|█▍        | 144/1000 [00:39<02:33,  5.59it/s]"
     ]
    },
    {
     "name": "stdout",
     "output_type": "stream",
     "text": [
      "Train step: 143\n",
      "Samples: 32032 : 32256\n",
      "Train step: 144\n",
      "Samples: 32256 : 32480\n"
     ]
    },
    {
     "name": "stderr",
     "output_type": "stream",
     "text": [
      " 15%|█▍        | 146/1000 [00:39<02:32,  5.59it/s]"
     ]
    },
    {
     "name": "stdout",
     "output_type": "stream",
     "text": [
      "Train step: 145\n",
      "Samples: 32480 : 32704\n",
      "Train step: 146\n",
      "Samples: 32704 : 32928\n"
     ]
    },
    {
     "name": "stderr",
     "output_type": "stream",
     "text": [
      " 15%|█▍        | 148/1000 [00:40<02:32,  5.59it/s]"
     ]
    },
    {
     "name": "stdout",
     "output_type": "stream",
     "text": [
      "Train step: 147\n",
      "Samples: 32928 : 33152\n",
      "Train step: 148\n",
      "Samples: 33152 : 33376\n"
     ]
    },
    {
     "name": "stderr",
     "output_type": "stream",
     "text": [
      " 15%|█▌        | 150/1000 [00:40<02:31,  5.60it/s]"
     ]
    },
    {
     "name": "stdout",
     "output_type": "stream",
     "text": [
      "Train step: 149\n",
      "Samples: 33376 : 33600\n",
      "Train step: 150\n",
      "Samples: 33600 : 33824\n"
     ]
    },
    {
     "name": "stderr",
     "output_type": "stream",
     "text": [
      " 15%|█▌        | 152/1000 [00:41<02:31,  5.60it/s]"
     ]
    },
    {
     "name": "stdout",
     "output_type": "stream",
     "text": [
      "Train step: 151\n",
      "Samples: 33824 : 34048\n",
      "Train step: 152\n",
      "Samples: 34048 : 34272\n"
     ]
    },
    {
     "name": "stderr",
     "output_type": "stream",
     "text": [
      " 15%|█▌        | 154/1000 [00:41<02:31,  5.60it/s]"
     ]
    },
    {
     "name": "stdout",
     "output_type": "stream",
     "text": [
      "Train step: 153\n",
      "Samples: 34272 : 34496\n",
      "Train step: 154\n",
      "Samples: 34496 : 34720\n"
     ]
    },
    {
     "name": "stderr",
     "output_type": "stream",
     "text": [
      " 16%|█▌        | 156/1000 [00:41<02:31,  5.59it/s]"
     ]
    },
    {
     "name": "stdout",
     "output_type": "stream",
     "text": [
      "Train step: 155\n",
      "Samples: 34720 : 34944\n",
      "Train step: 156\n",
      "Samples: 34944 : 35168\n"
     ]
    },
    {
     "name": "stderr",
     "output_type": "stream",
     "text": [
      " 16%|█▌        | 158/1000 [00:42<02:30,  5.59it/s]"
     ]
    },
    {
     "name": "stdout",
     "output_type": "stream",
     "text": [
      "Train step: 157\n",
      "Samples: 35168 : 35392\n",
      "Train step: 158\n",
      "Samples: 35392 : 35616\n"
     ]
    },
    {
     "name": "stderr",
     "output_type": "stream",
     "text": [
      " 16%|█▌        | 160/1000 [00:42<02:30,  5.59it/s]"
     ]
    },
    {
     "name": "stdout",
     "output_type": "stream",
     "text": [
      "Train step: 159\n",
      "Samples: 35616 : 35840\n",
      "Train step: 160\n",
      "Samples: 35840 : 36064\n"
     ]
    },
    {
     "name": "stderr",
     "output_type": "stream",
     "text": [
      " 16%|█▌        | 162/1000 [00:42<02:29,  5.59it/s]"
     ]
    },
    {
     "name": "stdout",
     "output_type": "stream",
     "text": [
      "Train step: 161\n",
      "Samples: 36064 : 36288\n",
      "Train step: 162\n",
      "Samples: 36288 : 36512\n"
     ]
    },
    {
     "name": "stderr",
     "output_type": "stream",
     "text": [
      " 16%|█▋        | 164/1000 [00:43<02:29,  5.59it/s]"
     ]
    },
    {
     "name": "stdout",
     "output_type": "stream",
     "text": [
      "Train step: 163\n",
      "Samples: 36512 : 36736\n",
      "Train step: 164\n",
      "Samples: 36736 : 36960\n"
     ]
    },
    {
     "name": "stderr",
     "output_type": "stream",
     "text": [
      " 17%|█▋        | 166/1000 [00:43<02:29,  5.60it/s]"
     ]
    },
    {
     "name": "stdout",
     "output_type": "stream",
     "text": [
      "Train step: 165\n",
      "Samples: 36960 : 37184\n",
      "Train step: 166\n",
      "Samples: 37184 : 37408\n"
     ]
    },
    {
     "name": "stderr",
     "output_type": "stream",
     "text": [
      " 17%|█▋        | 168/1000 [00:43<02:28,  5.60it/s]"
     ]
    },
    {
     "name": "stdout",
     "output_type": "stream",
     "text": [
      "Train step: 167\n",
      "Samples: 37408 : 37632\n",
      "Train step: 168\n",
      "Samples: 37632 : 37856\n"
     ]
    },
    {
     "name": "stderr",
     "output_type": "stream",
     "text": [
      " 17%|█▋        | 170/1000 [00:44<02:28,  5.60it/s]"
     ]
    },
    {
     "name": "stdout",
     "output_type": "stream",
     "text": [
      "Train step: 169\n",
      "Samples: 37856 : 38080\n",
      "Train step: 170\n",
      "Samples: 38080 : 38304\n"
     ]
    },
    {
     "name": "stderr",
     "output_type": "stream",
     "text": [
      " 17%|█▋        | 172/1000 [00:44<02:27,  5.60it/s]"
     ]
    },
    {
     "name": "stdout",
     "output_type": "stream",
     "text": [
      "Train step: 171\n",
      "Samples: 38304 : 38528\n",
      "Train step: 172\n",
      "Samples: 38528 : 38752\n"
     ]
    },
    {
     "name": "stderr",
     "output_type": "stream",
     "text": [
      " 17%|█▋        | 174/1000 [00:44<02:27,  5.59it/s]"
     ]
    },
    {
     "name": "stdout",
     "output_type": "stream",
     "text": [
      "Train step: 173\n",
      "Samples: 38752 : 38976\n",
      "Train step: 174\n",
      "Samples: 38976 : 39200\n"
     ]
    },
    {
     "name": "stderr",
     "output_type": "stream",
     "text": [
      " 18%|█▊        | 176/1000 [00:45<02:27,  5.60it/s]"
     ]
    },
    {
     "name": "stdout",
     "output_type": "stream",
     "text": [
      "Train step: 175\n",
      "Samples: 39200 : 39424\n",
      "Train step: 176\n",
      "Samples: 39424 : 39648\n"
     ]
    },
    {
     "name": "stderr",
     "output_type": "stream",
     "text": [
      " 18%|█▊        | 178/1000 [00:45<02:26,  5.60it/s]"
     ]
    },
    {
     "name": "stdout",
     "output_type": "stream",
     "text": [
      "Train step: 177\n",
      "Samples: 39648 : 39872\n",
      "Train step: 178\n",
      "Samples: 39872 : 40096\n"
     ]
    },
    {
     "name": "stderr",
     "output_type": "stream",
     "text": [
      " 18%|█▊        | 180/1000 [00:46<02:26,  5.60it/s]"
     ]
    },
    {
     "name": "stdout",
     "output_type": "stream",
     "text": [
      "Train step: 179\n",
      "Samples: 40096 : 40320\n",
      "Train step: 180\n",
      "Samples: 40320 : 40544\n"
     ]
    },
    {
     "name": "stderr",
     "output_type": "stream",
     "text": [
      " 18%|█▊        | 182/1000 [00:46<02:26,  5.59it/s]"
     ]
    },
    {
     "name": "stdout",
     "output_type": "stream",
     "text": [
      "Train step: 181\n",
      "Samples: 40544 : 40768\n",
      "Train step: 182\n",
      "Samples: 40768 : 40992\n"
     ]
    },
    {
     "name": "stderr",
     "output_type": "stream",
     "text": [
      " 18%|█▊        | 184/1000 [00:46<02:25,  5.59it/s]"
     ]
    },
    {
     "name": "stdout",
     "output_type": "stream",
     "text": [
      "Train step: 183\n",
      "Samples: 40992 : 41216\n",
      "Train step: 184\n",
      "Samples: 41216 : 41440\n"
     ]
    },
    {
     "name": "stderr",
     "output_type": "stream",
     "text": [
      " 19%|█▊        | 186/1000 [00:47<02:25,  5.59it/s]"
     ]
    },
    {
     "name": "stdout",
     "output_type": "stream",
     "text": [
      "Train step: 185\n",
      "Samples: 41440 : 41664\n",
      "Train step: 186\n",
      "Samples: 41664 : 41888\n"
     ]
    },
    {
     "name": "stderr",
     "output_type": "stream",
     "text": [
      " 19%|█▉        | 188/1000 [00:47<02:25,  5.60it/s]"
     ]
    },
    {
     "name": "stdout",
     "output_type": "stream",
     "text": [
      "Train step: 187\n",
      "Samples: 41888 : 42112\n",
      "Train step: 188\n",
      "Samples: 42112 : 42336\n"
     ]
    },
    {
     "name": "stderr",
     "output_type": "stream",
     "text": [
      " 19%|█▉        | 190/1000 [00:47<02:24,  5.60it/s]"
     ]
    },
    {
     "name": "stdout",
     "output_type": "stream",
     "text": [
      "Train step: 189\n",
      "Samples: 42336 : 42560\n",
      "Train step: 190\n",
      "Samples: 42560 : 42784\n"
     ]
    },
    {
     "name": "stderr",
     "output_type": "stream",
     "text": [
      " 19%|█▉        | 192/1000 [00:48<02:24,  5.59it/s]"
     ]
    },
    {
     "name": "stdout",
     "output_type": "stream",
     "text": [
      "Train step: 191\n",
      "Samples: 42784 : 43008\n",
      "Train step: 192\n",
      "Samples: 43008 : 43232\n"
     ]
    },
    {
     "name": "stderr",
     "output_type": "stream",
     "text": [
      " 19%|█▉        | 194/1000 [00:48<02:24,  5.59it/s]"
     ]
    },
    {
     "name": "stdout",
     "output_type": "stream",
     "text": [
      "Train step: 193\n",
      "Samples: 43232 : 43456\n",
      "Train step: 194\n",
      "Samples: 43456 : 43680\n"
     ]
    },
    {
     "name": "stderr",
     "output_type": "stream",
     "text": [
      " 20%|█▉        | 196/1000 [00:48<02:23,  5.59it/s]"
     ]
    },
    {
     "name": "stdout",
     "output_type": "stream",
     "text": [
      "Train step: 195\n",
      "Samples: 43680 : 43904\n",
      "Train step: 196\n",
      "Samples: 43904 : 44128\n"
     ]
    },
    {
     "name": "stderr",
     "output_type": "stream",
     "text": [
      " 20%|█▉        | 198/1000 [00:49<02:23,  5.59it/s]"
     ]
    },
    {
     "name": "stdout",
     "output_type": "stream",
     "text": [
      "Train step: 197\n",
      "Samples: 44128 : 44352\n",
      "Train step: 198\n",
      "Samples: 44352 : 44576\n"
     ]
    },
    {
     "name": "stderr",
     "output_type": "stream",
     "text": [
      " 20%|██        | 200/1000 [00:49<02:22,  5.59it/s]"
     ]
    },
    {
     "name": "stdout",
     "output_type": "stream",
     "text": [
      "Train step: 199\n",
      "Samples: 44576 : 44800\n",
      "Train step: 200\n",
      "Samples: 44800 : 45024\n"
     ]
    },
    {
     "name": "stderr",
     "output_type": "stream",
     "text": [
      " 20%|██        | 202/1000 [00:49<02:22,  5.60it/s]"
     ]
    },
    {
     "name": "stdout",
     "output_type": "stream",
     "text": [
      "Train step: 201\n",
      "Samples: 45024 : 45248\n",
      "Train step: 202\n",
      "Samples: 45248 : 45472\n"
     ]
    },
    {
     "name": "stderr",
     "output_type": "stream",
     "text": [
      " 20%|██        | 204/1000 [00:50<02:22,  5.60it/s]"
     ]
    },
    {
     "name": "stdout",
     "output_type": "stream",
     "text": [
      "Train step: 203\n",
      "Samples: 45472 : 45696\n",
      "Train step: 204\n",
      "Samples: 45696 : 45920\n"
     ]
    },
    {
     "name": "stderr",
     "output_type": "stream",
     "text": [
      " 21%|██        | 206/1000 [00:50<02:21,  5.60it/s]"
     ]
    },
    {
     "name": "stdout",
     "output_type": "stream",
     "text": [
      "Train step: 205\n",
      "Samples: 45920 : 46144\n",
      "Train step: 206\n",
      "Samples: 46144 : 46368\n"
     ]
    },
    {
     "name": "stderr",
     "output_type": "stream",
     "text": [
      " 21%|██        | 208/1000 [00:51<02:21,  5.60it/s]"
     ]
    },
    {
     "name": "stdout",
     "output_type": "stream",
     "text": [
      "Train step: 207\n",
      "Samples: 46368 : 46592\n",
      "Train step: 208\n",
      "Samples: 46592 : 46816\n"
     ]
    },
    {
     "name": "stderr",
     "output_type": "stream",
     "text": [
      " 21%|██        | 210/1000 [00:51<02:20,  5.60it/s]"
     ]
    },
    {
     "name": "stdout",
     "output_type": "stream",
     "text": [
      "Train step: 209\n",
      "Samples: 46816 : 47040\n",
      "Train step: 210\n",
      "Samples: 47040 : 47264\n"
     ]
    },
    {
     "name": "stderr",
     "output_type": "stream",
     "text": [
      " 21%|██        | 212/1000 [00:51<02:20,  5.60it/s]"
     ]
    },
    {
     "name": "stdout",
     "output_type": "stream",
     "text": [
      "Train step: 211\n",
      "Samples: 47264 : 47488\n",
      "Train step: 212\n",
      "Samples: 47488 : 47712\n"
     ]
    },
    {
     "name": "stderr",
     "output_type": "stream",
     "text": [
      " 21%|██▏       | 214/1000 [00:52<02:20,  5.60it/s]"
     ]
    },
    {
     "name": "stdout",
     "output_type": "stream",
     "text": [
      "Train step: 213\n",
      "Samples: 47712 : 47936\n",
      "Train step: 214\n",
      "Samples: 47936 : 48160\n"
     ]
    },
    {
     "name": "stderr",
     "output_type": "stream",
     "text": [
      " 22%|██▏       | 216/1000 [00:52<02:20,  5.60it/s]"
     ]
    },
    {
     "name": "stdout",
     "output_type": "stream",
     "text": [
      "Train step: 215\n",
      "Samples: 48160 : 48384\n",
      "Train step: 216\n",
      "Samples: 48384 : 48608\n"
     ]
    },
    {
     "name": "stderr",
     "output_type": "stream",
     "text": [
      " 22%|██▏       | 218/1000 [00:52<02:19,  5.60it/s]"
     ]
    },
    {
     "name": "stdout",
     "output_type": "stream",
     "text": [
      "Train step: 217\n",
      "Samples: 48608 : 48832\n",
      "Train step: 218\n",
      "Samples: 48832 : 49056\n"
     ]
    },
    {
     "name": "stderr",
     "output_type": "stream",
     "text": [
      " 22%|██▏       | 220/1000 [00:53<02:19,  5.60it/s]"
     ]
    },
    {
     "name": "stdout",
     "output_type": "stream",
     "text": [
      "Train step: 219\n",
      "Samples: 49056 : 49280\n",
      "Train step: 220\n",
      "Samples: 49280 : 49504\n"
     ]
    },
    {
     "name": "stderr",
     "output_type": "stream",
     "text": [
      " 22%|██▏       | 222/1000 [00:53<02:18,  5.60it/s]"
     ]
    },
    {
     "name": "stdout",
     "output_type": "stream",
     "text": [
      "Train step: 221\n",
      "Samples: 49504 : 49728\n",
      "Train step: 222\n",
      "Samples: 49728 : 49952\n"
     ]
    },
    {
     "name": "stderr",
     "output_type": "stream",
     "text": [
      " 22%|██▏       | 224/1000 [00:53<02:18,  5.60it/s]"
     ]
    },
    {
     "name": "stdout",
     "output_type": "stream",
     "text": [
      "Train step: 223\n",
      "Samples: 49952 : 50176\n",
      "Train step: 224\n",
      "Samples: 50176 : 50400\n"
     ]
    },
    {
     "name": "stderr",
     "output_type": "stream",
     "text": [
      " 23%|██▎       | 226/1000 [00:54<02:18,  5.60it/s]"
     ]
    },
    {
     "name": "stdout",
     "output_type": "stream",
     "text": [
      "Train step: 225\n",
      "Samples: 50400 : 50624\n",
      "Train step: 226\n",
      "Samples: 50624 : 50848\n"
     ]
    },
    {
     "name": "stderr",
     "output_type": "stream",
     "text": [
      " 23%|██▎       | 228/1000 [00:54<02:17,  5.60it/s]"
     ]
    },
    {
     "name": "stdout",
     "output_type": "stream",
     "text": [
      "Train step: 227\n",
      "Samples: 50848 : 51072\n",
      "Train step: 228\n",
      "Samples: 51072 : 51296\n"
     ]
    },
    {
     "name": "stderr",
     "output_type": "stream",
     "text": [
      " 23%|██▎       | 230/1000 [00:54<02:17,  5.59it/s]"
     ]
    },
    {
     "name": "stdout",
     "output_type": "stream",
     "text": [
      "Train step: 229\n",
      "Samples: 51296 : 51520\n",
      "Train step: 230\n",
      "Samples: 51520 : 51744\n"
     ]
    },
    {
     "name": "stderr",
     "output_type": "stream",
     "text": [
      " 23%|██▎       | 232/1000 [00:55<02:17,  5.59it/s]"
     ]
    },
    {
     "name": "stdout",
     "output_type": "stream",
     "text": [
      "Train step: 231\n",
      "Samples: 51744 : 51968\n",
      "Train step: 232\n",
      "Samples: 51968 : 52192\n"
     ]
    },
    {
     "name": "stderr",
     "output_type": "stream",
     "text": [
      " 23%|██▎       | 234/1000 [00:55<02:16,  5.60it/s]"
     ]
    },
    {
     "name": "stdout",
     "output_type": "stream",
     "text": [
      "Train step: 233\n",
      "Samples: 52192 : 52416\n",
      "Train step: 234\n",
      "Samples: 52416 : 52640\n"
     ]
    },
    {
     "name": "stderr",
     "output_type": "stream",
     "text": [
      " 24%|██▎       | 236/1000 [00:56<02:16,  5.60it/s]"
     ]
    },
    {
     "name": "stdout",
     "output_type": "stream",
     "text": [
      "Train step: 235\n",
      "Samples: 52640 : 52864\n",
      "Train step: 236\n",
      "Samples: 52864 : 53088\n"
     ]
    },
    {
     "name": "stderr",
     "output_type": "stream",
     "text": [
      " 24%|██▍       | 238/1000 [00:56<02:15,  5.61it/s]"
     ]
    },
    {
     "name": "stdout",
     "output_type": "stream",
     "text": [
      "Train step: 237\n",
      "Samples: 53088 : 53312\n",
      "Train step: 238\n",
      "Samples: 53312 : 53536\n"
     ]
    },
    {
     "name": "stderr",
     "output_type": "stream",
     "text": [
      " 24%|██▍       | 240/1000 [00:56<02:15,  5.61it/s]"
     ]
    },
    {
     "name": "stdout",
     "output_type": "stream",
     "text": [
      "Train step: 239\n",
      "Samples: 53536 : 53760\n",
      "Train step: 240\n",
      "Samples: 53760 : 53984\n"
     ]
    },
    {
     "name": "stderr",
     "output_type": "stream",
     "text": [
      " 24%|██▍       | 242/1000 [00:57<02:15,  5.60it/s]"
     ]
    },
    {
     "name": "stdout",
     "output_type": "stream",
     "text": [
      "Train step: 241\n",
      "Samples: 53984 : 54208\n",
      "Train step: 242\n",
      "Samples: 54208 : 54432\n"
     ]
    },
    {
     "name": "stderr",
     "output_type": "stream",
     "text": [
      " 24%|██▍       | 244/1000 [00:57<02:15,  5.60it/s]"
     ]
    },
    {
     "name": "stdout",
     "output_type": "stream",
     "text": [
      "Train step: 243\n",
      "Samples: 54432 : 54656\n",
      "Train step: 244\n",
      "Samples: 54656 : 54880\n"
     ]
    },
    {
     "name": "stderr",
     "output_type": "stream",
     "text": [
      " 25%|██▍       | 246/1000 [00:57<02:14,  5.60it/s]"
     ]
    },
    {
     "name": "stdout",
     "output_type": "stream",
     "text": [
      "Train step: 245\n",
      "Samples: 54880 : 55104\n",
      "Train step: 246\n",
      "Samples: 55104 : 55328\n"
     ]
    },
    {
     "name": "stderr",
     "output_type": "stream",
     "text": [
      " 25%|██▍       | 248/1000 [00:58<02:14,  5.60it/s]"
     ]
    },
    {
     "name": "stdout",
     "output_type": "stream",
     "text": [
      "Train step: 247\n",
      "Samples: 55328 : 55552\n",
      "Train step: 248\n",
      "Samples: 55552 : 55776\n"
     ]
    },
    {
     "name": "stderr",
     "output_type": "stream",
     "text": [
      " 25%|██▌       | 250/1000 [00:58<02:14,  5.60it/s]"
     ]
    },
    {
     "name": "stdout",
     "output_type": "stream",
     "text": [
      "Train step: 249\n",
      "Samples: 55776 : 56000\n",
      "Train step: 250\n",
      "Samples: 56000 : 56224\n"
     ]
    },
    {
     "name": "stderr",
     "output_type": "stream",
     "text": [
      " 25%|██▌       | 252/1000 [00:58<02:13,  5.59it/s]"
     ]
    },
    {
     "name": "stdout",
     "output_type": "stream",
     "text": [
      "Train step: 251\n",
      "Samples: 56224 : 56448\n",
      "Train step: 252\n",
      "Samples: 56448 : 56672\n"
     ]
    },
    {
     "name": "stderr",
     "output_type": "stream",
     "text": [
      " 25%|██▌       | 254/1000 [00:59<02:13,  5.59it/s]"
     ]
    },
    {
     "name": "stdout",
     "output_type": "stream",
     "text": [
      "Train step: 253\n",
      "Samples: 56672 : 56896\n",
      "Train step: 254\n",
      "Samples: 56896 : 57120\n"
     ]
    },
    {
     "name": "stderr",
     "output_type": "stream",
     "text": [
      " 26%|██▌       | 256/1000 [00:59<02:12,  5.60it/s]"
     ]
    },
    {
     "name": "stdout",
     "output_type": "stream",
     "text": [
      "Train step: 255\n",
      "Samples: 57120 : 57344\n",
      "Train step: 256\n",
      "Samples: 57344 : 57568\n"
     ]
    },
    {
     "name": "stderr",
     "output_type": "stream",
     "text": [
      " 26%|██▌       | 258/1000 [00:59<02:12,  5.60it/s]"
     ]
    },
    {
     "name": "stdout",
     "output_type": "stream",
     "text": [
      "Train step: 257\n",
      "Samples: 57568 : 57792\n",
      "Train step: 258\n",
      "Samples: 57792 : 58016\n"
     ]
    },
    {
     "name": "stderr",
     "output_type": "stream",
     "text": [
      " 26%|██▌       | 260/1000 [01:00<02:12,  5.60it/s]"
     ]
    },
    {
     "name": "stdout",
     "output_type": "stream",
     "text": [
      "Train step: 259\n",
      "Samples: 58016 : 58240\n",
      "Train step: 260\n",
      "Samples: 58240 : 58464\n"
     ]
    },
    {
     "name": "stderr",
     "output_type": "stream",
     "text": [
      " 26%|██▌       | 262/1000 [01:00<02:11,  5.60it/s]"
     ]
    },
    {
     "name": "stdout",
     "output_type": "stream",
     "text": [
      "Train step: 261\n",
      "Samples: 58464 : 58688\n",
      "Train step: 262\n",
      "Samples: 58688 : 58912\n"
     ]
    },
    {
     "name": "stderr",
     "output_type": "stream",
     "text": [
      " 26%|██▋       | 264/1000 [01:01<02:11,  5.60it/s]"
     ]
    },
    {
     "name": "stdout",
     "output_type": "stream",
     "text": [
      "Train step: 263\n",
      "Samples: 58912 : 59136\n",
      "Train step: 264\n",
      "Samples: 59136 : 59360\n"
     ]
    },
    {
     "name": "stderr",
     "output_type": "stream",
     "text": [
      " 27%|██▋       | 266/1000 [01:01<02:11,  5.59it/s]"
     ]
    },
    {
     "name": "stdout",
     "output_type": "stream",
     "text": [
      "Train step: 265\n",
      "Samples: 59360 : 59584\n",
      "Train step: 266\n",
      "Samples: 59584 : 59808\n"
     ]
    },
    {
     "name": "stderr",
     "output_type": "stream",
     "text": [
      " 27%|██▋       | 268/1000 [01:01<02:10,  5.59it/s]"
     ]
    },
    {
     "name": "stdout",
     "output_type": "stream",
     "text": [
      "Train step: 267\n",
      "Samples: 59808 : 60032\n",
      "Train step: 268\n",
      "Samples: 60032 : 60256\n"
     ]
    },
    {
     "name": "stderr",
     "output_type": "stream",
     "text": [
      " 27%|██▋       | 270/1000 [01:02<02:10,  5.60it/s]"
     ]
    },
    {
     "name": "stdout",
     "output_type": "stream",
     "text": [
      "Train step: 269\n",
      "Samples: 60256 : 60480\n",
      "Train step: 270\n",
      "Samples: 60480 : 60704\n"
     ]
    },
    {
     "name": "stderr",
     "output_type": "stream",
     "text": [
      " 27%|██▋       | 272/1000 [01:02<02:10,  5.59it/s]"
     ]
    },
    {
     "name": "stdout",
     "output_type": "stream",
     "text": [
      "Train step: 271\n",
      "Samples: 60704 : 60928\n",
      "Train step: 272\n",
      "Samples: 60928 : 61152\n"
     ]
    },
    {
     "name": "stderr",
     "output_type": "stream",
     "text": [
      " 27%|██▋       | 274/1000 [01:02<02:09,  5.60it/s]"
     ]
    },
    {
     "name": "stdout",
     "output_type": "stream",
     "text": [
      "Train step: 273\n",
      "Samples: 61152 : 61376\n",
      "Train step: 274\n",
      "Samples: 61376 : 61600\n"
     ]
    },
    {
     "name": "stderr",
     "output_type": "stream",
     "text": [
      " 28%|██▊       | 276/1000 [01:03<02:09,  5.59it/s]"
     ]
    },
    {
     "name": "stdout",
     "output_type": "stream",
     "text": [
      "Train step: 275\n",
      "Samples: 61600 : 61824\n",
      "Train step: 276\n",
      "Samples: 61824 : 62048\n"
     ]
    },
    {
     "name": "stderr",
     "output_type": "stream",
     "text": [
      " 28%|██▊       | 278/1000 [01:03<02:08,  5.60it/s]"
     ]
    },
    {
     "name": "stdout",
     "output_type": "stream",
     "text": [
      "Train step: 277\n",
      "Samples: 62048 : 62272\n",
      "Train step: 278\n",
      "Samples: 62272 : 62496\n"
     ]
    },
    {
     "name": "stderr",
     "output_type": "stream",
     "text": [
      " 28%|██▊       | 280/1000 [01:03<02:08,  5.60it/s]"
     ]
    },
    {
     "name": "stdout",
     "output_type": "stream",
     "text": [
      "Train step: 279\n",
      "Samples: 62496 : 62720\n",
      "Train step: 280\n",
      "Samples: 62720 : 62944\n"
     ]
    },
    {
     "name": "stderr",
     "output_type": "stream",
     "text": [
      " 28%|██▊       | 282/1000 [01:04<02:08,  5.60it/s]"
     ]
    },
    {
     "name": "stdout",
     "output_type": "stream",
     "text": [
      "Train step: 281\n",
      "Samples: 62944 : 63168\n",
      "Train step: 282\n",
      "Samples: 63168 : 63392\n"
     ]
    },
    {
     "name": "stderr",
     "output_type": "stream",
     "text": [
      " 28%|██▊       | 284/1000 [01:04<02:07,  5.60it/s]"
     ]
    },
    {
     "name": "stdout",
     "output_type": "stream",
     "text": [
      "Train step: 283\n",
      "Samples: 63392 : 63616\n",
      "Train step: 284\n",
      "Samples: 63616 : 63840\n"
     ]
    },
    {
     "name": "stderr",
     "output_type": "stream",
     "text": [
      " 29%|██▊       | 286/1000 [01:04<02:07,  5.60it/s]"
     ]
    },
    {
     "name": "stdout",
     "output_type": "stream",
     "text": [
      "Train step: 285\n",
      "Samples: 63840 : 64064\n",
      "Train step: 286\n",
      "Samples: 64064 : 64288\n"
     ]
    },
    {
     "name": "stderr",
     "output_type": "stream",
     "text": [
      " 29%|██▉       | 288/1000 [01:05<02:07,  5.60it/s]"
     ]
    },
    {
     "name": "stdout",
     "output_type": "stream",
     "text": [
      "Train step: 287\n",
      "Samples: 64288 : 64512\n",
      "Train step: 288\n",
      "Samples: 64512 : 64736\n"
     ]
    },
    {
     "name": "stderr",
     "output_type": "stream",
     "text": [
      " 29%|██▉       | 290/1000 [01:05<02:06,  5.60it/s]"
     ]
    },
    {
     "name": "stdout",
     "output_type": "stream",
     "text": [
      "Train step: 289\n",
      "Samples: 64736 : 64960\n",
      "Train step: 290\n",
      "Samples: 64960 : 65184\n"
     ]
    },
    {
     "name": "stderr",
     "output_type": "stream",
     "text": [
      " 29%|██▉       | 292/1000 [01:06<02:06,  5.60it/s]"
     ]
    },
    {
     "name": "stdout",
     "output_type": "stream",
     "text": [
      "Train step: 291\n",
      "Samples: 65184 : 65408\n",
      "Train step: 292\n",
      "Samples: 65408 : 65632\n"
     ]
    },
    {
     "name": "stderr",
     "output_type": "stream",
     "text": [
      " 29%|██▉       | 294/1000 [01:06<02:06,  5.60it/s]"
     ]
    },
    {
     "name": "stdout",
     "output_type": "stream",
     "text": [
      "Train step: 293\n",
      "Samples: 65632 : 65856\n",
      "Train step: 294\n",
      "Samples: 65856 : 66080\n"
     ]
    },
    {
     "name": "stderr",
     "output_type": "stream",
     "text": [
      " 30%|██▉       | 296/1000 [01:06<02:05,  5.60it/s]"
     ]
    },
    {
     "name": "stdout",
     "output_type": "stream",
     "text": [
      "Train step: 295\n",
      "Samples: 66080 : 66304\n",
      "Train step: 296\n",
      "Samples: 66304 : 66528\n"
     ]
    },
    {
     "name": "stderr",
     "output_type": "stream",
     "text": [
      " 30%|██▉       | 298/1000 [01:07<02:05,  5.61it/s]"
     ]
    },
    {
     "name": "stdout",
     "output_type": "stream",
     "text": [
      "Train step: 297\n",
      "Samples: 66528 : 66752\n",
      "Train step: 298\n",
      "Samples: 66752 : 66976\n"
     ]
    },
    {
     "name": "stderr",
     "output_type": "stream",
     "text": [
      " 30%|███       | 300/1000 [01:07<02:04,  5.61it/s]"
     ]
    },
    {
     "name": "stdout",
     "output_type": "stream",
     "text": [
      "Train step: 299\n",
      "Samples: 66976 : 67200\n",
      "Train step: 300\n",
      "Samples: 67200 : 67424\n"
     ]
    },
    {
     "name": "stderr",
     "output_type": "stream",
     "text": [
      " 30%|███       | 302/1000 [01:07<02:04,  5.60it/s]"
     ]
    },
    {
     "name": "stdout",
     "output_type": "stream",
     "text": [
      "Train step: 301\n",
      "Samples: 67424 : 67648\n",
      "Train step: 302\n",
      "Samples: 67648 : 67872\n"
     ]
    },
    {
     "name": "stderr",
     "output_type": "stream",
     "text": [
      " 30%|███       | 304/1000 [01:08<02:04,  5.60it/s]"
     ]
    },
    {
     "name": "stdout",
     "output_type": "stream",
     "text": [
      "Train step: 303\n",
      "Samples: 67872 : 68096\n",
      "Train step: 304\n",
      "Samples: 68096 : 68320\n"
     ]
    },
    {
     "name": "stderr",
     "output_type": "stream",
     "text": [
      " 31%|███       | 306/1000 [01:08<02:03,  5.60it/s]"
     ]
    },
    {
     "name": "stdout",
     "output_type": "stream",
     "text": [
      "Train step: 305\n",
      "Samples: 68320 : 68544\n",
      "Train step: 306\n",
      "Samples: 68544 : 68768\n"
     ]
    },
    {
     "name": "stderr",
     "output_type": "stream",
     "text": [
      " 31%|███       | 308/1000 [01:08<02:03,  5.60it/s]"
     ]
    },
    {
     "name": "stdout",
     "output_type": "stream",
     "text": [
      "Train step: 307\n",
      "Samples: 68768 : 68992\n",
      "Train step: 308\n",
      "Samples: 68992 : 69216\n"
     ]
    },
    {
     "name": "stderr",
     "output_type": "stream",
     "text": [
      " 31%|███       | 310/1000 [01:09<02:03,  5.60it/s]"
     ]
    },
    {
     "name": "stdout",
     "output_type": "stream",
     "text": [
      "Train step: 309\n",
      "Samples: 69216 : 69440\n",
      "Train step: 310\n",
      "Samples: 69440 : 69664\n"
     ]
    },
    {
     "name": "stderr",
     "output_type": "stream",
     "text": [
      " 31%|███       | 312/1000 [01:09<02:02,  5.60it/s]"
     ]
    },
    {
     "name": "stdout",
     "output_type": "stream",
     "text": [
      "Train step: 311\n",
      "Samples: 69664 : 69888\n",
      "Train step: 312\n",
      "Samples: 69888 : 70112\n"
     ]
    },
    {
     "name": "stderr",
     "output_type": "stream",
     "text": [
      " 31%|███▏      | 314/1000 [01:09<02:02,  5.60it/s]"
     ]
    },
    {
     "name": "stdout",
     "output_type": "stream",
     "text": [
      "Train step: 313\n",
      "Samples: 70112 : 70336\n",
      "Train step: 314\n",
      "Samples: 70336 : 70560\n"
     ]
    },
    {
     "name": "stderr",
     "output_type": "stream",
     "text": [
      " 32%|███▏      | 316/1000 [01:10<02:02,  5.59it/s]"
     ]
    },
    {
     "name": "stdout",
     "output_type": "stream",
     "text": [
      "Train step: 315\n",
      "Samples: 70560 : 70784\n",
      "Train step: 316\n",
      "Samples: 70784 : 71008\n"
     ]
    },
    {
     "name": "stderr",
     "output_type": "stream",
     "text": [
      " 32%|███▏      | 318/1000 [01:10<02:01,  5.59it/s]"
     ]
    },
    {
     "name": "stdout",
     "output_type": "stream",
     "text": [
      "Train step: 317\n",
      "Samples: 71008 : 71232\n",
      "Train step: 318\n",
      "Samples: 71232 : 71456\n"
     ]
    },
    {
     "name": "stderr",
     "output_type": "stream",
     "text": [
      " 32%|███▏      | 320/1000 [01:11<02:01,  5.59it/s]"
     ]
    },
    {
     "name": "stdout",
     "output_type": "stream",
     "text": [
      "Train step: 319\n",
      "Samples: 71456 : 71680\n",
      "Train step: 320\n",
      "Samples: 71680 : 71904\n"
     ]
    },
    {
     "name": "stderr",
     "output_type": "stream",
     "text": [
      " 32%|███▏      | 322/1000 [01:11<02:01,  5.59it/s]"
     ]
    },
    {
     "name": "stdout",
     "output_type": "stream",
     "text": [
      "Train step: 321\n",
      "Samples: 71904 : 72128\n",
      "Train step: 322\n",
      "Samples: 72128 : 72352\n"
     ]
    },
    {
     "name": "stderr",
     "output_type": "stream",
     "text": [
      " 32%|███▏      | 324/1000 [01:11<02:00,  5.59it/s]"
     ]
    },
    {
     "name": "stdout",
     "output_type": "stream",
     "text": [
      "Train step: 323\n",
      "Samples: 72352 : 72576\n",
      "Train step: 324\n",
      "Samples: 72576 : 72800\n"
     ]
    },
    {
     "name": "stderr",
     "output_type": "stream",
     "text": [
      " 33%|███▎      | 326/1000 [01:12<02:00,  5.60it/s]"
     ]
    },
    {
     "name": "stdout",
     "output_type": "stream",
     "text": [
      "Train step: 325\n",
      "Samples: 72800 : 73024\n",
      "Train step: 326\n",
      "Samples: 73024 : 73248\n"
     ]
    },
    {
     "name": "stderr",
     "output_type": "stream",
     "text": [
      " 33%|███▎      | 328/1000 [01:12<02:00,  5.60it/s]"
     ]
    },
    {
     "name": "stdout",
     "output_type": "stream",
     "text": [
      "Train step: 327\n",
      "Samples: 73248 : 73472\n",
      "Train step: 328\n",
      "Samples: 73472 : 73696\n"
     ]
    },
    {
     "name": "stderr",
     "output_type": "stream",
     "text": [
      " 33%|███▎      | 330/1000 [01:12<01:59,  5.60it/s]"
     ]
    },
    {
     "name": "stdout",
     "output_type": "stream",
     "text": [
      "Train step: 329\n",
      "Samples: 73696 : 73920\n",
      "Train step: 330\n",
      "Samples: 73920 : 74144\n"
     ]
    },
    {
     "name": "stderr",
     "output_type": "stream",
     "text": [
      " 34%|███▎      | 335/1000 [01:13<00:57, 11.57it/s]"
     ]
    },
    {
     "name": "stdout",
     "output_type": "stream",
     "text": [
      "Train step: 331\n",
      "Samples: 74144 : 74368\n",
      "Train step: 332\n",
      "Samples: 74368 : 74592\n",
      "Train step: 333\n",
      "Samples: 74592 : 74816\n",
      "Train step: 334\n",
      "Samples: 74816 : 75040\n",
      "Train step: 335\n",
      "Samples: 75040 : 75264\n",
      "Train step: 336\n",
      "Samples: 75264 : 75488\n",
      "Train step: 337\n",
      "Samples: 75488 : 75712\n"
     ]
    },
    {
     "name": "stderr",
     "output_type": "stream",
     "text": [
      " 34%|███▍      | 343/1000 [01:13<00:31, 21.15it/s]"
     ]
    },
    {
     "name": "stdout",
     "output_type": "stream",
     "text": [
      "Train step: 338\n",
      "Samples: 75712 : 75936\n",
      "Train step: 339\n",
      "Samples: 75936 : 76160\n",
      "Train step: 340\n",
      "Samples: 76160 : 76384\n",
      "Train step: 341\n",
      "Samples: 76384 : 76608\n",
      "Train step: 342\n",
      "Samples: 76608 : 76832\n",
      "Train step: 343\n",
      "Samples: 76832 : 77056\n",
      "Train step: 344\n",
      "Samples: 77056 : 77280\n"
     ]
    },
    {
     "name": "stderr",
     "output_type": "stream",
     "text": [
      " 35%|███▌      | 351/1000 [01:13<00:23, 27.13it/s]"
     ]
    },
    {
     "name": "stdout",
     "output_type": "stream",
     "text": [
      "Train step: 345\n",
      "Samples: 77280 : 77504\n",
      "Train step: 346\n",
      "Samples: 77504 : 77728\n",
      "Train step: 347\n",
      "Samples: 77728 : 77952\n",
      "Train step: 348\n",
      "Samples: 77952 : 78176\n",
      "Train step: 349\n",
      "Samples: 78176 : 78400\n",
      "Train step: 350\n",
      "Samples: 78400 : 78624\n",
      "Train step: 351\n",
      "Samples: 78624 : 78848\n"
     ]
    },
    {
     "name": "stderr",
     "output_type": "stream",
     "text": [
      " 36%|███▌      | 355/1000 [01:13<00:22, 29.05it/s]"
     ]
    },
    {
     "name": "stdout",
     "output_type": "stream",
     "text": [
      "Train step: 352\n",
      "Samples: 78848 : 79072\n",
      "Train step: 353\n",
      "Samples: 79072 : 79296\n",
      "Train step: 354\n",
      "Samples: 79296 : 79520\n",
      "Train step: 355\n",
      "Samples: 79520 : 79744\n",
      "Train step: 356\n",
      "Samples: 79744 : 79968\n",
      "Train step: 357\n",
      "Samples: 79968 : 80192\n",
      "Train step: 358\n",
      "Samples: 80192 : 80416\n"
     ]
    },
    {
     "name": "stderr",
     "output_type": "stream",
     "text": [
      " 36%|███▋      | 363/1000 [01:13<00:20, 31.51it/s]"
     ]
    },
    {
     "name": "stdout",
     "output_type": "stream",
     "text": [
      "Train step: 359\n",
      "Samples: 80416 : 80640\n",
      "Train step: 360\n",
      "Samples: 80640 : 80864\n",
      "Train step: 361\n",
      "Samples: 80864 : 81088\n",
      "Train step: 362\n",
      "Samples: 81088 : 81312\n",
      "Train step: 363\n",
      "Samples: 81312 : 81536\n",
      "Train step: 364\n",
      "Samples: 81536 : 81760\n",
      "Train step: 365\n",
      "Samples: 81760 : 81984\n"
     ]
    },
    {
     "name": "stderr",
     "output_type": "stream",
     "text": [
      " 37%|███▋      | 371/1000 [01:14<00:19, 32.74it/s]"
     ]
    },
    {
     "name": "stdout",
     "output_type": "stream",
     "text": [
      "Train step: 366\n",
      "Samples: 81984 : 82208\n",
      "Train step: 367\n",
      "Samples: 82208 : 82432\n",
      "Train step: 368\n",
      "Samples: 82432 : 82656\n",
      "Train step: 369\n",
      "Samples: 82656 : 82880\n",
      "Train step: 370\n",
      "Samples: 82880 : 83104\n",
      "Train step: 371\n",
      "Samples: 83104 : 83328\n",
      "Train step: 372\n",
      "Samples: 83328 : 83552\n"
     ]
    },
    {
     "name": "stderr",
     "output_type": "stream",
     "text": [
      " 38%|███▊      | 379/1000 [01:14<00:18, 33.37it/s]"
     ]
    },
    {
     "name": "stdout",
     "output_type": "stream",
     "text": [
      "Train step: 373\n",
      "Samples: 83552 : 83776\n",
      "Train step: 374\n",
      "Samples: 83776 : 84000\n",
      "Train step: 375\n",
      "Samples: 84000 : 84224\n",
      "Train step: 376\n",
      "Samples: 84224 : 84448\n",
      "Train step: 377\n",
      "Samples: 84448 : 84672\n",
      "Train step: 378\n",
      "Samples: 84672 : 84896\n",
      "Train step: 379\n",
      "Samples: 84896 : 85120\n"
     ]
    },
    {
     "name": "stderr",
     "output_type": "stream",
     "text": [
      " 38%|███▊      | 383/1000 [01:14<00:18, 33.55it/s]"
     ]
    },
    {
     "name": "stdout",
     "output_type": "stream",
     "text": [
      "Train step: 380\n",
      "Samples: 85120 : 85344\n",
      "Train step: 381\n",
      "Samples: 85344 : 85568\n",
      "Train step: 382\n",
      "Samples: 85568 : 85792\n",
      "Train step: 383\n",
      "Samples: 85792 : 86016\n",
      "Train step: 384\n",
      "Samples: 86016 : 86240\n",
      "Train step: 385\n",
      "Samples: 86240 : 86464\n",
      "Train step: 386\n",
      "Samples: 86464 : 86688\n"
     ]
    },
    {
     "name": "stderr",
     "output_type": "stream",
     "text": [
      " 39%|███▉      | 391/1000 [01:14<00:18, 33.79it/s]"
     ]
    },
    {
     "name": "stdout",
     "output_type": "stream",
     "text": [
      "Train step: 387\n",
      "Samples: 86688 : 86912\n",
      "Train step: 388\n",
      "Samples: 86912 : 87136\n",
      "Train step: 389\n",
      "Samples: 87136 : 87360\n",
      "Train step: 390\n",
      "Samples: 87360 : 87584\n",
      "Train step: 391\n",
      "Samples: 87584 : 87808\n",
      "Train step: 392\n",
      "Samples: 87808 : 88032\n",
      "Train step: 393\n",
      "Samples: 88032 : 88256\n"
     ]
    },
    {
     "name": "stderr",
     "output_type": "stream",
     "text": [
      " 40%|███▉      | 399/1000 [01:15<00:17, 33.88it/s]"
     ]
    },
    {
     "name": "stdout",
     "output_type": "stream",
     "text": [
      "Train step: 394\n",
      "Samples: 88256 : 88480\n",
      "Train step: 395\n",
      "Samples: 88480 : 88704\n",
      "Train step: 396\n",
      "Samples: 88704 : 88928\n",
      "Train step: 397\n",
      "Samples: 88928 : 89152\n",
      "Train step: 398\n",
      "Samples: 89152 : 89376\n",
      "Train step: 399\n",
      "Samples: 89376 : 89600\n",
      "Train step: 400\n",
      "Samples: 89600 : 89824\n"
     ]
    },
    {
     "name": "stderr",
     "output_type": "stream",
     "text": [
      " 41%|████      | 407/1000 [01:15<00:17, 33.94it/s]"
     ]
    },
    {
     "name": "stdout",
     "output_type": "stream",
     "text": [
      "Train step: 401\n",
      "Samples: 89824 : 90048\n",
      "Train step: 402\n",
      "Samples: 90048 : 90272\n",
      "Train step: 403\n",
      "Samples: 90272 : 90496\n",
      "Train step: 404\n",
      "Samples: 90496 : 90720\n",
      "Train step: 405\n",
      "Samples: 90720 : 90944\n",
      "Train step: 406\n",
      "Samples: 90944 : 91168\n",
      "Train step: 407\n",
      "Samples: 91168 : 91392\n"
     ]
    },
    {
     "name": "stderr",
     "output_type": "stream",
     "text": [
      " 41%|████      | 411/1000 [01:15<00:17, 33.94it/s]"
     ]
    },
    {
     "name": "stdout",
     "output_type": "stream",
     "text": [
      "Train step: 408\n",
      "Samples: 91392 : 91616\n",
      "Train step: 409\n",
      "Samples: 91616 : 91840\n",
      "Train step: 410\n",
      "Samples: 91840 : 92064\n",
      "Train step: 411\n",
      "Samples: 92064 : 92288\n",
      "Train step: 412\n",
      "Samples: 92288 : 92512\n",
      "Train step: 413\n",
      "Samples: 92512 : 92736\n",
      "Train step: 414\n",
      "Samples: 92736 : 92960\n"
     ]
    },
    {
     "name": "stderr",
     "output_type": "stream",
     "text": [
      " 42%|████▏     | 419/1000 [01:15<00:17, 33.75it/s]"
     ]
    },
    {
     "name": "stdout",
     "output_type": "stream",
     "text": [
      "Train step: 415\n",
      "Samples: 92960 : 93184\n",
      "Train step: 416\n",
      "Samples: 93184 : 93408\n",
      "Train step: 417\n",
      "Samples: 93408 : 93632\n",
      "Train step: 418\n",
      "Samples: 93632 : 93856\n",
      "Train step: 419\n",
      "Samples: 93856 : 94080\n",
      "Train step: 420\n",
      "Samples: 94080 : 94304\n",
      "Train step: 421\n",
      "Samples: 94304 : 94528\n"
     ]
    },
    {
     "name": "stderr",
     "output_type": "stream",
     "text": [
      " 43%|████▎     | 427/1000 [01:15<00:18, 31.54it/s]"
     ]
    },
    {
     "name": "stdout",
     "output_type": "stream",
     "text": [
      "Train step: 422\n",
      "Samples: 94528 : 94752\n",
      "Train step: 423\n",
      "Samples: 94752 : 94976\n",
      "Train step: 424\n",
      "Samples: 94976 : 95200\n",
      "Train step: 425\n",
      "Samples: 95200 : 95424\n",
      "Train step: 426\n",
      "Samples: 95424 : 95648\n",
      "Train step: 427\n",
      "Samples: 95648 : 95872\n",
      "Train step: 428\n",
      "Samples: 95872 : 96096\n"
     ]
    },
    {
     "name": "stderr",
     "output_type": "stream",
     "text": [
      " 44%|████▎     | 435/1000 [01:16<00:17, 32.76it/s]"
     ]
    },
    {
     "name": "stdout",
     "output_type": "stream",
     "text": [
      "Train step: 429\n",
      "Samples: 96096 : 96320\n",
      "Train step: 430\n",
      "Samples: 96320 : 96544\n",
      "Train step: 431\n",
      "Samples: 96544 : 96768\n",
      "Train step: 432\n",
      "Samples: 96768 : 96992\n",
      "Train step: 433\n",
      "Samples: 96992 : 97216\n",
      "Train step: 434\n",
      "Samples: 97216 : 97440\n",
      "Train step: 435\n",
      "Samples: 97440 : 97664\n"
     ]
    },
    {
     "name": "stderr",
     "output_type": "stream",
     "text": [
      " 44%|████▍     | 439/1000 [01:16<00:17, 32.94it/s]"
     ]
    },
    {
     "name": "stdout",
     "output_type": "stream",
     "text": [
      "Train step: 436\n",
      "Samples: 97664 : 97888\n",
      "Train step: 437\n",
      "Samples: 97888 : 98112\n",
      "Train step: 438\n",
      "Samples: 98112 : 98336\n",
      "Train step: 439\n",
      "Samples: 98336 : 98560\n",
      "Train step: 440\n",
      "Samples: 98560 : 98784\n",
      "Train step: 441\n",
      "Samples: 98784 : 99008\n",
      "Train step: 442\n",
      "Samples: 99008 : 99232\n"
     ]
    },
    {
     "name": "stderr",
     "output_type": "stream",
     "text": [
      " 45%|████▍     | 447/1000 [01:16<00:16, 33.70it/s]"
     ]
    },
    {
     "name": "stdout",
     "output_type": "stream",
     "text": [
      "Train step: 443\n",
      "Samples: 99232 : 99456\n",
      "Train step: 444\n",
      "Samples: 99456 : 99680\n",
      "Train step: 445\n",
      "Samples: 99680 : 99904\n",
      "Train step: 446\n",
      "Samples: 99904 : 100128\n",
      "Train step: 447\n",
      "Samples: 100128 : 100352\n",
      "Train step: 448\n",
      "Samples: 100352 : 100576\n",
      "Train step: 449\n",
      "Samples: 100576 : 100800\n"
     ]
    },
    {
     "name": "stderr",
     "output_type": "stream",
     "text": [
      " 46%|████▌     | 455/1000 [01:16<00:15, 34.19it/s]"
     ]
    },
    {
     "name": "stdout",
     "output_type": "stream",
     "text": [
      "Train step: 450\n",
      "Samples: 100800 : 101024\n",
      "Train step: 451\n",
      "Samples: 101024 : 101248\n",
      "Train step: 452\n",
      "Samples: 101248 : 101472\n",
      "Train step: 453\n",
      "Samples: 101472 : 101696\n",
      "Train step: 454\n",
      "Samples: 101696 : 101920\n",
      "Train step: 455\n",
      "Samples: 101920 : 102144\n",
      "Train step: 456\n",
      "Samples: 102144 : 102368\n"
     ]
    },
    {
     "name": "stderr",
     "output_type": "stream",
     "text": [
      " 46%|████▋     | 463/1000 [01:16<00:15, 34.44it/s]"
     ]
    },
    {
     "name": "stdout",
     "output_type": "stream",
     "text": [
      "Train step: 457\n",
      "Samples: 102368 : 102592\n",
      "Train step: 458\n",
      "Samples: 102592 : 102816\n",
      "Train step: 459\n",
      "Samples: 102816 : 103040\n",
      "Train step: 460\n",
      "Samples: 103040 : 103264\n",
      "Train step: 461\n",
      "Samples: 103264 : 103488\n",
      "Train step: 462\n",
      "Samples: 103488 : 103712\n",
      "Train step: 463\n",
      "Samples: 103712 : 103936\n"
     ]
    },
    {
     "name": "stderr",
     "output_type": "stream",
     "text": [
      " 47%|████▋     | 471/1000 [01:17<00:15, 34.56it/s]"
     ]
    },
    {
     "name": "stdout",
     "output_type": "stream",
     "text": [
      "Train step: 464\n",
      "Samples: 103936 : 104160\n",
      "Train step: 465\n",
      "Samples: 104160 : 104384\n",
      "Train step: 466\n",
      "Samples: 104384 : 104608\n",
      "Train step: 467\n",
      "Samples: 104608 : 104832\n",
      "Train step: 468\n",
      "Samples: 104832 : 105056\n",
      "Train step: 469\n",
      "Samples: 105056 : 105280\n",
      "Train step: 470\n",
      "Samples: 105280 : 105504\n"
     ]
    },
    {
     "name": "stderr",
     "output_type": "stream",
     "text": [
      " 48%|████▊     | 475/1000 [01:17<00:15, 34.60it/s]"
     ]
    },
    {
     "name": "stdout",
     "output_type": "stream",
     "text": [
      "Train step: 471\n",
      "Samples: 105504 : 105728\n",
      "Train step: 472\n",
      "Samples: 105728 : 105952\n",
      "Train step: 473\n",
      "Samples: 105952 : 106176\n",
      "Train step: 474\n",
      "Samples: 106176 : 106400\n",
      "Train step: 475\n",
      "Samples: 106400 : 106624\n",
      "Train step: 476\n",
      "Samples: 106624 : 106848\n",
      "Train step: 477\n",
      "Samples: 106848 : 107072\n"
     ]
    },
    {
     "name": "stderr",
     "output_type": "stream",
     "text": [
      " 48%|████▊     | 483/1000 [01:17<00:14, 34.62it/s]"
     ]
    },
    {
     "name": "stdout",
     "output_type": "stream",
     "text": [
      "Train step: 478\n",
      "Samples: 107072 : 107296\n",
      "Train step: 479\n",
      "Samples: 107296 : 107520\n",
      "Train step: 480\n",
      "Samples: 107520 : 107744\n",
      "Train step: 481\n",
      "Samples: 107744 : 107968\n",
      "Train step: 482\n",
      "Samples: 107968 : 108192\n",
      "Train step: 483\n",
      "Samples: 108192 : 108416\n",
      "Train step: 484\n",
      "Samples: 108416 : 108640\n",
      "Train step: 485\n",
      "Samples: 108640 : 108864\n"
     ]
    },
    {
     "name": "stderr",
     "output_type": "stream",
     "text": [
      " 49%|████▉     | 491/1000 [01:17<00:14, 34.66it/s]"
     ]
    },
    {
     "name": "stdout",
     "output_type": "stream",
     "text": [
      "Train step: 486\n",
      "Samples: 108864 : 109088\n",
      "Train step: 487\n",
      "Samples: 109088 : 109312\n",
      "Train step: 488\n",
      "Samples: 109312 : 109536\n",
      "Train step: 489\n",
      "Samples: 109536 : 109760\n",
      "Train step: 490\n",
      "Samples: 109760 : 109984\n",
      "Train step: 491\n",
      "Samples: 109984 : 110208\n",
      "Train step: 492\n",
      "Samples: 110208 : 110432\n",
      "Train step: 493\n",
      "Samples: 110432 : 110656\n"
     ]
    },
    {
     "name": "stderr",
     "output_type": "stream",
     "text": [
      " 50%|████▉     | 499/1000 [01:17<00:14, 34.61it/s]"
     ]
    },
    {
     "name": "stdout",
     "output_type": "stream",
     "text": [
      "Train step: 494\n",
      "Samples: 110656 : 110880\n",
      "Train step: 495\n",
      "Samples: 110880 : 111104\n",
      "Train step: 496\n",
      "Samples: 111104 : 111328\n",
      "Train step: 497\n",
      "Samples: 111328 : 111552\n",
      "Train step: 498\n",
      "Samples: 111552 : 111776\n",
      "Train step: 499\n",
      "Samples: 111776 : 112000\n",
      "Train step: 500\n",
      "Samples: 112000 : 112224\n"
     ]
    },
    {
     "name": "stderr",
     "output_type": "stream",
     "text": [
      " 51%|█████     | 507/1000 [01:18<00:14, 34.57it/s]"
     ]
    },
    {
     "name": "stdout",
     "output_type": "stream",
     "text": [
      "Train step: 501\n",
      "Samples: 112224 : 112448\n",
      "Train step: 502\n",
      "Samples: 112448 : 112672\n",
      "Train step: 503\n",
      "Samples: 112672 : 112896\n",
      "Train step: 504\n",
      "Samples: 112896 : 113120\n",
      "Train step: 505\n",
      "Samples: 113120 : 113344\n",
      "Train step: 506\n",
      "Samples: 113344 : 113568\n",
      "Train step: 507\n",
      "Samples: 113568 : 113792\n"
     ]
    },
    {
     "name": "stderr",
     "output_type": "stream",
     "text": [
      " 51%|█████     | 511/1000 [01:18<00:14, 34.50it/s]"
     ]
    },
    {
     "name": "stdout",
     "output_type": "stream",
     "text": [
      "Train step: 508\n",
      "Samples: 113792 : 114016\n",
      "Train step: 509\n",
      "Samples: 114016 : 114240\n",
      "Train step: 510\n",
      "Samples: 114240 : 114464\n",
      "Train step: 511\n",
      "Samples: 114464 : 114688\n",
      "Train step: 512\n",
      "Samples: 114688 : 114912\n",
      "Train step: 513\n",
      "Samples: 114912 : 115136\n",
      "Train step: 514\n",
      "Samples: 115136 : 115360\n"
     ]
    },
    {
     "name": "stderr",
     "output_type": "stream",
     "text": [
      " 52%|█████▏    | 519/1000 [01:18<00:13, 34.43it/s]"
     ]
    },
    {
     "name": "stdout",
     "output_type": "stream",
     "text": [
      "Train step: 515\n",
      "Samples: 115360 : 115584\n",
      "Train step: 516\n",
      "Samples: 115584 : 115808\n",
      "Train step: 517\n",
      "Samples: 115808 : 116032\n",
      "Train step: 518\n",
      "Samples: 116032 : 116256\n",
      "Train step: 519\n",
      "Samples: 116256 : 116480\n",
      "Train step: 520\n",
      "Samples: 116480 : 116704\n",
      "Train step: 521\n",
      "Samples: 116704 : 116928\n"
     ]
    },
    {
     "name": "stderr",
     "output_type": "stream",
     "text": [
      " 53%|█████▎    | 527/1000 [01:18<00:13, 34.52it/s]"
     ]
    },
    {
     "name": "stdout",
     "output_type": "stream",
     "text": [
      "Train step: 522\n",
      "Samples: 116928 : 117152\n",
      "Train step: 523\n",
      "Samples: 117152 : 117376\n",
      "Train step: 524\n",
      "Samples: 117376 : 117600\n",
      "Train step: 525\n",
      "Samples: 117600 : 117824\n",
      "Train step: 526\n",
      "Samples: 117824 : 118048\n",
      "Train step: 527\n",
      "Samples: 118048 : 118272\n",
      "Train step: 528\n",
      "Samples: 118272 : 118496\n"
     ]
    },
    {
     "name": "stderr",
     "output_type": "stream",
     "text": [
      " 54%|█████▎    | 535/1000 [01:19<00:13, 34.50it/s]"
     ]
    },
    {
     "name": "stdout",
     "output_type": "stream",
     "text": [
      "Train step: 529\n",
      "Samples: 118496 : 118720\n",
      "Train step: 530\n",
      "Samples: 118720 : 118944\n",
      "Train step: 531\n",
      "Samples: 118944 : 119168\n",
      "Train step: 532\n",
      "Samples: 119168 : 119392\n",
      "Train step: 533\n",
      "Samples: 119392 : 119616\n",
      "Train step: 534\n",
      "Samples: 119616 : 119840\n",
      "Train step: 535\n",
      "Samples: 119840 : 120064\n"
     ]
    },
    {
     "name": "stderr",
     "output_type": "stream",
     "text": [
      " 54%|█████▍    | 539/1000 [01:19<00:13, 34.55it/s]"
     ]
    },
    {
     "name": "stdout",
     "output_type": "stream",
     "text": [
      "Train step: 536\n",
      "Samples: 120064 : 120288\n",
      "Train step: 537\n",
      "Samples: 120288 : 120512\n",
      "Train step: 538\n",
      "Samples: 120512 : 120736\n",
      "Train step: 539\n",
      "Samples: 120736 : 120960\n",
      "Train step: 540\n",
      "Samples: 120960 : 121184\n",
      "Train step: 541\n",
      "Samples: 121184 : 121408\n",
      "Train step: 542\n",
      "Samples: 121408 : 121632\n"
     ]
    },
    {
     "name": "stderr",
     "output_type": "stream",
     "text": [
      " 55%|█████▍    | 547/1000 [01:19<00:13, 34.55it/s]"
     ]
    },
    {
     "name": "stdout",
     "output_type": "stream",
     "text": [
      "Train step: 543\n",
      "Samples: 121632 : 121856\n",
      "Train step: 544\n",
      "Samples: 121856 : 122080\n",
      "Train step: 545\n",
      "Samples: 122080 : 122304\n",
      "Train step: 546\n",
      "Samples: 122304 : 122528\n",
      "Train step: 547\n",
      "Samples: 122528 : 122752\n",
      "Train step: 548\n",
      "Samples: 122752 : 122976\n",
      "Train step: 549\n",
      "Samples: 122976 : 123200\n"
     ]
    },
    {
     "name": "stderr",
     "output_type": "stream",
     "text": [
      " 56%|█████▌    | 555/1000 [01:19<00:12, 34.62it/s]"
     ]
    },
    {
     "name": "stdout",
     "output_type": "stream",
     "text": [
      "Train step: 550\n",
      "Samples: 123200 : 123424\n",
      "Train step: 551\n",
      "Samples: 123424 : 123648\n",
      "Train step: 552\n",
      "Samples: 123648 : 123872\n",
      "Train step: 553\n",
      "Samples: 123872 : 124096\n",
      "Train step: 554\n",
      "Samples: 124096 : 124320\n",
      "Train step: 555\n",
      "Samples: 124320 : 124544\n",
      "Train step: 556\n",
      "Samples: 124544 : 124768\n"
     ]
    },
    {
     "name": "stderr",
     "output_type": "stream",
     "text": [
      " 56%|█████▋    | 563/1000 [01:19<00:12, 34.62it/s]"
     ]
    },
    {
     "name": "stdout",
     "output_type": "stream",
     "text": [
      "Train step: 557\n",
      "Samples: 124768 : 124992\n",
      "Train step: 558\n",
      "Samples: 124992 : 125216\n",
      "Train step: 559\n",
      "Samples: 125216 : 125440\n",
      "Train step: 560\n",
      "Samples: 125440 : 125664\n",
      "Train step: 561\n",
      "Samples: 125664 : 125888\n",
      "Train step: 562\n",
      "Samples: 125888 : 126112\n",
      "Train step: 563\n",
      "Samples: 126112 : 126336\n"
     ]
    },
    {
     "name": "stderr",
     "output_type": "stream",
     "text": [
      " 57%|█████▋    | 567/1000 [01:19<00:12, 34.63it/s]"
     ]
    },
    {
     "name": "stdout",
     "output_type": "stream",
     "text": [
      "Train step: 564\n",
      "Samples: 126336 : 126560\n",
      "Train step: 565\n",
      "Samples: 126560 : 126784\n",
      "Train step: 566\n",
      "Samples: 126784 : 127008\n",
      "Train step: 567\n",
      "Samples: 127008 : 127232\n",
      "Train step: 568\n",
      "Samples: 127232 : 127456\n",
      "Train step: 569\n",
      "Samples: 127456 : 127680\n",
      "Train step: 570\n",
      "Samples: 127680 : 127904\n"
     ]
    },
    {
     "name": "stderr",
     "output_type": "stream",
     "text": [
      " 57%|█████▊    | 575/1000 [01:20<00:12, 34.65it/s]"
     ]
    },
    {
     "name": "stdout",
     "output_type": "stream",
     "text": [
      "Train step: 571\n",
      "Samples: 127904 : 128128\n",
      "Train step: 572\n",
      "Samples: 128128 : 128352\n",
      "Train step: 573\n",
      "Samples: 128352 : 128576\n",
      "Train step: 574\n",
      "Samples: 128576 : 128800\n",
      "Train step: 575\n",
      "Samples: 128800 : 129024\n",
      "Train step: 576\n",
      "Samples: 129024 : 129248\n",
      "Train step: 577\n",
      "Samples: 129248 : 129472\n"
     ]
    },
    {
     "name": "stderr",
     "output_type": "stream",
     "text": [
      " 58%|█████▊    | 583/1000 [01:20<00:12, 34.64it/s]"
     ]
    },
    {
     "name": "stdout",
     "output_type": "stream",
     "text": [
      "Train step: 578\n",
      "Samples: 129472 : 129696\n",
      "Train step: 579\n",
      "Samples: 129696 : 129920\n",
      "Train step: 580\n",
      "Samples: 129920 : 130144\n",
      "Train step: 581\n",
      "Samples: 130144 : 130368\n",
      "Train step: 582\n",
      "Samples: 130368 : 130592\n",
      "Train step: 583\n",
      "Samples: 130592 : 130816\n",
      "Train step: 584\n",
      "Samples: 130816 : 131040\n"
     ]
    },
    {
     "name": "stderr",
     "output_type": "stream",
     "text": [
      " 59%|█████▉    | 591/1000 [01:20<00:11, 34.62it/s]"
     ]
    },
    {
     "name": "stdout",
     "output_type": "stream",
     "text": [
      "Train step: 585\n",
      "Samples: 131040 : 131264\n",
      "Train step: 586\n",
      "Samples: 131264 : 131488\n",
      "Train step: 587\n",
      "Samples: 131488 : 131712\n",
      "Train step: 588\n",
      "Samples: 131712 : 131936\n",
      "Train step: 589\n",
      "Samples: 131936 : 132160\n",
      "Train step: 590\n",
      "Samples: 132160 : 132384\n",
      "Train step: 591\n",
      "Samples: 132384 : 132608\n"
     ]
    },
    {
     "name": "stderr",
     "output_type": "stream",
     "text": [
      " 60%|█████▉    | 595/1000 [01:20<00:11, 34.62it/s]"
     ]
    },
    {
     "name": "stdout",
     "output_type": "stream",
     "text": [
      "Train step: 592\n",
      "Samples: 132608 : 132832\n",
      "Train step: 593\n",
      "Samples: 132832 : 133056\n",
      "Train step: 594\n",
      "Samples: 133056 : 133280\n",
      "Train step: 595\n",
      "Samples: 133280 : 133504\n",
      "Train step: 596\n",
      "Samples: 133504 : 133728\n",
      "Train step: 597\n",
      "Samples: 133728 : 133952\n",
      "Train step: 598\n",
      "Samples: 133952 : 134176\n"
     ]
    },
    {
     "name": "stderr",
     "output_type": "stream",
     "text": [
      " 60%|██████    | 603/1000 [01:20<00:11, 34.62it/s]"
     ]
    },
    {
     "name": "stdout",
     "output_type": "stream",
     "text": [
      "Train step: 599\n",
      "Samples: 134176 : 134400\n",
      "Train step: 600\n",
      "Samples: 134400 : 134624\n",
      "Train step: 601\n",
      "Samples: 134624 : 134848\n",
      "Train step: 602\n",
      "Samples: 134848 : 135072\n",
      "Train step: 603\n",
      "Samples: 135072 : 135296\n",
      "Train step: 604\n",
      "Samples: 135296 : 135520\n",
      "Train step: 605\n",
      "Samples: 135520 : 135744\n"
     ]
    },
    {
     "name": "stderr",
     "output_type": "stream",
     "text": [
      " 61%|██████    | 611/1000 [01:21<00:11, 34.63it/s]"
     ]
    },
    {
     "name": "stdout",
     "output_type": "stream",
     "text": [
      "Train step: 606\n",
      "Samples: 135744 : 135968\n",
      "Train step: 607\n",
      "Samples: 135968 : 136192\n",
      "Train step: 608\n",
      "Samples: 136192 : 136416\n",
      "Train step: 609\n",
      "Samples: 136416 : 136640\n",
      "Train step: 610\n",
      "Samples: 136640 : 136864\n",
      "Train step: 611\n",
      "Samples: 136864 : 137088\n",
      "Train step: 612\n",
      "Samples: 137088 : 137312\n"
     ]
    },
    {
     "name": "stderr",
     "output_type": "stream",
     "text": [
      " 62%|██████▏   | 619/1000 [01:21<00:11, 34.58it/s]"
     ]
    },
    {
     "name": "stdout",
     "output_type": "stream",
     "text": [
      "Train step: 613\n",
      "Samples: 137312 : 137536\n",
      "Train step: 614\n",
      "Samples: 137536 : 137760\n",
      "Train step: 615\n",
      "Samples: 137760 : 137984\n",
      "Train step: 616\n",
      "Samples: 137984 : 138208\n",
      "Train step: 617\n",
      "Samples: 138208 : 138432\n",
      "Train step: 618\n",
      "Samples: 138432 : 138656\n",
      "Train step: 619\n",
      "Samples: 138656 : 138880\n"
     ]
    },
    {
     "name": "stderr",
     "output_type": "stream",
     "text": [
      " 62%|██████▏   | 623/1000 [01:21<00:10, 34.59it/s]"
     ]
    },
    {
     "name": "stdout",
     "output_type": "stream",
     "text": [
      "Train step: 620\n",
      "Samples: 138880 : 139104\n",
      "Train step: 621\n",
      "Samples: 139104 : 139328\n",
      "Train step: 622\n",
      "Samples: 139328 : 139552\n",
      "Train step: 623\n",
      "Samples: 139552 : 139776\n",
      "Train step: 624\n",
      "Samples: 139776 : 140000\n",
      "Train step: 625\n",
      "Samples: 140000 : 140224\n",
      "Train step: 626\n",
      "Samples: 140224 : 140448\n"
     ]
    },
    {
     "name": "stderr",
     "output_type": "stream",
     "text": [
      " 63%|██████▎   | 631/1000 [01:21<00:10, 34.60it/s]"
     ]
    },
    {
     "name": "stdout",
     "output_type": "stream",
     "text": [
      "Train step: 627\n",
      "Samples: 140448 : 140672\n",
      "Train step: 628\n",
      "Samples: 140672 : 140896\n",
      "Train step: 629\n",
      "Samples: 140896 : 141120\n",
      "Train step: 630\n",
      "Samples: 141120 : 141344\n",
      "Train step: 631\n",
      "Samples: 141344 : 141568\n",
      "Train step: 632\n",
      "Samples: 141568 : 141792\n",
      "Train step: 633\n",
      "Samples: 141792 : 142016\n"
     ]
    },
    {
     "name": "stderr",
     "output_type": "stream",
     "text": [
      " 64%|██████▍   | 639/1000 [01:22<00:10, 34.57it/s]"
     ]
    },
    {
     "name": "stdout",
     "output_type": "stream",
     "text": [
      "Train step: 634\n",
      "Samples: 142016 : 142240\n",
      "Train step: 635\n",
      "Samples: 142240 : 142464\n",
      "Train step: 636\n",
      "Samples: 142464 : 142688\n",
      "Train step: 637\n",
      "Samples: 142688 : 142912\n",
      "Train step: 638\n",
      "Samples: 142912 : 143136\n",
      "Train step: 639\n",
      "Samples: 143136 : 143360\n",
      "Train step: 640\n",
      "Samples: 143360 : 143584\n"
     ]
    },
    {
     "name": "stderr",
     "output_type": "stream",
     "text": [
      " 65%|██████▍   | 647/1000 [01:22<00:10, 34.54it/s]"
     ]
    },
    {
     "name": "stdout",
     "output_type": "stream",
     "text": [
      "Train step: 641\n",
      "Samples: 143584 : 143808\n",
      "Train step: 642\n",
      "Samples: 143808 : 144032\n",
      "Train step: 643\n",
      "Samples: 144032 : 144256\n",
      "Train step: 644\n",
      "Samples: 144256 : 144480\n",
      "Train step: 645\n",
      "Samples: 144480 : 144704\n",
      "Train step: 646\n",
      "Samples: 144704 : 144928\n",
      "Train step: 647\n",
      "Samples: 144928 : 145152\n"
     ]
    },
    {
     "name": "stderr",
     "output_type": "stream",
     "text": [
      " 65%|██████▌   | 651/1000 [01:22<00:10, 34.52it/s]"
     ]
    },
    {
     "name": "stdout",
     "output_type": "stream",
     "text": [
      "Train step: 648\n",
      "Samples: 145152 : 145376\n",
      "Train step: 649\n",
      "Samples: 145376 : 145600\n",
      "Train step: 650\n",
      "Samples: 145600 : 145824\n",
      "Train step: 651\n",
      "Samples: 145824 : 146048\n",
      "Train step: 652\n",
      "Samples: 146048 : 146272\n",
      "Train step: 653\n",
      "Samples: 146272 : 146496\n",
      "Train step: 654\n",
      "Samples: 146496 : 146720\n"
     ]
    },
    {
     "name": "stderr",
     "output_type": "stream",
     "text": [
      " 66%|██████▌   | 659/1000 [01:22<00:09, 34.50it/s]"
     ]
    },
    {
     "name": "stdout",
     "output_type": "stream",
     "text": [
      "Train step: 655\n",
      "Samples: 146720 : 146944\n",
      "Train step: 656\n",
      "Samples: 146944 : 147168\n",
      "Train step: 657\n",
      "Samples: 147168 : 147392\n",
      "Train step: 658\n",
      "Samples: 147392 : 147616\n",
      "Train step: 659\n",
      "Samples: 147616 : 147840\n",
      "Train step: 660\n",
      "Samples: 147840 : 148064\n",
      "Train step: 661\n",
      "Samples: 148064 : 148288\n"
     ]
    },
    {
     "name": "stderr",
     "output_type": "stream",
     "text": [
      " 67%|██████▋   | 667/1000 [01:22<00:09, 34.51it/s]"
     ]
    },
    {
     "name": "stdout",
     "output_type": "stream",
     "text": [
      "Train step: 662\n",
      "Samples: 148288 : 148512\n",
      "Train step: 663\n",
      "Samples: 148512 : 148736\n",
      "Train step: 664\n",
      "Samples: 148736 : 148960\n",
      "Train step: 665\n",
      "Samples: 148960 : 149184\n",
      "Train step: 666\n",
      "Samples: 149184 : 149408\n",
      "Train step: 667\n",
      "Samples: 149408 : 149632\n",
      "Train step: 668\n",
      "Samples: 149632 : 149856\n"
     ]
    },
    {
     "name": "stderr",
     "output_type": "stream",
     "text": [
      " 68%|██████▊   | 675/1000 [01:23<00:09, 34.50it/s]"
     ]
    },
    {
     "name": "stdout",
     "output_type": "stream",
     "text": [
      "Train step: 669\n",
      "Samples: 149856 : 150080\n",
      "Train step: 670\n",
      "Samples: 150080 : 150304\n",
      "Train step: 671\n",
      "Samples: 150304 : 150528\n",
      "Train step: 672\n",
      "Samples: 150528 : 150752\n",
      "Train step: 673\n",
      "Samples: 150752 : 150976\n",
      "Train step: 674\n",
      "Samples: 150976 : 151200\n",
      "Train step: 675\n",
      "Samples: 151200 : 151424\n"
     ]
    },
    {
     "name": "stderr",
     "output_type": "stream",
     "text": [
      " 68%|██████▊   | 679/1000 [01:23<00:09, 34.50it/s]"
     ]
    },
    {
     "name": "stdout",
     "output_type": "stream",
     "text": [
      "Train step: 676\n",
      "Samples: 151424 : 151648\n",
      "Train step: 677\n",
      "Samples: 151648 : 151872\n",
      "Train step: 678\n",
      "Samples: 151872 : 152096\n",
      "Train step: 679\n",
      "Samples: 152096 : 152320\n",
      "Train step: 680\n",
      "Samples: 152320 : 152544\n",
      "Train step: 681\n",
      "Samples: 152544 : 152768\n",
      "Train step: 682\n",
      "Samples: 152768 : 152992\n"
     ]
    },
    {
     "name": "stderr",
     "output_type": "stream",
     "text": [
      " 69%|██████▊   | 687/1000 [01:23<00:09, 34.52it/s]"
     ]
    },
    {
     "name": "stdout",
     "output_type": "stream",
     "text": [
      "Train step: 683\n",
      "Samples: 152992 : 153216\n",
      "Train step: 684\n",
      "Samples: 153216 : 153440\n",
      "Train step: 685\n",
      "Samples: 153440 : 153664\n",
      "Train step: 686\n",
      "Samples: 153664 : 153888\n",
      "Train step: 687\n",
      "Samples: 153888 : 154112\n",
      "Train step: 688\n",
      "Samples: 154112 : 154336\n",
      "Train step: 689\n",
      "Samples: 154336 : 154560\n"
     ]
    },
    {
     "name": "stderr",
     "output_type": "stream",
     "text": [
      " 70%|██████▉   | 695/1000 [01:23<00:08, 34.54it/s]"
     ]
    },
    {
     "name": "stdout",
     "output_type": "stream",
     "text": [
      "Train step: 690\n",
      "Samples: 154560 : 154784\n",
      "Train step: 691\n",
      "Samples: 154784 : 155008\n",
      "Train step: 692\n",
      "Samples: 155008 : 155232\n",
      "Train step: 693\n",
      "Samples: 155232 : 155456\n",
      "Train step: 694\n",
      "Samples: 155456 : 155680\n",
      "Train step: 695\n",
      "Samples: 155680 : 155904\n",
      "Train step: 696\n",
      "Samples: 155904 : 156128\n"
     ]
    },
    {
     "name": "stderr",
     "output_type": "stream",
     "text": [
      " 70%|███████   | 703/1000 [01:23<00:08, 34.41it/s]"
     ]
    },
    {
     "name": "stdout",
     "output_type": "stream",
     "text": [
      "Train step: 697\n",
      "Samples: 156128 : 156352\n",
      "Train step: 698\n",
      "Samples: 156352 : 156576\n",
      "Train step: 699\n",
      "Samples: 156576 : 156800\n",
      "Train step: 700\n",
      "Samples: 156800 : 157024\n",
      "Train step: 701\n",
      "Samples: 157024 : 157248\n",
      "Train step: 702\n",
      "Samples: 157248 : 157472\n",
      "Train step: 703\n",
      "Samples: 157472 : 157696\n"
     ]
    },
    {
     "name": "stderr",
     "output_type": "stream",
     "text": [
      " 71%|███████   | 707/1000 [01:24<00:08, 34.35it/s]"
     ]
    },
    {
     "name": "stdout",
     "output_type": "stream",
     "text": [
      "Train step: 704\n",
      "Samples: 157696 : 157920\n",
      "Train step: 705\n",
      "Samples: 157920 : 158144\n",
      "Train step: 706\n",
      "Samples: 158144 : 158368\n",
      "Train step: 707\n",
      "Samples: 158368 : 158592\n",
      "Train step: 708\n",
      "Samples: 158592 : 158816\n",
      "Train step: 709\n",
      "Samples: 158816 : 159040\n",
      "Train step: 710\n",
      "Samples: 159040 : 159264\n"
     ]
    },
    {
     "name": "stderr",
     "output_type": "stream",
     "text": [
      " 72%|███████▏  | 715/1000 [01:24<00:08, 34.39it/s]"
     ]
    },
    {
     "name": "stdout",
     "output_type": "stream",
     "text": [
      "Train step: 711\n",
      "Samples: 159264 : 159488\n",
      "Train step: 712\n",
      "Samples: 159488 : 159712\n",
      "Train step: 713\n",
      "Samples: 159712 : 159936\n",
      "Train step: 714\n",
      "Samples: 159936 : 160160\n",
      "Train step: 715\n",
      "Samples: 160160 : 160384\n",
      "Train step: 716\n",
      "Samples: 160384 : 160608\n",
      "Train step: 717\n",
      "Samples: 160608 : 160832\n"
     ]
    },
    {
     "name": "stderr",
     "output_type": "stream",
     "text": [
      " 72%|███████▏  | 723/1000 [01:24<00:08, 34.27it/s]"
     ]
    },
    {
     "name": "stdout",
     "output_type": "stream",
     "text": [
      "Train step: 718\n",
      "Samples: 160832 : 161056\n",
      "Train step: 719\n",
      "Samples: 161056 : 161280\n",
      "Train step: 720\n",
      "Samples: 161280 : 161504\n",
      "Train step: 721\n",
      "Samples: 161504 : 161728\n",
      "Train step: 722\n",
      "Samples: 161728 : 161952\n",
      "Train step: 723\n",
      "Samples: 161952 : 162176\n",
      "Train step: 724\n",
      "Samples: 162176 : 162400\n"
     ]
    },
    {
     "name": "stderr",
     "output_type": "stream",
     "text": [
      " 73%|███████▎  | 731/1000 [01:24<00:07, 34.22it/s]"
     ]
    },
    {
     "name": "stdout",
     "output_type": "stream",
     "text": [
      "Train step: 725\n",
      "Samples: 162400 : 162624\n",
      "Train step: 726\n",
      "Samples: 162624 : 162848\n",
      "Train step: 727\n",
      "Samples: 162848 : 163072\n",
      "Train step: 728\n",
      "Samples: 163072 : 163296\n",
      "Train step: 729\n",
      "Samples: 163296 : 163520\n",
      "Train step: 730\n",
      "Samples: 163520 : 163744\n",
      "Train step: 731\n",
      "Samples: 163744 : 163968\n"
     ]
    },
    {
     "name": "stderr",
     "output_type": "stream",
     "text": [
      " 74%|███████▎  | 735/1000 [01:24<00:07, 34.18it/s]"
     ]
    },
    {
     "name": "stdout",
     "output_type": "stream",
     "text": [
      "Train step: 732\n",
      "Samples: 163968 : 164192\n",
      "Train step: 733\n",
      "Samples: 164192 : 164416\n",
      "Train step: 734\n",
      "Samples: 164416 : 164640\n",
      "Train step: 735\n",
      "Samples: 164640 : 164864\n",
      "Train step: 736\n",
      "Samples: 164864 : 165088\n",
      "Train step: 737\n",
      "Samples: 165088 : 165312\n",
      "Train step: 738\n",
      "Samples: 165312 : 165536\n"
     ]
    },
    {
     "name": "stderr",
     "output_type": "stream",
     "text": [
      " 74%|███████▍  | 743/1000 [01:25<00:07, 33.56it/s]"
     ]
    },
    {
     "name": "stdout",
     "output_type": "stream",
     "text": [
      "Train step: 739\n",
      "Samples: 165536 : 165760\n",
      "Train step: 740\n",
      "Samples: 165760 : 165984\n",
      "Train step: 741\n",
      "Samples: 165984 : 166208\n",
      "Train step: 742\n",
      "Samples: 166208 : 166432\n",
      "Train step: 743\n",
      "Samples: 166432 : 166656\n",
      "Train step: 744\n",
      "Samples: 166656 : 166880\n",
      "Train step: 745\n",
      "Samples: 166880 : 167104\n"
     ]
    },
    {
     "name": "stderr",
     "output_type": "stream",
     "text": [
      " 75%|███████▌  | 751/1000 [01:25<00:07, 32.27it/s]"
     ]
    },
    {
     "name": "stdout",
     "output_type": "stream",
     "text": [
      "Train step: 746\n",
      "Samples: 167104 : 167328\n",
      "Train step: 747\n",
      "Samples: 167328 : 167552\n",
      "Train step: 748\n",
      "Samples: 167552 : 167776\n",
      "Train step: 749\n",
      "Samples: 167776 : 168000\n",
      "Train step: 750\n",
      "Samples: 168000 : 168224\n",
      "Train step: 751\n",
      "Samples: 168224 : 168448\n",
      "Train step: 752\n",
      "Samples: 168448 : 168672\n"
     ]
    },
    {
     "name": "stderr",
     "output_type": "stream",
     "text": [
      " 76%|███████▌  | 759/1000 [01:25<00:07, 31.64it/s]"
     ]
    },
    {
     "name": "stdout",
     "output_type": "stream",
     "text": [
      "Train step: 753\n",
      "Samples: 168672 : 168896\n",
      "Train step: 754\n",
      "Samples: 168896 : 169120\n",
      "Train step: 755\n",
      "Samples: 169120 : 169344\n",
      "Train step: 756\n",
      "Samples: 169344 : 169568\n",
      "Train step: 757\n",
      "Samples: 169568 : 169792\n",
      "Train step: 758\n",
      "Samples: 169792 : 170016\n",
      "Train step: 759\n",
      "Samples: 170016 : 170240\n"
     ]
    },
    {
     "name": "stderr",
     "output_type": "stream",
     "text": [
      " 76%|███████▋  | 763/1000 [01:25<00:07, 31.39it/s]"
     ]
    },
    {
     "name": "stdout",
     "output_type": "stream",
     "text": [
      "Train step: 760\n",
      "Samples: 170240 : 170464\n",
      "Train step: 761\n",
      "Samples: 170464 : 170688\n",
      "Train step: 762\n",
      "Samples: 170688 : 170912\n",
      "Train step: 763\n",
      "Samples: 170912 : 171136\n",
      "Train step: 764\n",
      "Samples: 171136 : 171360\n",
      "Train step: 765\n",
      "Samples: 171360 : 171584\n",
      "Train step: 766\n",
      "Samples: 171584 : 171808\n"
     ]
    },
    {
     "name": "stderr",
     "output_type": "stream",
     "text": [
      " 77%|███████▋  | 771/1000 [01:25<00:07, 31.11it/s]"
     ]
    },
    {
     "name": "stdout",
     "output_type": "stream",
     "text": [
      "Train step: 767\n",
      "Samples: 171808 : 172032\n",
      "Train step: 768\n",
      "Samples: 172032 : 172256\n",
      "Train step: 769\n",
      "Samples: 172256 : 172480\n",
      "Train step: 770\n",
      "Samples: 172480 : 172704\n",
      "Train step: 771\n",
      "Samples: 172704 : 172928\n",
      "Train step: 772\n",
      "Samples: 172928 : 173152\n",
      "Train step: 773\n",
      "Samples: 173152 : 173376\n"
     ]
    },
    {
     "name": "stderr",
     "output_type": "stream",
     "text": [
      " 78%|███████▊  | 779/1000 [01:26<00:07, 30.78it/s]"
     ]
    },
    {
     "name": "stdout",
     "output_type": "stream",
     "text": [
      "Train step: 774\n",
      "Samples: 173376 : 173600\n",
      "Train step: 775\n",
      "Samples: 173600 : 173824\n",
      "Train step: 776\n",
      "Samples: 173824 : 174048\n",
      "Train step: 777\n",
      "Samples: 174048 : 174272\n",
      "Train step: 778\n",
      "Samples: 174272 : 174496\n",
      "Train step: 779\n",
      "Samples: 174496 : 174720\n",
      "Train step: 780\n",
      "Samples: 174720 : 174944\n"
     ]
    },
    {
     "name": "stderr",
     "output_type": "stream",
     "text": [
      " 79%|███████▊  | 787/1000 [01:26<00:07, 30.41it/s]"
     ]
    },
    {
     "name": "stdout",
     "output_type": "stream",
     "text": [
      "Train step: 781\n",
      "Samples: 174944 : 175168\n",
      "Train step: 782\n",
      "Samples: 175168 : 175392\n",
      "Train step: 783\n",
      "Samples: 175392 : 175616\n",
      "Train step: 784\n",
      "Samples: 175616 : 175840\n",
      "Train step: 785\n",
      "Samples: 175840 : 176064\n",
      "Train step: 786\n",
      "Samples: 176064 : 176288\n",
      "Train step: 787\n",
      "Samples: 176288 : 176512\n"
     ]
    },
    {
     "name": "stderr",
     "output_type": "stream",
     "text": [
      " 79%|███████▉  | 791/1000 [01:26<00:06, 30.29it/s]"
     ]
    },
    {
     "name": "stdout",
     "output_type": "stream",
     "text": [
      "Train step: 788\n",
      "Samples: 176512 : 176736\n",
      "Train step: 789\n",
      "Samples: 176736 : 176960\n",
      "Train step: 790\n",
      "Samples: 176960 : 177184\n",
      "Train step: 791\n",
      "Samples: 177184 : 177408\n",
      "Train step: 792\n",
      "Samples: 177408 : 177632\n",
      "Train step: 793\n",
      "Samples: 177632 : 177856\n",
      "Train step: 794\n",
      "Samples: 177856 : 178080\n"
     ]
    },
    {
     "name": "stderr",
     "output_type": "stream",
     "text": [
      " 80%|███████▉  | 799/1000 [01:26<00:06, 30.01it/s]"
     ]
    },
    {
     "name": "stdout",
     "output_type": "stream",
     "text": [
      "Train step: 795\n",
      "Samples: 178080 : 178304\n",
      "Train step: 796\n",
      "Samples: 178304 : 178528\n",
      "Train step: 797\n",
      "Samples: 178528 : 178752\n",
      "Train step: 798\n",
      "Samples: 178752 : 178976\n",
      "Train step: 799\n",
      "Samples: 178976 : 179200\n",
      "Train step: 800\n",
      "Samples: 179200 : 179424\n"
     ]
    },
    {
     "name": "stderr",
     "output_type": "stream",
     "text": [
      " 81%|████████  | 806/1000 [01:27<00:06, 29.77it/s]"
     ]
    },
    {
     "name": "stdout",
     "output_type": "stream",
     "text": [
      "Train step: 801\n",
      "Samples: 179424 : 179648\n",
      "Train step: 802\n",
      "Samples: 179648 : 179872\n",
      "Train step: 803\n",
      "Samples: 179872 : 180096\n",
      "Train step: 804\n",
      "Samples: 180096 : 180320\n",
      "Train step: 805\n",
      "Samples: 180320 : 180544\n",
      "Train step: 806\n",
      "Samples: 180544 : 180768\n"
     ]
    },
    {
     "name": "stderr",
     "output_type": "stream",
     "text": [
      " 81%|████████  | 812/1000 [01:27<00:06, 29.43it/s]"
     ]
    },
    {
     "name": "stdout",
     "output_type": "stream",
     "text": [
      "Train step: 807\n",
      "Samples: 180768 : 180992\n",
      "Train step: 808\n",
      "Samples: 180992 : 181216\n",
      "Train step: 809\n",
      "Samples: 181216 : 181440\n",
      "Train step: 810\n",
      "Samples: 181440 : 181664\n",
      "Train step: 811\n",
      "Samples: 181664 : 181888\n",
      "Train step: 812\n",
      "Samples: 181888 : 182112\n"
     ]
    },
    {
     "name": "stderr",
     "output_type": "stream",
     "text": [
      " 82%|████████▏ | 818/1000 [01:27<00:06, 29.24it/s]"
     ]
    },
    {
     "name": "stdout",
     "output_type": "stream",
     "text": [
      "Train step: 813\n",
      "Samples: 182112 : 182336\n",
      "Train step: 814\n",
      "Samples: 182336 : 182560\n",
      "Train step: 815\n",
      "Samples: 182560 : 182784\n",
      "Train step: 816\n",
      "Samples: 182784 : 183008\n",
      "Train step: 817\n",
      "Samples: 183008 : 183232\n",
      "Train step: 818\n",
      "Samples: 183232 : 183456\n"
     ]
    },
    {
     "name": "stderr",
     "output_type": "stream",
     "text": [
      " 82%|████████▏ | 824/1000 [01:27<00:06, 29.00it/s]"
     ]
    },
    {
     "name": "stdout",
     "output_type": "stream",
     "text": [
      "Train step: 819\n",
      "Samples: 183456 : 183680\n",
      "Train step: 820\n",
      "Samples: 183680 : 183904\n",
      "Train step: 821\n",
      "Samples: 183904 : 184128\n",
      "Train step: 822\n",
      "Samples: 184128 : 184352\n",
      "Train step: 823\n",
      "Samples: 184352 : 184576\n",
      "Train step: 824\n",
      "Samples: 184576 : 184800\n"
     ]
    },
    {
     "name": "stderr",
     "output_type": "stream",
     "text": [
      " 83%|████████▎ | 830/1000 [01:27<00:05, 28.78it/s]"
     ]
    },
    {
     "name": "stdout",
     "output_type": "stream",
     "text": [
      "Train step: 825\n",
      "Samples: 184800 : 185024\n",
      "Train step: 826\n",
      "Samples: 185024 : 185248\n",
      "Train step: 827\n",
      "Samples: 185248 : 185472\n",
      "Train step: 828\n",
      "Samples: 185472 : 185696\n",
      "Train step: 829\n",
      "Samples: 185696 : 185920\n",
      "Train step: 830\n",
      "Samples: 185920 : 186144\n"
     ]
    },
    {
     "name": "stderr",
     "output_type": "stream",
     "text": [
      " 84%|████████▎ | 836/1000 [01:28<00:05, 28.57it/s]"
     ]
    },
    {
     "name": "stdout",
     "output_type": "stream",
     "text": [
      "Train step: 831\n",
      "Samples: 186144 : 186368\n",
      "Train step: 832\n",
      "Samples: 186368 : 186592\n",
      "Train step: 833\n",
      "Samples: 186592 : 186816\n",
      "Train step: 834\n",
      "Samples: 186816 : 187040\n",
      "Train step: 835\n",
      "Samples: 187040 : 187264\n",
      "Train step: 836\n",
      "Samples: 187264 : 187488\n"
     ]
    },
    {
     "name": "stderr",
     "output_type": "stream",
     "text": [
      " 84%|████████▍ | 843/1000 [01:28<00:05, 29.65it/s]"
     ]
    },
    {
     "name": "stdout",
     "output_type": "stream",
     "text": [
      "Train step: 837\n",
      "Samples: 187488 : 187712\n",
      "Train step: 838\n",
      "Samples: 187712 : 187936\n",
      "Train step: 839\n",
      "Samples: 187936 : 188160\n",
      "Train step: 840\n",
      "Samples: 188160 : 188384\n",
      "Train step: 841\n",
      "Samples: 188384 : 188608\n",
      "Train step: 842\n",
      "Samples: 188608 : 188832\n"
     ]
    },
    {
     "name": "stderr",
     "output_type": "stream",
     "text": [
      " 85%|████████▍ | 847/1000 [01:28<00:04, 31.17it/s]"
     ]
    },
    {
     "name": "stdout",
     "output_type": "stream",
     "text": [
      "Train step: 843\n",
      "Samples: 188832 : 189056\n",
      "Train step: 844\n",
      "Samples: 189056 : 189280\n",
      "Train step: 845\n",
      "Samples: 189280 : 189504\n",
      "Train step: 846\n",
      "Samples: 189504 : 189728\n",
      "Train step: 847\n",
      "Samples: 189728 : 189952\n",
      "Train step: 848\n",
      "Samples: 189952 : 190176\n",
      "Train step: 849\n",
      "Samples: 190176 : 190400\n"
     ]
    },
    {
     "name": "stderr",
     "output_type": "stream",
     "text": [
      " 86%|████████▌ | 855/1000 [01:28<00:04, 32.72it/s]"
     ]
    },
    {
     "name": "stdout",
     "output_type": "stream",
     "text": [
      "Train step: 850\n",
      "Samples: 190400 : 190624\n",
      "Train step: 851\n",
      "Samples: 190624 : 190848\n",
      "Train step: 852\n",
      "Samples: 190848 : 191072\n",
      "Train step: 853\n",
      "Samples: 191072 : 191296\n",
      "Train step: 854\n",
      "Samples: 191296 : 191520\n",
      "Train step: 855\n",
      "Samples: 191520 : 191744\n",
      "Train step: 856\n",
      "Samples: 191744 : 191968\n"
     ]
    },
    {
     "name": "stderr",
     "output_type": "stream",
     "text": [
      " 86%|████████▋ | 863/1000 [01:29<00:04, 33.43it/s]"
     ]
    },
    {
     "name": "stdout",
     "output_type": "stream",
     "text": [
      "Train step: 857\n",
      "Samples: 191968 : 192192\n",
      "Train step: 858\n",
      "Samples: 192192 : 192416\n",
      "Train step: 859\n",
      "Samples: 192416 : 192640\n",
      "Train step: 860\n",
      "Samples: 192640 : 192864\n",
      "Train step: 861\n",
      "Samples: 192864 : 193088\n",
      "Train step: 862\n",
      "Samples: 193088 : 193312\n",
      "Train step: 863\n",
      "Samples: 193312 : 193536\n"
     ]
    },
    {
     "name": "stderr",
     "output_type": "stream",
     "text": [
      " 87%|████████▋ | 867/1000 [01:29<00:03, 33.61it/s]"
     ]
    },
    {
     "name": "stdout",
     "output_type": "stream",
     "text": [
      "Train step: 864\n",
      "Samples: 193536 : 193760\n",
      "Train step: 865\n",
      "Samples: 193760 : 193984\n",
      "Train step: 866\n",
      "Samples: 193984 : 194208\n",
      "Train step: 867\n",
      "Samples: 194208 : 194432\n",
      "Train step: 868\n",
      "Samples: 194432 : 194656\n",
      "Train step: 869\n",
      "Samples: 194656 : 194880\n",
      "Train step: 870\n",
      "Samples: 194880 : 195104\n"
     ]
    },
    {
     "name": "stderr",
     "output_type": "stream",
     "text": [
      " 88%|████████▊ | 875/1000 [01:29<00:03, 34.00it/s]"
     ]
    },
    {
     "name": "stdout",
     "output_type": "stream",
     "text": [
      "Train step: 871\n",
      "Samples: 195104 : 195328\n",
      "Train step: 872\n",
      "Samples: 195328 : 195552\n",
      "Train step: 873\n",
      "Samples: 195552 : 195776\n",
      "Train step: 874\n",
      "Samples: 195776 : 196000\n",
      "Train step: 875\n",
      "Samples: 196000 : 196224\n",
      "Train step: 876\n",
      "Samples: 196224 : 196448\n",
      "Train step: 877\n",
      "Samples: 196448 : 196672\n"
     ]
    },
    {
     "name": "stderr",
     "output_type": "stream",
     "text": [
      " 88%|████████▊ | 883/1000 [01:29<00:03, 34.03it/s]"
     ]
    },
    {
     "name": "stdout",
     "output_type": "stream",
     "text": [
      "Train step: 878\n",
      "Samples: 196672 : 196896\n",
      "Train step: 879\n",
      "Samples: 196896 : 197120\n",
      "Train step: 880\n",
      "Samples: 197120 : 197344\n",
      "Train step: 881\n",
      "Samples: 197344 : 197568\n",
      "Train step: 882\n",
      "Samples: 197568 : 197792\n",
      "Train step: 883\n",
      "Samples: 197792 : 198016\n",
      "Train step: 884\n",
      "Samples: 198016 : 198240\n"
     ]
    },
    {
     "name": "stderr",
     "output_type": "stream",
     "text": [
      " 89%|████████▉ | 891/1000 [01:29<00:03, 34.00it/s]"
     ]
    },
    {
     "name": "stdout",
     "output_type": "stream",
     "text": [
      "Train step: 885\n",
      "Samples: 198240 : 198464\n",
      "Train step: 886\n",
      "Samples: 198464 : 198688\n",
      "Train step: 887\n",
      "Samples: 198688 : 198912\n",
      "Train step: 888\n",
      "Samples: 198912 : 199136\n",
      "Train step: 889\n",
      "Samples: 199136 : 199360\n",
      "Train step: 890\n",
      "Samples: 199360 : 199584\n",
      "Train step: 891\n",
      "Samples: 199584 : 199808\n"
     ]
    },
    {
     "name": "stderr",
     "output_type": "stream",
     "text": [
      " 90%|████████▉ | 895/1000 [01:29<00:03, 33.88it/s]"
     ]
    },
    {
     "name": "stdout",
     "output_type": "stream",
     "text": [
      "Train step: 892\n",
      "Samples: 199808 : 200032\n",
      "Train step: 893\n",
      "Samples: 200032 : 200256\n",
      "Train step: 894\n",
      "Samples: 200256 : 200480\n",
      "Train step: 895\n",
      "Samples: 200480 : 200704\n",
      "Train step: 896\n",
      "Samples: 200704 : 200928\n",
      "Train step: 897\n",
      "Samples: 200928 : 201152\n",
      "Train step: 898\n",
      "Samples: 201152 : 201376\n"
     ]
    },
    {
     "name": "stderr",
     "output_type": "stream",
     "text": [
      " 90%|█████████ | 903/1000 [01:30<00:02, 33.85it/s]"
     ]
    },
    {
     "name": "stdout",
     "output_type": "stream",
     "text": [
      "Train step: 899\n",
      "Samples: 201376 : 201600\n",
      "Train step: 900\n",
      "Samples: 201600 : 201824\n",
      "Train step: 901\n",
      "Samples: 201824 : 202048\n",
      "Train step: 902\n",
      "Samples: 202048 : 202272\n",
      "Train step: 903\n",
      "Samples: 202272 : 202496\n",
      "Train step: 904\n",
      "Samples: 202496 : 202720\n",
      "Train step: 905\n",
      "Samples: 202720 : 202944\n"
     ]
    },
    {
     "name": "stderr",
     "output_type": "stream",
     "text": [
      " 91%|█████████ | 911/1000 [01:30<00:02, 33.90it/s]"
     ]
    },
    {
     "name": "stdout",
     "output_type": "stream",
     "text": [
      "Train step: 906\n",
      "Samples: 202944 : 203168\n",
      "Train step: 907\n",
      "Samples: 203168 : 203392\n",
      "Train step: 908\n",
      "Samples: 203392 : 203616\n",
      "Train step: 909\n",
      "Samples: 203616 : 203840\n",
      "Train step: 910\n",
      "Samples: 203840 : 204064\n",
      "Train step: 911\n",
      "Samples: 204064 : 204288\n",
      "Train step: 912\n",
      "Samples: 204288 : 204512\n"
     ]
    },
    {
     "name": "stderr",
     "output_type": "stream",
     "text": [
      " 92%|█████████▏| 919/1000 [01:30<00:02, 34.00it/s]"
     ]
    },
    {
     "name": "stdout",
     "output_type": "stream",
     "text": [
      "Train step: 913\n",
      "Samples: 204512 : 204736\n",
      "Train step: 914\n",
      "Samples: 204736 : 204960\n",
      "Train step: 915\n",
      "Samples: 204960 : 205184\n",
      "Train step: 916\n",
      "Samples: 205184 : 205408\n",
      "Train step: 917\n",
      "Samples: 205408 : 205632\n",
      "Train step: 918\n",
      "Samples: 205632 : 205856\n",
      "Train step: 919\n",
      "Samples: 205856 : 206080\n"
     ]
    },
    {
     "name": "stderr",
     "output_type": "stream",
     "text": [
      " 92%|█████████▏| 923/1000 [01:30<00:02, 34.02it/s]"
     ]
    },
    {
     "name": "stdout",
     "output_type": "stream",
     "text": [
      "Train step: 920\n",
      "Samples: 206080 : 206304\n",
      "Train step: 921\n",
      "Samples: 206304 : 206528\n",
      "Train step: 922\n",
      "Samples: 206528 : 206752\n",
      "Train step: 923\n",
      "Samples: 206752 : 206976\n",
      "Train step: 924\n",
      "Samples: 206976 : 207200\n",
      "Train step: 925\n",
      "Samples: 207200 : 207424\n",
      "Train step: 926\n",
      "Samples: 207424 : 207648\n"
     ]
    },
    {
     "name": "stderr",
     "output_type": "stream",
     "text": [
      " 93%|█████████▎| 931/1000 [01:31<00:02, 34.18it/s]"
     ]
    },
    {
     "name": "stdout",
     "output_type": "stream",
     "text": [
      "Train step: 927\n",
      "Samples: 207648 : 207872\n",
      "Train step: 928\n",
      "Samples: 207872 : 208096\n",
      "Train step: 929\n",
      "Samples: 208096 : 208320\n",
      "Train step: 930\n",
      "Samples: 208320 : 208544\n",
      "Train step: 931\n",
      "Samples: 208544 : 208768\n",
      "Train step: 932\n",
      "Samples: 208768 : 208992\n",
      "Train step: 933\n",
      "Samples: 208992 : 209216\n"
     ]
    },
    {
     "name": "stderr",
     "output_type": "stream",
     "text": [
      " 94%|█████████▍| 939/1000 [01:31<00:01, 34.12it/s]"
     ]
    },
    {
     "name": "stdout",
     "output_type": "stream",
     "text": [
      "Train step: 934\n",
      "Samples: 209216 : 209440\n",
      "Train step: 935\n",
      "Samples: 209440 : 209664\n",
      "Train step: 936\n",
      "Samples: 209664 : 209888\n",
      "Train step: 937\n",
      "Samples: 209888 : 210112\n",
      "Train step: 938\n",
      "Samples: 210112 : 210336\n",
      "Train step: 939\n",
      "Samples: 210336 : 210560\n",
      "Train step: 940\n",
      "Samples: 210560 : 210784\n"
     ]
    },
    {
     "name": "stderr",
     "output_type": "stream",
     "text": [
      " 95%|█████████▍| 947/1000 [01:31<00:01, 34.08it/s]"
     ]
    },
    {
     "name": "stdout",
     "output_type": "stream",
     "text": [
      "Train step: 941\n",
      "Samples: 210784 : 211008\n",
      "Train step: 942\n",
      "Samples: 211008 : 211232\n",
      "Train step: 943\n",
      "Samples: 211232 : 211456\n",
      "Train step: 944\n",
      "Samples: 211456 : 211680\n",
      "Train step: 945\n",
      "Samples: 211680 : 211904\n",
      "Train step: 946\n",
      "Samples: 211904 : 212128\n",
      "Train step: 947\n",
      "Samples: 212128 : 212352\n"
     ]
    },
    {
     "name": "stderr",
     "output_type": "stream",
     "text": [
      " 95%|█████████▌| 951/1000 [01:31<00:01, 34.07it/s]"
     ]
    },
    {
     "name": "stdout",
     "output_type": "stream",
     "text": [
      "Train step: 948\n",
      "Samples: 212352 : 212576\n",
      "Train step: 949\n",
      "Samples: 212576 : 212800\n",
      "Train step: 950\n",
      "Samples: 212800 : 213024\n",
      "Train step: 951\n",
      "Samples: 213024 : 213248\n",
      "Train step: 952\n",
      "Samples: 213248 : 213472\n",
      "Train step: 953\n",
      "Samples: 213472 : 213696\n",
      "Train step: 954\n",
      "Samples: 213696 : 213920\n"
     ]
    },
    {
     "name": "stderr",
     "output_type": "stream",
     "text": [
      " 96%|█████████▌| 959/1000 [01:31<00:01, 34.16it/s]"
     ]
    },
    {
     "name": "stdout",
     "output_type": "stream",
     "text": [
      "Train step: 955\n",
      "Samples: 213920 : 214144\n",
      "Train step: 956\n",
      "Samples: 214144 : 214368\n",
      "Train step: 957\n",
      "Samples: 214368 : 214592\n",
      "Train step: 958\n",
      "Samples: 214592 : 214816\n",
      "Train step: 959\n",
      "Samples: 214816 : 215040\n",
      "Train step: 960\n",
      "Samples: 215040 : 215264\n",
      "Train step: 961\n",
      "Samples: 215264 : 215488\n"
     ]
    },
    {
     "name": "stderr",
     "output_type": "stream",
     "text": [
      " 97%|█████████▋| 967/1000 [01:32<00:00, 34.12it/s]"
     ]
    },
    {
     "name": "stdout",
     "output_type": "stream",
     "text": [
      "Train step: 962\n",
      "Samples: 215488 : 215712\n",
      "Train step: 963\n",
      "Samples: 215712 : 215936\n",
      "Train step: 964\n",
      "Samples: 215936 : 216160\n",
      "Train step: 965\n",
      "Samples: 216160 : 216384\n",
      "Train step: 966\n",
      "Samples: 216384 : 216608\n",
      "Train step: 967\n",
      "Samples: 216608 : 216832\n",
      "Train step: 968\n",
      "Samples: 216832 : 217056\n"
     ]
    },
    {
     "name": "stderr",
     "output_type": "stream",
     "text": [
      " 98%|█████████▊| 975/1000 [01:32<00:00, 34.07it/s]"
     ]
    },
    {
     "name": "stdout",
     "output_type": "stream",
     "text": [
      "Train step: 969\n",
      "Samples: 217056 : 217280\n",
      "Train step: 970\n",
      "Samples: 217280 : 217504\n",
      "Train step: 971\n",
      "Samples: 217504 : 217728\n",
      "Train step: 972\n",
      "Samples: 217728 : 217952\n",
      "Train step: 973\n",
      "Samples: 217952 : 218176\n",
      "Train step: 974\n",
      "Samples: 218176 : 218400\n",
      "Train step: 975\n",
      "Samples: 218400 : 218624\n"
     ]
    },
    {
     "name": "stderr",
     "output_type": "stream",
     "text": [
      " 98%|█████████▊| 979/1000 [01:32<00:00, 34.05it/s]"
     ]
    },
    {
     "name": "stdout",
     "output_type": "stream",
     "text": [
      "Train step: 976\n",
      "Samples: 218624 : 218848\n",
      "Train step: 977\n",
      "Samples: 218848 : 219072\n",
      "Train step: 978\n",
      "Samples: 219072 : 219296\n",
      "Train step: 979\n",
      "Samples: 219296 : 219520\n",
      "Train step: 980\n",
      "Samples: 219520 : 219744\n",
      "Train step: 981\n",
      "Samples: 219744 : 219968\n",
      "Train step: 982\n",
      "Samples: 219968 : 220192\n"
     ]
    },
    {
     "name": "stderr",
     "output_type": "stream",
     "text": [
      " 99%|█████████▊| 987/1000 [01:32<00:00, 34.04it/s]"
     ]
    },
    {
     "name": "stdout",
     "output_type": "stream",
     "text": [
      "Train step: 983\n",
      "Samples: 220192 : 220416\n",
      "Train step: 984\n",
      "Samples: 220416 : 220640\n",
      "Train step: 985\n",
      "Samples: 220640 : 220864\n",
      "Train step: 986\n",
      "Samples: 220864 : 221088\n",
      "Train step: 987\n",
      "Samples: 221088 : 221312\n",
      "Train step: 988\n",
      "Samples: 221312 : 221536\n",
      "Train step: 989\n",
      "Samples: 221536 : 221760\n"
     ]
    },
    {
     "name": "stderr",
     "output_type": "stream",
     "text": [
      "100%|█████████▉| 995/1000 [01:32<00:00, 34.11it/s]"
     ]
    },
    {
     "name": "stdout",
     "output_type": "stream",
     "text": [
      "Train step: 990\n",
      "Samples: 221760 : 221984\n",
      "Train step: 991\n",
      "Samples: 221984 : 222208\n",
      "Train step: 992\n",
      "Samples: 222208 : 222432\n",
      "Train step: 993\n",
      "Samples: 222432 : 222656\n",
      "Train step: 994\n",
      "Samples: 222656 : 222880\n",
      "Train step: 995\n",
      "Samples: 222880 : 223104\n",
      "Train step: 996\n",
      "Samples: 223104 : 223328\n"
     ]
    },
    {
     "name": "stderr",
     "output_type": "stream",
     "text": [
      "100%|██████████| 1000/1000 [01:33<00:00, 10.75it/s]"
     ]
    },
    {
     "name": "stdout",
     "output_type": "stream",
     "text": [
      "Train step: 997\n",
      "Samples: 223328 : 223552\n",
      "Train step: 998\n",
      "Samples: 223552 : 223776\n",
      "Train step: 999\n",
      "Samples: 223776 : 224000\n"
     ]
    },
    {
     "name": "stderr",
     "output_type": "stream",
     "text": [
      "\n"
     ]
    }
   ],
   "source": [
    "tfds_i = iter(tfds)\n",
    "ntakes = 1000\n",
    "sh_ok = (32, 96, 120,9)\n",
    "\n",
    "for i in tqdm(range(ntakes)):\n",
    "    print(f\"Train step: {i:d}\")\n",
    "    print(\"Samples: {0:d} : {1:d}\".format(i*224, (i+1)*224))\n",
    "    batch_in, batch_tar = tfds_i.get_next()\n",
    "    for j in range(7):\n",
    "        ist, ie = j * 32, (j + 1) * 32\n",
    "        assert np.shape(batch_in[ist:ie, ...]) == sh_ok, \"Incomplete batch. Expected: ({0}), got: ({1})\".format(\",\".join(str(x) for x in sh_ok), \n",
    "                                                                                                                \",\".join(str(x) for x in np.shape(batch_in[ist:ie,...])))\n"
   ]
  },
  {
   "cell_type": "code",
   "execution_count": 43,
   "id": "62890859-c28a-44fa-97ca-ad1838467ab6",
   "metadata": {},
   "outputs": [
    {
     "name": "stdout",
     "output_type": "stream",
     "text": [
      "34944\n"
     ]
    }
   ],
   "source": [
    "print(156*7*32)"
   ]
  },
  {
   "cell_type": "code",
   "execution_count": 52,
   "id": "b9720757-2721-4361-a056-5963ee22b3ef",
   "metadata": {},
   "outputs": [
    {
     "data": {
      "text/plain": [
       "-2"
      ]
     },
     "execution_count": 52,
     "metadata": {},
     "output_type": "execute_result"
    }
   ],
   "source": [
    "#len(list(tfds))\n",
    "\n",
    "tfds.cardinality().numpy()"
   ]
  },
  {
   "cell_type": "code",
   "execution_count": 66,
   "id": "9198b6a3-4fb5-4039-a70a-16e2f318b06d",
   "metadata": {},
   "outputs": [],
   "source": [
    "# 2022-09-16: Test embedding implementation for Keras model"
   ]
  },
  {
   "cell_type": "code",
   "execution_count": 66,
   "id": "fef89b39-d162-49ec-b084-4dd276a1ae71",
   "metadata": {},
   "outputs": [],
   "source": [
    "from tensorflow.keras.layers import (Concatenate, Input, Dense, CategoryEncoding, Reshape, MaxPool2D, RepeatVector)\n",
    "from tensorflow.keras.models import Model\n",
    "import tensorflow as tf\n",
    "import numpy as np"
   ]
  },
  {
   "cell_type": "code",
   "execution_count": 27,
   "id": "4830965e-9a32-4233-ac36-e5a661b314fb",
   "metadata": {},
   "outputs": [],
   "source": [
    "input_shape = (120, 96, 9)\n",
    "embed_shape = [[24], [12]]\n",
    "\n",
    "l_embed = True"
   ]
  },
  {
   "cell_type": "code",
   "execution_count": 79,
   "id": "1916ef92-97bf-49f5-b3dd-fdd7007c03b9",
   "metadata": {},
   "outputs": [
    {
     "name": "stdout",
     "output_type": "stream",
     "text": [
      "[<KerasTensor: shape=(None, 24) dtype=float32 (created by layer 'input_85')>, <KerasTensor: shape=(None, 12) dtype=float32 (created by layer 'input_86')>]\n",
      "11520\n"
     ]
    }
   ],
   "source": [
    "if l_embed:\n",
    "    n_nodes = np.prod(input_shape[:-1])\n",
    "    tar_dim = tuple(list(input_shape[:-1]) + [1])\n",
    "    \n",
    "    embed_vec_in = [Input(shape=i) for i in embed_shape]\n",
    "    \n",
    "    # project embedding to scalar value\n",
    "    embed_vec_proj = [Dense(1)(i) for i in embed_vec_in]\n",
    "    # repeat and reshape to match input-data for concatenation\n",
    "    embed_vec_proj = [RepeatVector(int(n_nodes))(i) for i in embed_vec_proj]\n",
    "    embed_vec_proj = [Reshape(tar_dim)(i) for i in embed_vec_proj]\n",
    "    \n",
    "inputs = Input(input_shape)    \n",
    "\n",
    "if l_embed:\n",
    "    merge_list = [inputs] + [embed for embed in embed_vec_proj]\n",
    "    \n",
    "    merge = Concatenate()(merge_list)\n",
    "    #merge = Concatenate()([inputs, li_h, li_m])\n",
    "else:\n",
    "    print(\"No concat\")\n",
    "    merge = inputs\n",
    "\n",
    "out = MaxPool2D((2,2))(merge)"
   ]
  },
  {
   "cell_type": "code",
   "execution_count": 80,
   "id": "282afe9d-2e65-4229-b23d-85d7622ee89a",
   "metadata": {},
   "outputs": [],
   "source": [
    "#model = Model(inputs, out, name=\"t2m_downscaling_unet\")\n",
    "all_inputs = [inputs] + [input_embed for input_embed in embed_vec_in]\n",
    "model = Model(all_inputs, out, name=\"t2m_downscaling_unet\")\n",
    "#model = Model([inputs, in_embed_hour, in_embed_month], out, name=\"t2m_downscaling_unet\")"
   ]
  },
  {
   "cell_type": "code",
   "execution_count": 81,
   "id": "1f8dac9f-3bae-4698-92e6-604052bed069",
   "metadata": {},
   "outputs": [
    {
     "name": "stdout",
     "output_type": "stream",
     "text": [
      "Model: \"t2m_downscaling_unet\"\n",
      "__________________________________________________________________________________________________\n",
      "Layer (type)                    Output Shape         Param #     Connected to                     \n",
      "==================================================================================================\n",
      "input_85 (InputLayer)           [(None, 24)]         0                                            \n",
      "__________________________________________________________________________________________________\n",
      "input_86 (InputLayer)           [(None, 12)]         0                                            \n",
      "__________________________________________________________________________________________________\n",
      "dense_65 (Dense)                (None, 1)            25          input_85[0][0]                   \n",
      "__________________________________________________________________________________________________\n",
      "dense_66 (Dense)                (None, 1)            13          input_86[0][0]                   \n",
      "__________________________________________________________________________________________________\n",
      "repeat_vector_14 (RepeatVector) (None, 11520, 1)     0           dense_65[0][0]                   \n",
      "__________________________________________________________________________________________________\n",
      "repeat_vector_15 (RepeatVector) (None, 11520, 1)     0           dense_66[0][0]                   \n",
      "__________________________________________________________________________________________________\n",
      "input_87 (InputLayer)           [(None, 120, 96, 9)] 0                                            \n",
      "__________________________________________________________________________________________________\n",
      "reshape_33 (Reshape)            (None, 120, 96, 1)   0           repeat_vector_14[0][0]           \n",
      "__________________________________________________________________________________________________\n",
      "reshape_34 (Reshape)            (None, 120, 96, 1)   0           repeat_vector_15[0][0]           \n",
      "__________________________________________________________________________________________________\n",
      "concatenate_15 (Concatenate)    (None, 120, 96, 11)  0           input_87[0][0]                   \n",
      "                                                                 reshape_33[0][0]                 \n",
      "                                                                 reshape_34[0][0]                 \n",
      "__________________________________________________________________________________________________\n",
      "max_pooling2d_15 (MaxPooling2D) (None, 60, 48, 11)   0           concatenate_15[0][0]             \n",
      "==================================================================================================\n",
      "Total params: 38\n",
      "Trainable params: 38\n",
      "Non-trainable params: 0\n",
      "__________________________________________________________________________________________________\n",
      "None\n"
     ]
    }
   ],
   "source": [
    "print(model.summary())"
   ]
  },
  {
   "cell_type": "markdown",
   "id": "0d55ee7e-08ab-495b-a6d2-cf576e997081",
   "metadata": {},
   "source": [
    "# 2022-09-16: Test creation of TF dataset with embedding"
   ]
  },
  {
   "cell_type": "code",
   "execution_count": 92,
   "id": "0df360eb-6f06-42c4-a9b4-91525784f5f8",
   "metadata": {},
   "outputs": [],
   "source": [
    "import os\n",
    "import xarray as xr\n",
    "import tensorflow as tf\n",
    "from tensorflow.keras.utils import to_categorical as OneHotEncoder\n",
    "import pandas as pd\n",
    "\n",
    "def reshape_ds(ds):\n",
    "    \"\"\"\n",
    "    Convert a xarray dataset to a data-array where the variables will constitute the last dimension (channel last)\n",
    "    :param ds: the xarray dataset with dimensions (dims)\n",
    "    :return da: the data-array with dimensions (dims, variables)\n",
    "    \"\"\"\n",
    "    da = ds.to_array(dim=\"variables\")\n",
    "    da = da.transpose(..., \"variables\")\n",
    "    return da\n",
    "\n",
    "def split_in_tar(da: xr.DataArray, target_var: str = \"t2m\") -> (xr.DataArray, xr.DataArray):\n",
    "    \"\"\"\n",
    "    Split data array with variables-dimension into input and target data for downscaling.\n",
    "    :param da: The unsplitted data array.\n",
    "    :param target_var: Name of target variable which should consttute the first channel\n",
    "    :return: The splitted data array.\n",
    "    \"\"\"\n",
    "    invars = [var for var in da[\"variables\"].values if var.endswith(\"_in\")]\n",
    "    tarvars = [var for var in da[\"variables\"].values if var.endswith(\"_tar\")]\n",
    "\n",
    "    # ensure that ds_tar has a channel coordinate even in case of single target variable\n",
    "    roll = False\n",
    "    if len(tarvars) == 1:\n",
    "        sl_tarvars = tarvars\n",
    "    else:\n",
    "        sl_tarvars = slice(*tarvars)\n",
    "        if tarvars[0] != target_var:     # ensure that target variable appears as first channel\n",
    "            roll = True\n",
    "\n",
    "    da_in, da_tar = da.sel({\"variables\": invars}), da.sel(variables=sl_tarvars)\n",
    "    if roll: da_tar = da_tar.roll(variables=1, roll_coords=True)\n",
    "\n",
    "    return da_in, da_tar"
   ]
  },
  {
   "cell_type": "code",
   "execution_count": 102,
   "id": "8f2d2533-8552-4d70-8891-b368b7d8bd46",
   "metadata": {},
   "outputs": [],
   "source": [
    "datadir = \"/p/scratch/deepacf/maelstrom/maelstrom_data/ap5_michael/preprocessed_era5_crea6/netcdf_data/all_files\"\n",
    "nc_fname = \"preproc_era5_crea6_val.nc\"\n",
    "\n",
    "nc_file = os.path.join(datadir, nc_fname)\n",
    "\n",
    "ds = xr.open_dataset(nc_file)\n",
    "da = reshape_ds(ds)"
   ]
  },
  {
   "cell_type": "code",
   "execution_count": 117,
   "id": "1ebd62d3-99a9-4d14-9a53-abb6196bf15f",
   "metadata": {},
   "outputs": [],
   "source": [
    "def make_tf_dataset(da: xr.DataArray, batch_size: int = 32, lshuffle: bool = True, shuffle_samples: int = 20000,\n",
    "                    named_targets: bool = False, var_tar2in: str = None,\n",
    "                    lembed_date: bool = True) -> tf.data.Dataset:\n",
    "\n",
    "    da = da.load()\n",
    "    da_in, da_tar = split_in_tar(da)\n",
    "    if var_tar2in is not None:\n",
    "        da_in = xr.concat([da_in, da_tar.sel({\"variables\": var_tar2in})], \"variables\")\n",
    "\n",
    "    varnames_tar = da_tar[\"variables\"].values\n",
    "    \n",
    "    def gen_named(darr_in, darr_tar, lt_embed: bool = False):\n",
    "        \"\"\"\n",
    "        Generator with named output streams (as dictionary).\n",
    "        \"\"\"            \n",
    "        ntimes = len(darr_in[\"time\"])\n",
    "        for t in range(ntimes):\n",
    "            tar_now = darr_tar.isel({\"time\": t})\n",
    "            time = darr_in.isel({\"time\": t})[\"time\"].values\n",
    "            all_streams = [darr_in.isel({\"time\": t}).values, \n",
    "                           {var: tar_now.sel({\"variables\": var}).values for var in varnames_tar}]\n",
    "            if lt_embed:\n",
    "                time_embeds = get_date_embeds(pd.to_datetime(time))\n",
    "                all_streams = all_streams + time_embeds \n",
    "            yield tuple(all_streams)\n",
    "        \n",
    "    def gen_unnamed(darr_in, darr_tar, lt_embed: bool = False):\n",
    "        \"\"\"\n",
    "        Generator with unnamed output-streams\n",
    "        \"\"\"\n",
    "        ntimes = len(darr_in[\"time\"])\n",
    "        for t in range(ntimes):\n",
    "            time = darr_in.isel({\"time\": t})[\"time\"].values\n",
    "            all_streams = [darr_in.isel({\"time\": t}).values, darr_tar.isel({\"time\": t}).values]\n",
    "            if lt_embed:\n",
    "                time_embeds = get_date_embeds(pd.to_datetime(time))\n",
    "                all_streams = all_streams + time_embeds \n",
    "\n",
    "            yield tuple(all_streams)\n",
    "\n",
    "    def get_date_embeds(dt_obj):\n",
    "        \"\"\"\n",
    "        Create one-hot-encoding for month and hour of the day\n",
    "        \"\"\"\n",
    "        hour, month = dt_obj.hour, dt_obj.month - 1\n",
    "        date_embed = [OneHotEncoder(month, 12), OneHotEncoder(hour, 24)]\n",
    "\n",
    "        return date_embed\n",
    "\n",
    "    if named_targets is True:\n",
    "        gen_now = gen_named\n",
    "    else:\n",
    "        gen_now = gen_unnamed\n",
    "        \n",
    "    # create output signatures from first sample\n",
    "    s0 = next(iter(gen_now(da_in, da_tar, lembed_date)))\n",
    "    sample_spec_in = tf.TensorSpec(s0[0].shape, dtype=s0[0].dtype)\n",
    "    if named_targets is True:\n",
    "        sample_spec_tar = {var: tf.TensorSpec(s0[1][var].shape, dtype=s0[1][var].dtype) for var in varnames_tar}\n",
    "    else:\n",
    "        sample_spec_tar = tf.TensorSpec(s0[1].shape, dtype=s0[1].dtype)\n",
    "\n",
    "    # re-instantiate the generator and build TF dataset\n",
    "    gen_train = gen_now(da_in, da_tar, lembed_date)\n",
    "\n",
    "    if lembed_date is True:\n",
    "        sample_spec_embed = [tf.TensorSpec(s0[i].shape, dtype=s0[i].dtype) for i in np.arange(2,4)]\n",
    "        sample_spec_all = [sample_spec_in, sample_spec_tar] + sample_spec_embed\n",
    "\n",
    "    else:\n",
    "        sample_spec_all =  [sample_spec_in, sample_spec_tar]\n",
    "\n",
    "    data_iter = tf.data.Dataset.from_generator(lambda: gen_train,\n",
    "                                               output_signature=tuple(sample_spec_all))\n",
    "            \n",
    "    return data_iter"
   ]
  },
  {
   "cell_type": "code",
   "execution_count": 119,
   "id": "3919ba73-4ca0-444d-a3f9-f0eea48fd8be",
   "metadata": {},
   "outputs": [
    {
     "name": "stdout",
     "output_type": "stream",
     "text": [
      "<FlatMapDataset shapes: ((96, 120, 9), {t_2m_tar: (96, 120), hsurf_tar: (96, 120)}, (12,), (24,)), types: (tf.float64, {t_2m_tar: tf.float64, hsurf_tar: tf.float64}, tf.float32, tf.float32)>\n"
     ]
    }
   ],
   "source": [
    "dsf511 = make_tf_dataset(da, lembed_date=True, named_targets=True)\n",
    "\n",
    "print(dsf)"
   ]
  },
  {
   "cell_type": "code",
   "execution_count": null,
   "id": "24f9757c-7d2e-4e37-b435-a441a8e79135",
   "metadata": {},
   "outputs": [],
   "source": []
  }
 ],
 "metadata": {
  "kernelspec": {
   "display_name": "langguth1_downscaling_kernel",
   "language": "python",
   "name": "langguth1_downscaling_kernel"
  },
  "language_info": {
   "codemirror_mode": {
    "name": "ipython",
    "version": 3
   },
   "file_extension": ".py",
   "mimetype": "text/x-python",
   "name": "python",
   "nbconvert_exporter": "python",
   "pygments_lexer": "ipython3",
   "version": "3.9.6"
  }
 },
 "nbformat": 4,
 "nbformat_minor": 5
}
