{
 "cells": [
  {
   "cell_type": "code",
   "execution_count": 1,
   "id": "c88aecac",
   "metadata": {},
   "outputs": [],
   "source": [
    "import tensorflow as tf\n",
    "import time\n",
    "import multiprocessing\n",
    "import numpy as np"
   ]
  },
  {
   "cell_type": "code",
   "execution_count": 2,
   "id": "5a524752",
   "metadata": {},
   "outputs": [],
   "source": [
    "class MyTest():\n",
    "    def __init__(self, thread_pool_size=4):\n",
    "        self.a=[np.ones((2,2), dtype=np.float32) * i for i in range(1000)]\n",
    "        self.pool = multiprocessing.pool.ThreadPool(thread_pool_size)\n",
    "    def __len__(self):\n",
    "        return len(self.a)\n",
    "    def __getitem__(self, i):\n",
    "        #print(\"loading \", i)\n",
    "        time.sleep(0.02)\n",
    "        return self.a[i]\n",
    "    def getitems(self, indices):\n",
    "        return np.array(self.pool.map(self.__getitem__ ,indices))\n"
   ]
  },
  {
   "cell_type": "code",
   "execution_count": 3,
   "id": "8ac711a2",
   "metadata": {},
   "outputs": [
    {
     "name": "stdout",
     "output_type": "stream",
     "text": [
      "267 ms ± 2.82 ms per loop (mean ± std. dev. of 7 runs, 1 loop each)\n"
     ]
    }
   ],
   "source": [
    "%%timeit\n",
    "t=MyTest(10)\n",
    "a=t.getitems(list(range(100)))"
   ]
  },
  {
   "cell_type": "code",
   "execution_count": 3,
   "id": "552a7379",
   "metadata": {},
   "outputs": [],
   "source": [
    "t=MyTest(10)\n",
    "tf_fun=lambda i: tf.numpy_function(t.__getitem__, [i] , tf.float32 )"
   ]
  },
  {
   "cell_type": "code",
   "execution_count": null,
   "id": "be801a7e",
   "metadata": {},
   "outputs": [
    {
     "name": "stderr",
     "output_type": "stream",
     "text": [
      "2022-08-11 09:20:48.680492: E tensorflow/stream_executor/cuda/cuda_driver.cc:271] failed call to cuInit: CUDA_ERROR_NO_DEVICE: no CUDA-capable device is detected\n",
      "2022-08-11 09:20:48.680602: I tensorflow/stream_executor/cuda/cuda_diagnostics.cc:156] kernel driver does not appear to be running on this host (jwc02n186.juwels): /proc/driver/nvidia/version does not exist\n",
      "2022-08-11 09:20:48.682073: I tensorflow/core/platform/cpu_feature_guard.cc:142] This TensorFlow binary is optimized with oneAPI Deep Neural Network Library (oneDNN) to use the following CPU instructions in performance-critical operations:  AVX512F\n",
      "To enable them in other operations, rebuild TensorFlow with the appropriate compiler flags.\n",
      "2022-08-11 09:20:49.177910: I tensorflow/compiler/mlir/mlir_graph_optimization_pass.cc:185] None of the MLIR Optimization Passes are enabled (registered 2)\n"
     ]
    }
   ],
   "source": [
    "%%timeit\n",
    "ds=tf.data.Dataset.range(100).map(tf_fun)\n",
    "for x in ds:\n",
    "    pass"
   ]
  },
  {
   "cell_type": "code",
   "execution_count": 8,
   "id": "1d8c598c",
   "metadata": {},
   "outputs": [],
   "source": [
    "tf_fun2=lambda i: tf.numpy_function(t.getitems, [i] , tf.float32 )"
   ]
  },
  {
   "cell_type": "code",
   "execution_count": 9,
   "id": "d94ee08d",
   "metadata": {},
   "outputs": [
    {
     "name": "stdout",
     "output_type": "stream",
     "text": [
      "262 ms ± 3.01 ms per loop (mean ± std. dev. of 7 runs, 1 loop each)\n"
     ]
    }
   ],
   "source": [
    "%%timeit\n",
    "ds=tf.data.Dataset.range(100).batch(10).map(tf_fun2).unbatch()\n",
    "for x in ds:\n",
    "    pass"
   ]
  },
  {
   "cell_type": "code",
   "execution_count": null,
   "id": "779bf0f7",
   "metadata": {},
   "outputs": [],
   "source": []
  }
 ],
 "metadata": {
  "kernelspec": {
   "display_name": "langguth1_downscaling_kernel",
   "language": "python",
   "name": "langguth1_downscaling_kernel"
  },
  "language_info": {
   "codemirror_mode": {
    "name": "ipython",
    "version": 3
   },
   "file_extension": ".py",
   "mimetype": "text/x-python",
   "name": "python",
   "nbconvert_exporter": "python",
   "pygments_lexer": "ipython3",
   "version": "3.9.6"
  }
 },
 "nbformat": 4,
 "nbformat_minor": 5
}
