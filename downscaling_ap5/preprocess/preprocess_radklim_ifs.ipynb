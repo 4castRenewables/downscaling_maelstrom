{
 "cells": [
  {
   "cell_type": "code",
   "execution_count": 1,
   "id": "70370e1c-2063-45d6-b3f7-eef8134f709b",
   "metadata": {},
   "outputs": [],
   "source": [
    "import os \n",
    "import sys\n",
    "sys.path.append(\"../utils\")\n",
    "import xarray as xr\n",
    "import pandas as pd\n",
    "from tools_utils import CDO, NCKS, NCAP2"
   ]
  },
  {
   "cell_type": "code",
   "execution_count": 2,
   "id": "7b00f50a-b7f5-439e-878e-7232953e4934",
   "metadata": {},
   "outputs": [
    {
     "name": "stdout",
     "output_type": "stream",
     "text": [
      "8.000, 9.600, 50.001, 51.201\n"
     ]
    }
   ],
   "source": [
    "ifs_dir = \"/p/scratch/deepacf/maelstrom/maelstrom_data/ifs_hres/orig\"\n",
    "radklim_dir = \"/p/scratch/deepacf/deeprain/radklim_process/netcdf/remapped/\"\n",
    "\n",
    "outdir_base = \"/p/scratch/deepacf/maelstrom/maelstrom_data/ap5_michael/preprocessed_era5_radklim\"\n",
    "\n",
    "sf_vars = [\"cp\", \"lsp\", \"cape\", \"tclw\", \"tcwv\", \"sp\",\"tisr\"]\n",
    "pl_vars = [\"u\", \"v\"]#{\"u\": {\"pl\": 70000.}, \"v\": {\"pl\": 70000.}}\n",
    "radklim_vars = \"YW_hourly\"\n",
    "\n",
    "years = [2016]\n",
    "\n",
    "lonlat_box = [8.0, 9.6, 50.001, 51.201]\n",
    "\n",
    "ll_box_str = \"{0:.3f}, {1:.3f}, {2:.3f}, {3:.3f}\".format(*lonlat_box)\n",
    "rd_vars_lower = radklim_vars.lower()\n",
    "\n",
    "print(ll_box_str)"
   ]
  },
  {
   "cell_type": "code",
   "execution_count": 3,
   "id": "2782b812-f171-4284-aff1-885a543fed35",
   "metadata": {},
   "outputs": [
    {
     "ename": "AttributeError",
     "evalue": "'int' object has no attribute 'partition'",
     "output_type": "error",
     "traceback": [
      "\u001b[0;31m---------------------------------------------------------------------------\u001b[0m",
      "\u001b[0;31mAttributeError\u001b[0m                            Traceback (most recent call last)",
      "\u001b[0;32m/tmp/ipykernel_5422/2622024482.py\u001b[0m in \u001b[0;36m<module>\u001b[0;34m\u001b[0m\n\u001b[1;32m      1\u001b[0m \u001b[0;31m# initialize tools\u001b[0m\u001b[0;34m\u001b[0m\u001b[0;34m\u001b[0m\u001b[0;34m\u001b[0m\u001b[0m\n\u001b[0;32m----> 2\u001b[0;31m \u001b[0mcdo\u001b[0m\u001b[0;34m,\u001b[0m \u001b[0mncks\u001b[0m\u001b[0;34m,\u001b[0m \u001b[0mncap2\u001b[0m \u001b[0;34m=\u001b[0m \u001b[0mCDO\u001b[0m\u001b[0;34m(\u001b[0m\u001b[0;34m)\u001b[0m\u001b[0;34m,\u001b[0m \u001b[0mNCKS\u001b[0m\u001b[0;34m(\u001b[0m\u001b[0;34m)\u001b[0m\u001b[0;34m,\u001b[0m \u001b[0mncap2\u001b[0m\u001b[0;34m(\u001b[0m\u001b[0;34m)\u001b[0m\u001b[0;34m\u001b[0m\u001b[0;34m\u001b[0m\u001b[0m\n\u001b[0m",
      "\u001b[0;32m/p/project/deepacf/maelstrom/langguth1/downscaling_jsc_repo/downscaling_ap5/utils/tools_utils.py\u001b[0m in \u001b[0;36m__init__\u001b[0;34m(self, **kwargs)\u001b[0m\n\u001b[1;32m    145\u001b[0m         \u001b[0msuper\u001b[0m\u001b[0;34m(\u001b[0m\u001b[0;34m)\u001b[0m\u001b[0;34m.\u001b[0m\u001b[0m__init__\u001b[0m\u001b[0;34m(\u001b[0m\u001b[0;34m\"cdo\"\u001b[0m\u001b[0;34m,\u001b[0m \u001b[0;34m**\u001b[0m\u001b[0mkwargs\u001b[0m\u001b[0;34m)\u001b[0m\u001b[0;34m\u001b[0m\u001b[0;34m\u001b[0m\u001b[0m\n\u001b[1;32m    146\u001b[0m \u001b[0;34m\u001b[0m\u001b[0m\n\u001b[0;32m--> 147\u001b[0;31m         \u001b[0mself\u001b[0m\u001b[0;34m.\u001b[0m\u001b[0mknown_operators\u001b[0m \u001b[0;34m=\u001b[0m \u001b[0mself\u001b[0m\u001b[0;34m.\u001b[0m\u001b[0mset_known_operators\u001b[0m\u001b[0;34m(\u001b[0m\u001b[0;34m)\u001b[0m\u001b[0;34m\u001b[0m\u001b[0;34m\u001b[0m\u001b[0m\n\u001b[0m\u001b[1;32m    148\u001b[0m         \u001b[0mself\u001b[0m\u001b[0;34m.\u001b[0m\u001b[0mdoc_url\u001b[0m \u001b[0;34m=\u001b[0m \u001b[0;34m\"https://code.mpimet.mpg.de/projects/cdo/\"\u001b[0m\u001b[0;34m\u001b[0m\u001b[0;34m\u001b[0m\u001b[0m\n\u001b[1;32m    149\u001b[0m \u001b[0;34m\u001b[0m\u001b[0m\n",
      "\u001b[0;32m/p/project/deepacf/maelstrom/langguth1/downscaling_jsc_repo/downscaling_ap5/utils/tools_utils.py\u001b[0m in \u001b[0;36mset_known_operators\u001b[0;34m(self)\u001b[0m\n\u001b[1;32m    157\u001b[0m             \u001b[0moutput\u001b[0m \u001b[0;34m=\u001b[0m \u001b[0mstr\u001b[0m\u001b[0;34m(\u001b[0m\u001b[0me\u001b[0m\u001b[0;34m.\u001b[0m\u001b[0moutput\u001b[0m\u001b[0;34m)\u001b[0m\u001b[0;34m.\u001b[0m\u001b[0mlstrip\u001b[0m\u001b[0;34m(\u001b[0m\u001b[0;34m\"b\"\u001b[0m\u001b[0;34m)\u001b[0m\u001b[0;34m.\u001b[0m\u001b[0mstrip\u001b[0m\u001b[0;34m(\u001b[0m\u001b[0;34m\"'\"\u001b[0m\u001b[0;34m)\u001b[0m\u001b[0;34m.\u001b[0m\u001b[0msplit\u001b[0m\u001b[0;34m(\u001b[0m\u001b[0;34m\"\\\\n\"\u001b[0m\u001b[0;34m)\u001b[0m\u001b[0;34m\u001b[0m\u001b[0;34m\u001b[0m\u001b[0m\n\u001b[1;32m    158\u001b[0m \u001b[0;34m\u001b[0m\u001b[0m\n\u001b[0;32m--> 159\u001b[0;31m         \u001b[0mknown_operators\u001b[0m \u001b[0;34m=\u001b[0m \u001b[0;34m[\u001b[0m\u001b[0moper\u001b[0m\u001b[0;34m.\u001b[0m\u001b[0mpartition\u001b[0m\u001b[0;34m(\u001b[0m\u001b[0;34m\" \"\u001b[0m\u001b[0;34m)\u001b[0m\u001b[0;34m[\u001b[0m\u001b[0;36m0\u001b[0m\u001b[0;34m]\u001b[0m \u001b[0;32mfor\u001b[0m \u001b[0moper\u001b[0m \u001b[0;32min\u001b[0m \u001b[0moutput\u001b[0m\u001b[0;34m]\u001b[0m\u001b[0;34m\u001b[0m\u001b[0;34m\u001b[0m\u001b[0m\n\u001b[0m\u001b[1;32m    160\u001b[0m         \u001b[0mknown_operators\u001b[0m\u001b[0;34m.\u001b[0m\u001b[0mextend\u001b[0m\u001b[0;34m(\u001b[0m\u001b[0;34m[\u001b[0m\u001b[0;34m\"-f\"\u001b[0m\u001b[0;34m,\u001b[0m \u001b[0;34m\"-z\"\u001b[0m\u001b[0;34m,\u001b[0m \u001b[0;34m\"-v\"\u001b[0m\u001b[0;34m,\u001b[0m \u001b[0;34m\"-V\"\u001b[0m\u001b[0;34m,\u001b[0m \u001b[0;34m\"-O\"\u001b[0m\u001b[0;34m,\u001b[0m \u001b[0;34m\"-s\"\u001b[0m\u001b[0;34m,\u001b[0m \u001b[0;34m\"--eccodes\"\u001b[0m\u001b[0;34m,\u001b[0m \u001b[0;34m\"--reduce_dim\"\u001b[0m\u001b[0;34m]\u001b[0m\u001b[0;34m)\u001b[0m\u001b[0;34m\u001b[0m\u001b[0;34m\u001b[0m\u001b[0m\n\u001b[1;32m    161\u001b[0m \u001b[0;34m\u001b[0m\u001b[0m\n",
      "\u001b[0;32m/p/project/deepacf/maelstrom/langguth1/downscaling_jsc_repo/downscaling_ap5/utils/tools_utils.py\u001b[0m in \u001b[0;36m<listcomp>\u001b[0;34m(.0)\u001b[0m\n\u001b[1;32m    157\u001b[0m             \u001b[0moutput\u001b[0m \u001b[0;34m=\u001b[0m \u001b[0mstr\u001b[0m\u001b[0;34m(\u001b[0m\u001b[0me\u001b[0m\u001b[0;34m.\u001b[0m\u001b[0moutput\u001b[0m\u001b[0;34m)\u001b[0m\u001b[0;34m.\u001b[0m\u001b[0mlstrip\u001b[0m\u001b[0;34m(\u001b[0m\u001b[0;34m\"b\"\u001b[0m\u001b[0;34m)\u001b[0m\u001b[0;34m.\u001b[0m\u001b[0mstrip\u001b[0m\u001b[0;34m(\u001b[0m\u001b[0;34m\"'\"\u001b[0m\u001b[0;34m)\u001b[0m\u001b[0;34m.\u001b[0m\u001b[0msplit\u001b[0m\u001b[0;34m(\u001b[0m\u001b[0;34m\"\\\\n\"\u001b[0m\u001b[0;34m)\u001b[0m\u001b[0;34m\u001b[0m\u001b[0;34m\u001b[0m\u001b[0m\n\u001b[1;32m    158\u001b[0m \u001b[0;34m\u001b[0m\u001b[0m\n\u001b[0;32m--> 159\u001b[0;31m         \u001b[0mknown_operators\u001b[0m \u001b[0;34m=\u001b[0m \u001b[0;34m[\u001b[0m\u001b[0moper\u001b[0m\u001b[0;34m.\u001b[0m\u001b[0mpartition\u001b[0m\u001b[0;34m(\u001b[0m\u001b[0;34m\" \"\u001b[0m\u001b[0;34m)\u001b[0m\u001b[0;34m[\u001b[0m\u001b[0;36m0\u001b[0m\u001b[0;34m]\u001b[0m \u001b[0;32mfor\u001b[0m \u001b[0moper\u001b[0m \u001b[0;32min\u001b[0m \u001b[0moutput\u001b[0m\u001b[0;34m]\u001b[0m\u001b[0;34m\u001b[0m\u001b[0;34m\u001b[0m\u001b[0m\n\u001b[0m\u001b[1;32m    160\u001b[0m         \u001b[0mknown_operators\u001b[0m\u001b[0;34m.\u001b[0m\u001b[0mextend\u001b[0m\u001b[0;34m(\u001b[0m\u001b[0;34m[\u001b[0m\u001b[0;34m\"-f\"\u001b[0m\u001b[0;34m,\u001b[0m \u001b[0;34m\"-z\"\u001b[0m\u001b[0;34m,\u001b[0m \u001b[0;34m\"-v\"\u001b[0m\u001b[0;34m,\u001b[0m \u001b[0;34m\"-V\"\u001b[0m\u001b[0;34m,\u001b[0m \u001b[0;34m\"-O\"\u001b[0m\u001b[0;34m,\u001b[0m \u001b[0;34m\"-s\"\u001b[0m\u001b[0;34m,\u001b[0m \u001b[0;34m\"--eccodes\"\u001b[0m\u001b[0;34m,\u001b[0m \u001b[0;34m\"--reduce_dim\"\u001b[0m\u001b[0;34m]\u001b[0m\u001b[0;34m)\u001b[0m\u001b[0;34m\u001b[0m\u001b[0;34m\u001b[0m\u001b[0m\n\u001b[1;32m    161\u001b[0m \u001b[0;34m\u001b[0m\u001b[0m\n",
      "\u001b[0;31mAttributeError\u001b[0m: 'int' object has no attribute 'partition'"
     ]
    }
   ],
   "source": [
    "# initialize tools\n",
    "cdo, ncks, ncap2 = CDO(), NCKS(), ncap2()"
   ]
  },
  {
   "cell_type": "code",
   "execution_count": null,
   "id": "c074b6a9-82ba-4e45-b31e-573b6768654d",
   "metadata": {},
   "outputs": [],
   "source": [
    "print(xr.__file__)"
   ]
  },
  {
   "cell_type": "code",
   "execution_count": null,
   "id": "279764dc-549d-4d8a-916b-6981a39c0957",
   "metadata": {},
   "outputs": [],
   "source": [
    "for yr in years:\n",
    "    for m in range(1, 13):\n",
    "        # create output directory incl. tmp\n",
    "        outdir = os.path.join(outdir_base, \"{0:d}-{1:0d}\".format(yr, mm))\n",
    "        outdir_tmp = os.path.join(outdir, \"tmp\")\n",
    "        os.makedirs(outdir, exist_ok=True)\n",
    "        os.makedirs(outdir_tmp, exist_ok=True)\n",
    "        \n",
    "        # get current IFS forecast directory\n",
    "        dirr_curr_ifs = os.path.join(ifs_data_dir, \"{0:d}/{0:d}-{1:0d}\".format(yr, mm))\n",
    "        \n",
    "        # construct time-arrays for which data is required\n",
    "        ld = last_day_of_month(dt.datetime.strptime(\"{0:d}{1:0d}01\", \"%Y%m%d\"))\n",
    "        init_runs = pd.date_range(\"{0:d}-{1:0d}-01\".format(yr, mm),\n",
    "                                  \"{0:d}-{1:0d}-{3:d} 12:00\".format(yr, mm, ld), freq=\"12H\")\n",
    "        radklim_dates = pd.date_range(init_runs[0] + dt.timedelta(hours=6), init_runs + dt.timedelta(hours=6),\n",
    "                                      freq=\"1H\")\n",
    "        # loop over all IFS forecast-files\n",
    "        for ir in init_runs:\n",
    "            ifs_sf_file = os.path.join(dirr_curr_ifs, \"sfc_{0}.nc\".format(ir.strftime(\"%Y%m%d_%H\")))\n",
    "            sf_file_out = os.path.join(outdir, \"sfc_{0}.nc\".format(ir.strftime(\"%Y%m%d%H\")))\n",
    "            \n",
    "            ifs_pl_file, pl_file_out = ifs_sf_file.replace(\"sfc\", \"pl\"), sf_file_out(\"sfc\", \"pl\")\n",
    "            \n",
    "            cdo.run([ifs_sf_file, sf_file_out], OrderedDict([(\"-selname\", \",\".join(sf_vars)), (\"-sellonlatbox\", ll_box_str), \n",
    "                                                             (\"-seltimestep\", \"6/17\")]))\n",
    "            cdo.run([ifs_pl_file, pl_file_out], OrderedDict([(\"-selname\", \",\".join(pl_vars)), (\"-sellonlatbox\", ll_box_str), \n",
    "                                                             (\"-seltimestep\", \"6/17\"), (\"-sellevel\", \"70000.\")]))\n",
    "        # merge IFS forecast-files \n",
    "        all_sf_files, all_pl_files = glob.glob(os.path.join(outdir, \"sfc_*.nc\")), glob.glob(os.path.join(outdir, \"pl_*.nc\"))\n",
    "        sf_file = os.path.join(outdir, \"sf_{0}.nc\".format(ir.strftime(\"%Y-%m\")))\n",
    "        pl_file = sf_file.replace(\"sf_\", \"pl_\")\n",
    "                                                        \n",
    "        cdo.run(all_sf_files + [sf_file], OrderedDict([(\"mergetime\", \"\")]))\n",
    "        cdo.run(all_pl_files + [pl_file], OrderedDict([(\"mergetime\", \"\")]))\n",
    "        \n",
    "        # loop over all corresponding RADKLIM timesteps\n",
    "        for rd in radklim_dates:\n",
    "            yr_now, mm_now, dd_now, hh_now = rd.strptime(\"%Y\"), rd.strptime(\"%m\"), rd.strptime(\"%d\"), rd.strptime(\"%H\")\n",
    "            \n",
    "            curr_file_lres = os.path.join(radlim_dir, \"radklim_reg_lres\", rd_vars_lower, yr_now,\n",
    "                                          \"{0}-{1}\".format(yr_now, mm_now),\n",
    "                                          \"{0}_remapped_radklim_reg_lres_{1}.nc\".format(radklim_var, rd.strftime(\"%Y-%m-%d\")))\n",
    "            file_lres_out = os.path.join(outdir, \"radklim_lres_{0}.nc\".format(rd.strftime(\"%Y%m%d%H\")))\n",
    "            \n",
    "            curr_file_hres = curr_file_lres.replace(\"radklim_reg_lres\", \"radklim_reg_hres\")\n",
    "            file_hres_out = file_lres_out.replace(\"reg_lres\", \"reg_hres\")\n",
    "            \n",
    "            rd_dict_cdo = OrderedDict([(\"-L\", \"\"), (\"-seltimestep\", rd.strftime(\"%H\")), (\"-selname\", rd_vars_lower),\n",
    "                                       (\"-sellonlatbox\", ll_box_str)])\n",
    "            cdo.run([curr_file_lres, file_lres_out], rd_dict_cdo)\n",
    "            cdo.run([curr_file_hres, file_hres_out], rd_dict_cdo)\n",
    "            \n",
    "        # merge all RADKLIM files  \n",
    "        all_rd_lres_files = glob.glob(os.path.join(outdir, \"radklim_lres_*.nc\"))\n",
    "        all_rd_hres_files = glob.glob(os.path.join(outdir, \"radklim_hres_*.nc\"))\n",
    "        \n",
    "        rd_lres_file = os.path.join(outdir, \"radklim_lres_{0}.nc\".format(ir.strftime(\"%Y-%m\")))\n",
    "        rd_hres_file = rd_lres_file.replace(\"_lres_\", \"_hres_\")\n",
    "        \n",
    "        cdo.run(all_rd_lres_files + [rd_lres_file], OrderedDict([(\"mergetime\", \"\")]))\n",
    "        cdo.run(all_rd_hres_files + [rd_hres_file], OrderedDict([(\"mergetime\", \"\")]))\n",
    "                                          \n",
    "\n",
    "        "
   ]
  },
  {
   "cell_type": "code",
   "execution_count": null,
   "id": "dac3c7e5-4fae-4b8c-a62d-838a0dcda209",
   "metadata": {},
   "outputs": [],
   "source": [
    "        "
   ]
  }
 ],
 "metadata": {
  "kernelspec": {
   "display_name": "jup_kernel_maelstrom",
   "language": "python",
   "name": "jup_kernel_maelstrom"
  },
  "language_info": {
   "codemirror_mode": {
    "name": "ipython",
    "version": 3
   },
   "file_extension": ".py",
   "mimetype": "text/x-python",
   "name": "python",
   "nbconvert_exporter": "python",
   "pygments_lexer": "ipython3",
   "version": "3.8.5"
  }
 },
 "nbformat": 4,
 "nbformat_minor": 5
}
