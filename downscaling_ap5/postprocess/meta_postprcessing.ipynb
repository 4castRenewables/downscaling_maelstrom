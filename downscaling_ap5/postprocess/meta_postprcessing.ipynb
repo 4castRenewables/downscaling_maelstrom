{
 "cells": [
  {
   "cell_type": "code",
   "execution_count": null,
   "id": "4a57bc6b-34a9-4782-968f-f2dd55ec3f0f",
   "metadata": {},
   "outputs": [],
   "source": [
    " %matplotlib inline\n",
    "\n",
    "import os, sys\n",
    "sys.path.extend([\"../models\", \"../utils\", \"../handle_data\"])\n",
    "import numpy as np\n",
    "import xarray as xr\n",
    "import pandas as pd\n",
    "from statistical_evaluation import Scores\n",
    "from statistical_evaluation import perform_block_bootstrap_metric as bootstrapping\n",
    "# for plotting\n",
    "import matplotlib as mpl\n",
    "import matplotlib.pyplot as plt"
   ]
  },
  {
   "cell_type": "code",
   "execution_count": null,
   "id": "c18994cc-3aec-4a6b-be87-3c80351f9b33",
   "metadata": {},
   "outputs": [],
   "source": [
    "results_base_dir = \"../results\"\n",
    "exps_eval = [\"unet_new_t2m\", \"wgan_new_t2m\", \"deepru_t2m_new\"]\n",
    "nboots = 1000\n",
    "\n",
    "plt_fname = \"rmse_meta_postprocessing.png\""
   ]
  },
  {
   "cell_type": "code",
   "execution_count": null,
   "id": "5b759b6a-5b1b-4a79-b550-83e428852392",
   "metadata": {},
   "outputs": [],
   "source": [
    "nexps = len(exps_eval)\n",
    "\n",
    "rmse_avg = xr.DataArray(np.zeros(nexps), coords={\"experiment\": exps_eval}, dims=\"experiment\")\n",
    "rmse_boot = xr.DataArray(np.zeros(nexps*nboots).reshape(nexps, nboots),\n",
    "                         coords={\"experiment\": exps_eval, \"iboot\": np.arange(nboots)},\n",
    "                         dims=[\"experiment\", \"iboot\"])"
   ]
  },
  {
   "cell_type": "code",
   "execution_count": null,
   "id": "66060109-fd55-4400-850a-6df773b6c4ac",
   "metadata": {},
   "outputs": [],
   "source": [
    "for i, exp in enumerate(exps_eval):\n",
    "    ds = xr.open_dataset(os.path.join(results_base_dir, exps_eval[i], \"postprocessed_ds_test.nc\"))\n",
    "    score_engine = Scores(ds[\"t_2m_tar_fcst\"], ds[\"t_2m_tar_ref\"], [\"rlat\", \"rlon\"])\n",
    "    rmse_tall_exp = score_engine(\"rmse\")\n",
    "    rmse_avg[i], rmse_boot[i,:] = rmse_tall_exp.mean(), bootstrapping(rmse_tall_exp, \"time\", 120)"
   ]
  },
  {
   "cell_type": "code",
   "execution_count": null,
   "id": "5637d942-6c56-4b68-abaf-97912c05b7d8",
   "metadata": {},
   "outputs": [],
   "source": [
    "fs = 16\n",
    "\n",
    "# create figure\n",
    "fig, ax = plt.subplots(1, 1)\n",
    "# create box-plot\n",
    "bp = ax.boxplot(rmse_boot.T, labels=[\"U-Net (Sha)\", \"WGAN (Sha)\", \"DeepRU\"], patch_artist=True)\n",
    "# configure plot\n",
    "ax.set_ylim(0.8, 1.4)\n",
    "\n",
    "ax.set_title(\"\")\n",
    "ax.set_ylabel(\"RMSE\", fontsize=fs)\n",
    "ax.tick_params(axis=\"both\", which=\"both\", direction=\"out\", labelsize=fs-2)\n",
    "\n",
    "colors = ['pink', 'lightblue', 'lightgreen']\n",
    "for patch, color in zip(bp['boxes'], colors):\n",
    "    patch.set_facecolor(color)\n",
    "    \n",
    "for median in bp['medians']:\n",
    "    median.set_color('black')\n",
    "    median.set_linewidth(2.)\n",
    "    \n",
    "fig.savefig(plt_fname, bbox_inches=\"tight\")\n",
    "plt.tight_layout()\n",
    "fig.savefig(plt_fname)\n",
    "plt.close(fig)"
   ]
  },
  {
   "cell_type": "code",
   "execution_count": null,
   "id": "f2199f67-c9f3-4a54-9fa4-a7ac0f0a87da",
   "metadata": {},
   "outputs": [],
   "source": []
  }
 ],
 "metadata": {
  "kernelspec": {
   "display_name": "langguth1_downscaling_kernel_juwels",
   "language": "python",
   "name": "langguth1_downscaling_kernel_juwels"
  },
  "language_info": {
   "codemirror_mode": {
    "name": "ipython",
    "version": 3
   },
   "file_extension": ".py",
   "mimetype": "text/x-python",
   "name": "python",
   "nbconvert_exporter": "python",
   "pygments_lexer": "ipython3",
   "version": "3.9.6"
  }
 },
 "nbformat": 4,
 "nbformat_minor": 5
}
